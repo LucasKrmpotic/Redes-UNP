{
 "cells": [
  {
   "cell_type": "markdown",
   "metadata": {},
   "source": [
    "# Trabajo de Laboratorio 1\n",
    "## Capa de Aplicación"
   ]
  },
  {
   "cell_type": "markdown",
   "metadata": {},
   "source": [
    "### Parte 1: HTTP - Telnet - SMTP\n",
    "### HTTP.\n",
    "### Interacciones HTTP básicas."
   ]
  },
  {
   "cell_type": "markdown",
   "metadata": {},
   "source": [
    "*1a.¿Qué versión de HTTP emplea su navegador?*"
   ]
  },
  {
   "cell_type": "markdown",
   "metadata": {},
   "source": [
    "  http 1.1"
   ]
  },
  {
   "cell_type": "markdown",
   "metadata": {},
   "source": [
    "*1b. ¿Qué versión de HTTP ejecuta el servidor?*"
   ]
  },
  {
   "cell_type": "markdown",
   "metadata": {},
   "source": [
    "http 1.1"
   ]
  },
  {
   "cell_type": "markdown",
   "metadata": {},
   "source": [
    "*2a. ¿Qué idiomas indica su navegador al servidor que está dispuesto aceptar en la respuesta?*"
   ]
  },
  {
   "cell_type": "markdown",
   "metadata": {},
   "source": [
    "es"
   ]
  },
  {
   "cell_type": "markdown",
   "metadata": {},
   "source": [
    "*2b. ¿Qué relación tiene esta información con el lenguaje que emplea en su navegador y sistema operativo?*"
   ]
  },
  {
   "cell_type": "markdown",
   "metadata": {},
   "source": []
  },
  {
   "cell_type": "markdown",
   "metadata": {},
   "source": [
    "*3a. ¿Cuál es la dirección IP de su ordenador?*"
   ]
  },
  {
   "cell_type": "markdown",
   "metadata": {},
   "source": [
    "192.168.88.18"
   ]
  },
  {
   "cell_type": "markdown",
   "metadata": {},
   "source": [
    "3b. ¿Y del servidor Web al que está accediendo?"
   ]
  },
  {
   "cell_type": "markdown",
   "metadata": {},
   "source": []
  },
  {
   "cell_type": "markdown",
   "metadata": {},
   "source": [
    "4a. ¿Cuál es el código de estado devuelto a su navegador por el servidor?"
   ]
  },
  {
   "cell_type": "code",
   "execution_count": null,
   "metadata": {},
   "outputs": [],
   "source": []
  },
  {
   "cell_type": "markdown",
   "metadata": {},
   "source": [
    "4b. ¿Cuál es el significado de ese código de estado?"
   ]
  },
  {
   "cell_type": "code",
   "execution_count": null,
   "metadata": {},
   "outputs": [],
   "source": []
  },
  {
   "cell_type": "markdown",
   "metadata": {},
   "source": [
    "5.¿Cuándo fue modificado por última vez el fichero HTML que el servidor te está devolviendo?"
   ]
  },
  {
   "cell_type": "code",
   "execution_count": null,
   "metadata": {},
   "outputs": [],
   "source": []
  },
  {
   "cell_type": "markdown",
   "metadata": {},
   "source": [
    "8.Inspeccione los contenidos de la primera petición GET de su navegador hacia el servidor.\n",
    "¿Observa alguna linea ‘If-Modified-Since’ en la petición GET? Indique el contenido de dicha\n",
    "línea."
   ]
  },
  {
   "cell_type": "code",
   "execution_count": null,
   "metadata": {},
   "outputs": [],
   "source": []
  },
  {
   "cell_type": "markdown",
   "metadata": {},
   "source": [
    "9.Analice el contenido de la respuesta del servidor. ¿Contiene dicha respuesta el fichero\n",
    "HTML que se pedía?"
   ]
  },
  {
   "cell_type": "code",
   "execution_count": null,
   "metadata": {},
   "outputs": [],
   "source": []
  },
  {
   "cell_type": "markdown",
   "metadata": {},
   "source": [
    "10.Ahora analice el contenido de la segunda petición GET desde su navegador al servidor.\n",
    "¿Ve alguna línea ‘If-Modified-Since’ en dicha petición? Si es así, ¿qué información aparece a\n",
    "continuación de dicha cabecera?"
   ]
  },
  {
   "cell_type": "code",
   "execution_count": null,
   "metadata": {},
   "outputs": [],
   "source": []
  },
  {
   "cell_type": "markdown",
   "metadata": {},
   "source": [
    "11.¿Cuál es el código de estado HTTP y el mensaje devuelto por el servidor en respuesta a\n",
    "este segundo GET? ¿Devuelve el servidor explícitamente el contenido del fichero? Explique\n",
    "qué ha sucedido"
   ]
  },
  {
   "cell_type": "code",
   "execution_count": null,
   "metadata": {},
   "outputs": [],
   "source": []
  },
  {
   "cell_type": "markdown",
   "metadata": {},
   "source": [
    "### Descarga de documentos grandes"
   ]
  },
  {
   "cell_type": "markdown",
   "metadata": {},
   "source": [
    "12.¿Cuántos mensajes de petición GET han sido enviados por el navegador?"
   ]
  },
  {
   "cell_type": "code",
   "execution_count": null,
   "metadata": {},
   "outputs": [],
   "source": []
  },
  {
   "cell_type": "markdown",
   "metadata": {},
   "source": [
    "13.¿Cuántos segmentos TCP con datos han sido necesarios para una única respuesta HTTP?"
   ]
  },
  {
   "cell_type": "code",
   "execution_count": null,
   "metadata": {},
   "outputs": [],
   "source": []
  },
  {
   "cell_type": "markdown",
   "metadata": {},
   "source": [
    "14.¿Cuál es el código de estado y el mensaje asociado con la respuesta a la petición GET?"
   ]
  },
  {
   "cell_type": "code",
   "execution_count": null,
   "metadata": {},
   "outputs": [],
   "source": []
  },
  {
   "cell_type": "markdown",
   "metadata": {},
   "source": [
    "### Documentos HTML con Objetos Empotrados"
   ]
  },
  {
   "cell_type": "markdown",
   "metadata": {},
   "source": [
    "15.¿Cuántos mensajes GET ha enviado el navegador? ¿A qué direcciones se han enviado\n",
    "esos mensajes?"
   ]
  },
  {
   "cell_type": "code",
   "execution_count": null,
   "metadata": {},
   "outputs": [],
   "source": []
  },
  {
   "cell_type": "markdown",
   "metadata": {},
   "source": [
    "16.¿Puede determinar si las imágenes han sido descargadas sucesivamente (se pide una\n",
    "imagen, se descarga y después se pide la otra) o en paralelo (se lanzan las dos descargas de\n",
    "forma simultánea?"
   ]
  },
  {
   "cell_type": "code",
   "execution_count": null,
   "metadata": {},
   "outputs": [],
   "source": []
  },
  {
   "cell_type": "markdown",
   "metadata": {},
   "source": [
    "### Autenticación HTTP."
   ]
  },
  {
   "cell_type": "markdown",
   "metadata": {},
   "source": [
    "17.¿Cuál es el código de respuesta y el mensaje del servidor en respuesta al mensaje GET\n",
    "inicial de su navegador?"
   ]
  },
  {
   "cell_type": "code",
   "execution_count": null,
   "metadata": {},
   "outputs": [],
   "source": []
  },
  {
   "cell_type": "markdown",
   "metadata": {},
   "source": [
    "18.Cuando su navegador envía el mensaje HTTP GET por segunda vez, ¿qué nuevo campo\n",
    "se incluye en el mensaje GET?"
   ]
  },
  {
   "cell_type": "code",
   "execution_count": null,
   "metadata": {},
   "outputs": [],
   "source": []
  },
  {
   "cell_type": "markdown",
   "metadata": {},
   "source": [
    "19.Explique la codificación Base64."
   ]
  },
  {
   "cell_type": "code",
   "execution_count": null,
   "metadata": {},
   "outputs": [],
   "source": []
  },
  {
   "cell_type": "markdown",
   "metadata": {},
   "source": [
    "### TELNET AL PUERTO 80."
   ]
  },
  {
   "cell_type": "markdown",
   "metadata": {},
   "source": [
    "20.¿Qué mensaje recibes como respuesta?"
   ]
  },
  {
   "cell_type": "code",
   "execution_count": null,
   "metadata": {},
   "outputs": [],
   "source": []
  },
  {
   "cell_type": "markdown",
   "metadata": {},
   "source": [
    "21.¿Qué mensaje recibes como respuesta ahora?"
   ]
  },
  {
   "cell_type": "code",
   "execution_count": null,
   "metadata": {},
   "outputs": [],
   "source": []
  },
  {
   "cell_type": "code",
   "execution_count": null,
   "metadata": {},
   "outputs": [],
   "source": []
  },
  {
   "cell_type": "code",
   "execution_count": null,
   "metadata": {},
   "outputs": [],
   "source": []
  },
  {
   "cell_type": "code",
   "execution_count": null,
   "metadata": {},
   "outputs": [],
   "source": []
  },
  {
   "cell_type": "code",
   "execution_count": null,
   "metadata": {},
   "outputs": [],
   "source": []
  },
  {
   "cell_type": "code",
   "execution_count": null,
   "metadata": {},
   "outputs": [],
   "source": []
  },
  {
   "cell_type": "code",
   "execution_count": null,
   "metadata": {},
   "outputs": [],
   "source": []
  },
  {
   "cell_type": "code",
   "execution_count": null,
   "metadata": {},
   "outputs": [],
   "source": []
  },
  {
   "cell_type": "code",
   "execution_count": null,
   "metadata": {},
   "outputs": [],
   "source": []
  },
  {
   "cell_type": "code",
   "execution_count": null,
   "metadata": {},
   "outputs": [],
   "source": [
    "%%writefile server.c\n",
    "\n",
    "/* PrimerServidorTCP.c\n",
    "  Servicio: Las cadenas de texto recibidas de un Cliente son enviadas a la salida estándar.\n",
    "  Nota: Por simplicidad del código no se realiza ningún tipo de control de errores. No obstante el servidor es totalmente funcional.\n",
    "*/\n",
    "#include <sys/types.h>\n",
    "#include <sys/socket.h>\n",
    "#include <netinet/in.h>\n",
    "#include <string.h>\n",
    "#include <stdlib.h>\n",
    "#include <stdio.h>\n",
    "\n",
    "#define PORTNUMBER 12345\n",
    "\n",
    "int main(void){\n",
    "    char buf[10];\n",
    "    int s, n, ns, len;\n",
    "    struct sockaddr_in direcc;\n",
    "    s = socket(AF_INET, SOCK_STREAM, 0);\n",
    "\n",
    "    bzero((char *) &direcc, sizeof(direcc));\n",
    "    direcc.sin_family = AF_INET;\n",
    "    direcc.sin_port = htons(PORTNUMBER);\n",
    "    direcc.sin_addr.s_addr = htonl(INADDR_ANY);\n",
    "\n",
    "    len = sizeof(struct sockaddr_in);\n",
    "    bind(s, (struct sockaddr *) &direcc, len);\n",
    "    listen(s, 5);\n",
    "    ns = accept(s, (struct sockaddr *) &direcc, &len);\n",
    "\n",
    "    while ((n = recv(ns, buf, sizeof(buf), 0)) > 0)\n",
    "        write(1, buf, n);\n",
    "\n",
    "     close(ns); close(s);\n",
    "     exit(0);\n",
    "    \n",
    "}"
   ]
  },
  {
   "cell_type": "code",
   "execution_count": null,
   "metadata": {},
   "outputs": [],
   "source": [
    "!gcc server.c -o server"
   ]
  },
  {
   "cell_type": "code",
   "execution_count": null,
   "metadata": {},
   "outputs": [],
   "source": []
  },
  {
   "cell_type": "code",
   "execution_count": null,
   "metadata": {},
   "outputs": [],
   "source": []
  }
 ],
 "metadata": {
  "kernelspec": {
   "display_name": "Python 3",
   "language": "python",
   "name": "python3"
  },
  "language_info": {
   "codemirror_mode": {
    "name": "ipython",
    "version": 3
   },
   "file_extension": ".py",
   "mimetype": "text/x-python",
   "name": "python",
   "nbconvert_exporter": "python",
   "pygments_lexer": "ipython3",
   "version": "3.6.4"
  }
 },
 "nbformat": 4,
 "nbformat_minor": 2
}
