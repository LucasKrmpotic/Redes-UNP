{
 "cells": [
  {
   "cell_type": "markdown",
   "metadata": {},
   "source": [
    "<hr>\n",
    "<h1 style=\"text-align:center;\">Trabajo de Laboratorio 1</h1>\n",
    "<h2 style=\"text-align:center;\">Capa de Aplicación</h2>\n",
    "<hr>"
   ]
  },
  {
   "cell_type": "markdown",
   "metadata": {},
   "source": [
    "## Cátedra: \n",
    "* ### Prof: Mg. Ing. Ricardo López\n",
    "* ### JTP: Lic. Nahuel Defossé\n",
    "\n",
    "## Alumnos: \n",
    "* ### Maximiliano Aguila\n",
    "* ### Lucas Krmpotic\n",
    "<hr>"
   ]
  },
  {
   "cell_type": "markdown",
   "metadata": {},
   "source": [
    "<h1 style=\"text-align:center; margin-bottom:2em;\"> Parte 1: HTTP - Telnet - SMTP</h1>\n",
    "* ## HTTP. Interacciones HTTP básicas."
   ]
  },
  {
   "cell_type": "markdown",
   "metadata": {},
   "source": [
    "### 1a.¿Qué versión de HTTP emplea su navegador?"
   ]
  },
  {
   "cell_type": "markdown",
   "metadata": {},
   "source": [
    "Como puede verse en este [archivo](images/tp1-1.pcapng) en la línea 44 de la captura, el navegador usa http 1.1"
   ]
  },
  {
   "cell_type": "markdown",
   "metadata": {},
   "source": [
    "### 1b. ¿Qué versión de HTTP ejecuta el servidor?"
   ]
  },
  {
   "cell_type": "markdown",
   "metadata": {},
   "source": [
    "La misma captura en la línea 70 muestra que el servidor usa http 1.1"
   ]
  },
  {
   "cell_type": "markdown",
   "metadata": {},
   "source": [
    "### 2a. ¿Qué idiomas indica su navegador al servidor que está dispuesto aceptar en la respuesta?"
   ]
  },
  {
   "cell_type": "markdown",
   "metadata": {},
   "source": [
    "Expandiendo la línea 44 se puede ver en las cabeceras de la petición el parámetro *Acept-Language* que indica los idiomas esperados en la respuesta en formato ISO. \n",
    "\n",
    "En nuestro caso es_US."
   ]
  },
  {
   "cell_type": "markdown",
   "metadata": {},
   "source": [
    "### 2b. ¿Qué relación tiene esta información con el lenguaje que emplea en su navegador y sistema operativo?"
   ]
  },
  {
   "cell_type": "markdown",
   "metadata": {},
   "source": []
  },
  {
   "cell_type": "markdown",
   "metadata": {},
   "source": [
    "### 3a. ¿Cuál es la dirección IP de su ordenador?"
   ]
  },
  {
   "cell_type": "markdown",
   "metadata": {},
   "source": [
    "La direcciń ip es la 192.168.88.18, tal como se muestra en todas las peticiones en la columna *\"source\"*"
   ]
  },
  {
   "cell_type": "markdown",
   "metadata": {},
   "source": [
    "### 3b. ¿Y del servidor Web al que está accediendo?"
   ]
  },
  {
   "cell_type": "markdown",
   "metadata": {},
   "source": [
    "La dirección ip del servidor es la 186.129.250.57 tal como muestra la línea 44 en la columna *\"Destination\"*"
   ]
  },
  {
   "cell_type": "markdown",
   "metadata": {},
   "source": [
    "### 4a. ¿Cuál es el código de estado devuelto a su navegador por el servidor?"
   ]
  },
  {
   "cell_type": "markdown",
   "metadata": {},
   "source": [
    "En la línea 70 de la captura se ve que el codigo de estado devuelto por el servidor es 200"
   ]
  },
  {
   "cell_type": "markdown",
   "metadata": {},
   "source": [
    "### 4b. ¿Cuál es el significado de ese código de estado?"
   ]
  },
  {
   "cell_type": "markdown",
   "metadata": {},
   "source": [
    "Es un codigo numerico que proporciona informacion con respecto al estado de la solicitud HTTP. En particular el código 200 significa que la petición fue resuelta safistactoriamente."
   ]
  },
  {
   "cell_type": "markdown",
   "metadata": {},
   "source": [
    "### 5.¿Cuándo fue modificado por última vez el fichero HTML que el servidor te está devolviendo?"
   ]
  },
  {
   "cell_type": "markdown",
   "metadata": {},
   "source": [
    "Al observar las cabeceras de la respuesta (línea 70 de la misma captura) se puede ver en el parámetro *\"Last-Modified\"* que el archivo fue modificado por última vez el 20 de Marzo de 2018 a las 22:50:14 GMT"
   ]
  },
  {
   "cell_type": "markdown",
   "metadata": {},
   "source": [
    "### 8.Inspeccione los contenidos de la primera petición GET de su navegador hacia el servidor. ¿Observa alguna linea ‘If-Modified-Since’ en la petición GET? Indique el contenido de dicha línea."
   ]
  },
  {
   "cell_type": "markdown",
   "metadata": {},
   "source": [
    "La siguiente [captura](images/tp1-2.pcapng) muestra que el primer GET (línea 133) no contiene ninguna línea *'If-Modified-Since'*"
   ]
  },
  {
   "cell_type": "markdown",
   "metadata": {},
   "source": [
    "### 9.Analice el contenido de la respuesta del servidor. ¿Contiene dicha respuesta el fichero HTML que se pedía?"
   ]
  },
  {
   "cell_type": "markdown",
   "metadata": {},
   "source": [
    "La respuesta tiene el contenido del archivo HTML en la sección *\"Line-based text data: text/html\"* (línea 140)"
   ]
  },
  {
   "cell_type": "markdown",
   "metadata": {},
   "source": [
    "### 10.Ahora analice el contenido de la segunda petición GET desde su navegador al servidor. ¿Ve alguna línea ‘If-Modified-Since’ en dicha petición? Si es así, ¿qué información aparece a continuación de dicha cabecera?"
   ]
  },
  {
   "cell_type": "markdown",
   "metadata": {},
   "source": [
    "En la línea 188, correspondiente al segundo GET, se puede observar una línea *\"If-Modified-Since\"* con: Wed, 15 Mar 2017 20:49:17 GMT de contenido. "
   ]
  },
  {
   "cell_type": "markdown",
   "metadata": {},
   "source": [
    "### 11.¿Cuál es el código de estado HTTP y el mensaje devuelto por el servidor en respuesta a este segundo GET? ¿Devuelve el servidor explícitamente el contenido del fichero? Explique qué ha sucedido"
   ]
  },
  {
   "cell_type": "markdown",
   "metadata": {},
   "source": [
    "El codigo de estado es 304 NOT MODIFIED (línea 199). Lo que ocurrió es que el navegador solicitó al servidor que le enviase el archivo si es que este fue modificado desde el 15/03/2017 a las 20:49:17 GTM. Como la página no tuvo cambios el servidor no envió el archivo. "
   ]
  },
  {
   "cell_type": "markdown",
   "metadata": {},
   "source": [
    "* ## Descarga de documentos grandes"
   ]
  },
  {
   "cell_type": "markdown",
   "metadata": {},
   "source": [
    "### 12.¿Cuántos mensajes de petición GET han sido enviados por el navegador?"
   ]
  },
  {
   "cell_type": "markdown",
   "metadata": {},
   "source": [
    "En esta [captura](images/tp1-3.pcapng) (línea 43) se puede ver que el navegador ha realizado una sola petición GET. "
   ]
  },
  {
   "cell_type": "markdown",
   "metadata": {},
   "source": [
    "### 13.¿Cuántos segmentos TCP con datos han sido necesarios para una única respuesta HTTP?"
   ]
  },
  {
   "cell_type": "markdown",
   "metadata": {},
   "source": [
    "En la línea 85 de la captura se puede ver que fueron necesarios 15 segmentos TCP, 13 de 1348bytes, uno de 241bytes y uno de 49bytes."
   ]
  },
  {
   "cell_type": "markdown",
   "metadata": {},
   "source": [
    "### 14.¿Cuál es el código de estado y el mensaje asociado con la respuesta a la petición GET?"
   ]
  },
  {
   "cell_type": "markdown",
   "metadata": {},
   "source": [
    "Codigo de estado 200 OK."
   ]
  },
  {
   "cell_type": "markdown",
   "metadata": {},
   "source": [
    "* ## Documentos HTML con Objetos Empotrados"
   ]
  },
  {
   "cell_type": "markdown",
   "metadata": {},
   "source": [
    "### 15.¿Cuántos mensajes GET ha enviado el navegador? ¿A qué direcciones se han enviado esos mensajes?"
   ]
  },
  {
   "cell_type": "markdown",
   "metadata": {},
   "source": [
    "El navegador envio 3 GET, uno perteneciente al texto en html y los otros dos pertenecientes a los GIF.\n",
    "Los mensajes se han enviado de source:192.168.43.87 a destination:174.138.32.232"
   ]
  },
  {
   "cell_type": "markdown",
   "metadata": {},
   "source": [
    "### 16.¿Puede determinar si las imágenes han sido descargadas sucesivamente (se pide una imagen, se descarga y después se pide la otra) o en paralelo (se lanzan las dos descargas de forma simultánea?"
   ]
  },
  {
   "cell_type": "markdown",
   "metadata": {
    "collapsed": true
   },
   "source": [
    "Se descargan de forma paralela. Ya que primero hace los dos GET de los gifs y luego le llega la respuesta."
   ]
  },
  {
   "cell_type": "markdown",
   "metadata": {},
   "source": [
    "* ## Autenticación HTTP."
   ]
  },
  {
   "cell_type": "markdown",
   "metadata": {},
   "source": [
    "### 17.¿Cuál es el código de respuesta y el mensaje del servidor en respuesta al mensaje GET inicial de su navegador?"
   ]
  },
  {
   "cell_type": "markdown",
   "metadata": {},
   "source": [
    "En esta [captura](images/tp1-5.pcapng), en la línea 432 se puede ver que el mensaje es: *401 Unauthorized* y se ha agregado la cabecera *WWW-Authenticate* con el contenido *Basic realm=\"Contenido restringido\"*."
   ]
  },
  {
   "cell_type": "markdown",
   "metadata": {},
   "source": [
    "### 18.Cuando su navegador envía el mensaje HTTP GET por segunda vez, ¿qué nuevo campo se incluye en el mensaje GET?"
   ]
  },
  {
   "cell_type": "markdown",
   "metadata": {},
   "source": [
    "El nuevo campo es: *Authorization:* y su contenido es: *Basic d2lyZXNoYXJrOm5ldHdvcms= Credentials: wireshark:network*"
   ]
  },
  {
   "cell_type": "markdown",
   "metadata": {},
   "source": [
    "### 19.Explique la codificación Base64."
   ]
  },
  {
   "cell_type": "markdown",
   "metadata": {},
   "source": [
    "La codificación Base 64 se basa en el uso de los caracteres US-ASCII (no acentuados) para codificar cualquier tipo de información. **AMPLIAR**"
   ]
  },
  {
   "cell_type": "markdown",
   "metadata": {},
   "source": [
    "* ## TELNET AL PUERTO 80."
   ]
  },
  {
   "cell_type": "code",
   "execution_count": null,
   "metadata": {
    "collapsed": true
   },
   "outputs": [],
   "source": [
    "import telnetlib\n",
    " \n",
    "HOST = \"174.138.32.232\"\n",
    "PORT = \"80\""
   ]
  },
  {
   "cell_type": "code",
   "execution_count": null,
   "metadata": {},
   "outputs": [],
   "source": [
    "telnetObj=telnetlib.Telnet(HOST,PORT)\n",
    "message = (\"GET /index.html HTTP/1.1\\nHost:\"+HOST+\"\\n\\n\").encode('cp1252')\n",
    "telnetObj.write(message)\n",
    "output=telnetObj.read_all()\n",
    "salida = output.decode('cp1252').strip().split('\\r\\n') \n",
    "for line in salida:\n",
    "    print(line)\n",
    "telnetObj.close()"
   ]
  },
  {
   "cell_type": "code",
   "execution_count": null,
   "metadata": {},
   "outputs": [],
   "source": [
    "telnetObj=telnetlib.Telnet(HOST,PORT)\n",
    "message2 = (\"JET /index.html HTTP/1.1\\nHost:\"+HOST+\"\\n\\n\").encode('cp1252')\n",
    "telnetObj.write(message2)\n",
    "output=telnetObj.read_all()\n",
    "salida = output.decode('cp1252').strip().split('\\r\\n') \n",
    "for line in salida:\n",
    "    print(line)\n",
    "telnetObj.close()"
   ]
  },
  {
   "cell_type": "markdown",
   "metadata": {},
   "source": [
    "### 20.¿Qué mensaje recibes como respuesta?"
   ]
  },
  {
   "cell_type": "markdown",
   "metadata": {},
   "source": [
    "Como puede verse en la salida de la celda anterior la respuesta del servidor es un *405 Not Alloewd*, dado que hemos hecho una petición con un verbo http inexistente. El código 405 indica que el método http no está disponible para esa ruta.\n",
    "\n",
    "Como prueba adicional, en la celda siguiente se ejecuta la petición con un método http válido pero no disponible, comprobando que se obtiene la misma respuesta."
   ]
  },
  {
   "cell_type": "code",
   "execution_count": null,
   "metadata": {},
   "outputs": [],
   "source": [
    "telnetObj=telnetlib.Telnet(HOST,PORT)\n",
    "message2 = (\"DETELETE /index.html HTTP/1.1\\nHost:\"+HOST+\"\\n\\n\").encode('cp1252')\n",
    "telnetObj.write(message2)\n",
    "output=telnetObj.read_all()\n",
    "salida = output.decode('cp1252').strip().split('\\r\\n') \n",
    "for line in salida:\n",
    "    print(line)\n",
    "telnetObj.close()"
   ]
  },
  {
   "cell_type": "markdown",
   "metadata": {},
   "source": [
    "### 21.¿Qué mensaje recibes como respuesta ahora?"
   ]
  },
  {
   "cell_type": "code",
   "execution_count": null,
   "metadata": {},
   "outputs": [],
   "source": [
    "telnetObj=telnetlib.Telnet(HOST,PORT)\n",
    "message2 = (\"GET /ittex.html HTTP/1.1\\nHost:\"+HOST+\"\\n\\n\").encode('cp1252')\n",
    "telnetObj.write(message2)\n",
    "output=telnetObj.read_all()\n",
    "salida = output.decode('cp1252').strip().split('\\r\\n') \n",
    "for line in salida:\n",
    "    print(line)\n",
    "telnetObj.close()"
   ]
  },
  {
   "cell_type": "markdown",
   "metadata": {
    "collapsed": true
   },
   "source": [
    "A diferencia de las pruebas anteriores, en éste caso el verbo http es válido y está disponible, sin embargo se solicita un recurso que el servidor no tiene. Por lo tanto la respuesta es un *404 Not Found* dado que el servidor no puede encontrar el recurso solicitado."
   ]
  },
  {
   "cell_type": "markdown",
   "metadata": {
    "collapsed": true
   },
   "source": [
    "### Comando nc/netcat"
   ]
  },
  {
   "cell_type": "markdown",
   "metadata": {},
   "source": [
    "En el siguiente video se reproduce la primera prueba a realizar con Netcat. Se establece una conexión entre dos máquinas (la máquina anfitriona y un contenedor)"
   ]
  },
  {
   "cell_type": "code",
   "execution_count": 2,
   "metadata": {},
   "outputs": [
    {
     "data": {
      "text/html": [
       "<video width=\"900\" height=\"700\" controls>\n",
       "  <source src=\"images/netcat-1.webm\" type=\"video/mp4\">\n",
       "</video>"
      ],
      "text/plain": [
       "<IPython.core.display.HTML object>"
      ]
     },
     "metadata": {},
     "output_type": "display_data"
    }
   ],
   "source": [
    "%%HTML\n",
    "<video width=\"900\" height=\"700\" controls>\n",
    "  <source src=\"images/netcat-1.webm\" type=\"video/mp4\">\n",
    "</video>"
   ]
  },
  {
   "cell_type": "markdown",
   "metadata": {
    "collapsed": true
   },
   "source": [
    "Prueba adicional. Ejecución de una shell con nc -e "
   ]
  },
  {
   "cell_type": "code",
   "execution_count": 33,
   "metadata": {},
   "outputs": [
    {
     "data": {
      "text/html": [
       "<video width=\"900\" height=\"700\" controls>\n",
       "  <source src=\"images/netcat-2.webm\" type=\"video/mp4\">\n",
       "</video>"
      ],
      "text/plain": [
       "<IPython.core.display.HTML object>"
      ]
     },
     "metadata": {},
     "output_type": "display_data"
    }
   ],
   "source": [
    "%%HTML\n",
    "<video width=\"900\" height=\"700\" controls>\n",
    "  <source src=\"images/netcat-2.webm\" type=\"video/mp4\">\n",
    "</video>"
   ]
  },
  {
   "cell_type": "markdown",
   "metadata": {},
   "source": [
    "### Comando netstat.\n",
    "\n",
    "**netstat** es un comando que ofrece información (uso, estado, etc) sobre las conexiones de la máquina propia, tanto entrantes como salientes, además de otras informaciones sobre la red.\n",
    "\n",
    "Informa tanto de conexiones del dominio de Internet (locales y remota) como de conexiones del dominio UNIX (entre procesos locales).\n",
    "\n",
    "La información típica que muestra para cada conexión de red es:\n",
    "+ tipo de protocolo\n",
    "+ dirección+puerto local\n",
    "+ direcc1ión+puerto remoto\n",
    "+ estado"
   ]
  },
  {
   "cell_type": "markdown",
   "metadata": {},
   "source": [
    "Opciones interesantes:\n",
    "\n",
    "+ **-a** muestra información sobre todas las conexiones/sockets (tanto TCP y UDP)\n",
    "+ **-p** muestra los procesos que están usando las conexiones.\n",
    "+ **-l** muestra información sobre las conexiones/sockets en modo escucha\n",
    "+ **-e** información en formato extendido\n",
    "+ **-t** sólo conexiones TCP, -u sólo conexiones UDP."
   ]
  },
  {
   "cell_type": "markdown",
   "metadata": {},
   "source": [
    "### Pruebas a realizar.\n",
    "\n",
    "Comprobar los distintos parámetros de **netstat** e identificar las conexiones abiertas en la máquina local.\n",
    "\n",
    "Comprobar las conexiones abiertas en los ejemplos de comunicación entre sesiones **nc** de la sección anterior, identificar los puertos cliente de la sesión **nc**."
   ]
  },
  {
   "cell_type": "markdown",
   "metadata": {},
   "source": [
    "**Prueba 1:**\n",
    "\n",
    "+ Uso de *ss* con el parámetro *-a*\n",
    "\n",
    "Revisamos el total de las conexiones y *grepeamos* por *\"LISTEN\"*, *\"ESTAB\"* y *\"UNCONN\"*"
   ]
  },
  {
   "cell_type": "code",
   "execution_count": 34,
   "metadata": {},
   "outputs": [
    {
     "data": {
      "text/html": [
       "<video width=\"900\" height=\"700\" controls>\n",
       "  <source src=\"images/netstat-1.webm\" type=\"video/mp4\">\n",
       "</video>"
      ],
      "text/plain": [
       "<IPython.core.display.HTML object>"
      ]
     },
     "metadata": {},
     "output_type": "display_data"
    }
   ],
   "source": [
    "%%HTML\n",
    "<video width=\"900\" height=\"700\" controls>\n",
    "  <source src=\"images/netstat-1.webm\" type=\"video/mp4\">\n",
    "</video>"
   ]
  },
  {
   "cell_type": "markdown",
   "metadata": {
    "collapsed": true
   },
   "source": [
    "**Prueba 2:**\n",
    "\n",
    "+ Identificación de las conexiones abiertas por *nc* en los ejercicios de la sección anterior\n",
    "\n",
    "Para identificar las conexiones utilizamos la bandera **dst :puerto** que nos permite filtrar por puerto destino. Además usamos los parámetros **e** para información extendida, **t** porque estamos buscando una conexión tcp y **p** para que nos muestre el proceso vinculado a esa conexión."
   ]
  },
  {
   "cell_type": "code",
   "execution_count": 35,
   "metadata": {},
   "outputs": [
    {
     "data": {
      "text/html": [
       "<video width=\"900\" height=\"700\" controls>\n",
       "  <source src=\"images/netstat-2.webm\" type=\"video/mp4\">\n",
       "</video>"
      ],
      "text/plain": [
       "<IPython.core.display.HTML object>"
      ]
     },
     "metadata": {},
     "output_type": "display_data"
    }
   ],
   "source": [
    "%%HTML\n",
    "<video width=\"900\" height=\"700\" controls>\n",
    "  <source src=\"images/netstat-2.webm\" type=\"video/mp4\">\n",
    "</video>"
   ]
  },
  {
   "cell_type": "markdown",
   "metadata": {},
   "source": [
    "### Ejemplos de servicios con estado y sin estado\n",
    "**Servicio sin estado. HTTP.**\n",
    "\n",
    "Es el ejemplo típico de servicio sin estado, implementa un esquema una petición → una\n",
    "respuesta.\n",
    "\n",
    "**Acceso a un servidor WEB.**\n",
    "\n",
    "Comprobar el diálogo HTTP desde el punto de vista de un cliente.\n",
    "\n",
    "1. Ejecutar nc en modo conexión con el puerto 80 de un servidor web accesible.\n",
    "```\n",
    "$ nc 174.138.32.232 80\n",
    "```\n",
    "2. Escribir la siguiente petición.\n",
    "```\n",
    "GET /index.html HTTP/1.1\n",
    "```"
   ]
  },
  {
   "cell_type": "code",
   "execution_count": 36,
   "metadata": {},
   "outputs": [
    {
     "data": {
      "text/html": [
       "<video width=\"900\" height=\"700\" controls>\n",
       "  <source src=\"images/nc-http-get.webm\" type=\"video/mp4\">\n",
       "</video>"
      ],
      "text/plain": [
       "<IPython.core.display.HTML object>"
      ]
     },
     "metadata": {},
     "output_type": "display_data"
    }
   ],
   "source": [
    "%%HTML\n",
    "<video width=\"900\" height=\"700\" controls>\n",
    "  <source src=\"images/nc-http-get.webm\" type=\"video/mp4\">\n",
    "</video>"
   ]
  },
  {
   "cell_type": "markdown",
   "metadata": {},
   "source": [
    "### Simulación de un servidor WEB en el puerto 8080\n",
    "Comprobar el diálogo HTTP desde el punto de vista del servidor.\n",
    "1. Ejecutar nc en modo escucha en el puerto 8080.\n",
    "```\n",
    "$ nc -l -p 8080\n",
    "```\n",
    "2. Desde un navegador web escribir http://localhost:8080/index.html\n",
    "    * nc muestra la petición HTTP realizada por el navegador\n",
    "\n",
    "\n",
    "3. Responder a la petición desde nc.\n",
    "```\n",
    "HTTP/1.1 200 OK\n",
    "Content-Type: text/html\n",
    "Content-Length: 56\n",
    "<html><body> hola <img src=\"1.gif\"> </body> </html>\n",
    "```\n",
    "\n",
    "    * Comprobar lo que sucede en la sesión nc que simula el servidor web.\n",
    "\n",
    "\n",
    "4. Realizar otra petición desde el navegador (recargar página) y enviarle una nueva respuesta\n",
    "desde nc\n",
    "\n",
    "```\n",
    "HTTP/1.1 200 OK\n",
    "Content-Type: text/html\n",
    "Content-Length: 70\n",
    "<html><body> hola <a href=\"principal.html\"> enlace </a> </body> </html>\n",
    "```\n",
    "\n",
    "Pinchar en el enlace y comprobar que sucede."
   ]
  },
  {
   "cell_type": "code",
   "execution_count": null,
   "metadata": {
    "collapsed": true
   },
   "outputs": [],
   "source": []
  },
  {
   "cell_type": "code",
   "execution_count": null,
   "metadata": {
    "collapsed": true
   },
   "outputs": [],
   "source": []
  },
  {
   "cell_type": "code",
   "execution_count": null,
   "metadata": {
    "collapsed": true
   },
   "outputs": [],
   "source": [
    "%%writefile server.c\n",
    "\n",
    "/* \n",
    "PrimerServidorTCP.c\n",
    "Servicio: Las cadenas de texto recibidas de un Cliente son enviadas a la salida estándar.\n",
    "Nota: Por simplicidad del código no se realiza ningún tipo de control de errores. No obstante el servidor es totalmente funcional.\n",
    "*/\n",
    "\n",
    "#include <sys/types.h>\n",
    "#include <sys/socket.h>\n",
    "#include <netinet/in.h>\n",
    "#include <string.h>\n",
    "#include <stdlib.h>\n",
    "#include <stdio.h>\n",
    "#include <unistd.h>\n",
    "\n",
    "#define PORTNUMBER 12345\n",
    "\n",
    "int main(void){\n",
    "    char buf[10];\n",
    "    int s, n, ns, len;\n",
    "    struct sockaddr_in direcc;\n",
    "    s = socket(AF_INET, SOCK_STREAM, 0);\n",
    "\n",
    "    bzero((char *) &direcc, sizeof(direcc));\n",
    "    direcc.sin_family = AF_INET;\n",
    "    direcc.sin_port = htons(PORTNUMBER);\n",
    "    direcc.sin_addr.s_addr = htonl(INADDR_ANY);\n",
    "\n",
    "    len = sizeof(struct sockaddr_in);\n",
    "    bind(s, (struct sockaddr *) &direcc, len);\n",
    "    listen(s, 5);\n",
    "    \n",
    "    \n",
    "    ns = accept(s, (struct sockaddr *) &direcc, &len);\n",
    "\n",
    "    while ((n = recv(ns, buf, sizeof(buf), 0)) > 0)\n",
    "        write(1, buf, n);\n",
    "\n",
    "     close(ns); close(s);\n",
    "     exit(0);\n",
    "    \n",
    "}"
   ]
  },
  {
   "cell_type": "code",
   "execution_count": null,
   "metadata": {
    "collapsed": true
   },
   "outputs": [],
   "source": [
    "!gcc server.c -o server"
   ]
  },
  {
   "cell_type": "code",
   "execution_count": null,
   "metadata": {
    "collapsed": true
   },
   "outputs": [],
   "source": [
    "!./server"
   ]
  },
  {
   "cell_type": "markdown",
   "metadata": {},
   "source": [
    "Abra una terminal, compile el servidor (#> gcc -o server Server.c) y luego ejecutelo (#>\n",
    "./server). Abra otra terminal y contactese con el servidor usando el cliente telnet (#> telnet\n",
    "localhost 12345). Verifique el funcionamiento del mismo y luego cierre la sesión de telnet."
   ]
  },
  {
   "cell_type": "markdown",
   "metadata": {},
   "source": [
    "### 1.¿Que sucede con el Servidor?¿Por qué?"
   ]
  },
  {
   "cell_type": "markdown",
   "metadata": {},
   "source": [
    "Al cerrar el cliente la sesión de Telnet, se cierra el servidor. Esto es porque está programado para que así sea. Espera una conexión y cuando esta se cierra, termina la ejecución del programa."
   ]
  },
  {
   "cell_type": "markdown",
   "metadata": {},
   "source": [
    "### 2.Modifique el servidor para que no finalice."
   ]
  },
  {
   "cell_type": "code",
   "execution_count": null,
   "metadata": {
    "collapsed": true
   },
   "outputs": [],
   "source": [
    "%%writefile server.c\n",
    "\n",
    "/* \n",
    "PrimerServidorTCP.c\n",
    "Servicio: Las cadenas de texto recibidas de un Cliente son enviadas a la salida estándar.\n",
    "Nota: Por simplicidad del código no se realiza ningún tipo de control de errores. No obstante el servidor es totalmente funcional.\n",
    "*/\n",
    "\n",
    "#include <sys/types.h>\n",
    "#include <sys/socket.h>\n",
    "#include <netinet/in.h>\n",
    "#include <string.h>\n",
    "#include <stdlib.h>\n",
    "#include <stdio.h>\n",
    "#include <unistd.h>\n",
    "\n",
    "#define PORTNUMBER 12345\n",
    "\n",
    "int main(void){\n",
    "    \n",
    "    char buf[10];\n",
    "    int s, n, ns, len;\n",
    "    struct sockaddr_in direcc;\n",
    "    \n",
    "    if ((s = socket(AF_INET, SOCK_STREAM, 0))==-1){\n",
    "        perror(\"Error en socket()\");\n",
    "        exit (-1);\n",
    "    };\n",
    "\n",
    "    bzero((char *) &direcc, sizeof(direcc));\n",
    "    direcc.sin_family = AF_INET;\n",
    "    direcc.sin_port = htons(PORTNUMBER);\n",
    "    direcc.sin_addr.s_addr = htonl(INADDR_ANY);\n",
    "\n",
    "    len = sizeof(struct sockaddr_in);\n",
    "\n",
    "    if (bind(s, (struct sockaddr *) &direcc, len)==-1){\n",
    "        perror(\"Error en bind()\");\n",
    "        exit(-1);\n",
    "    };\n",
    "    \n",
    "    if (listen(s, 5)==.1){\n",
    "        perror(\"Error en listen()\");\n",
    "        exit(-1);\n",
    "    };\n",
    "    \n",
    "    while(1){\n",
    "        \n",
    "        if ((ns = accept(s, (struct sockaddr *) &direcc, &len))==-1){\n",
    "            perror(\"Error en acept()\");\n",
    "            exit(-1);\n",
    "        };\n",
    "\n",
    "        while ((n = recv(ns, buf, sizeof(buf), 0)) > 0)\n",
    "            write(1, buf, n);\n",
    "\n",
    "         close(ns);\n",
    "    }\n",
    "    \n",
    "     close(s);\n",
    "     exit(0);\n",
    "    \n",
    "}"
   ]
  },
  {
   "cell_type": "code",
   "execution_count": null,
   "metadata": {
    "collapsed": true
   },
   "outputs": [],
   "source": [
    "!gcc server.c -o server"
   ]
  },
  {
   "cell_type": "markdown",
   "metadata": {},
   "source": [
    "**Nota:** usamos la librería subprocess de python para ejecutar el servidor y no tener que matarlo a mano por consola o restartear el kernel de IPython. Por lo tanto la salida se imprime al correr la celda correspondiente."
   ]
  },
  {
   "cell_type": "code",
   "execution_count": null,
   "metadata": {
    "collapsed": true
   },
   "outputs": [],
   "source": [
    "from subprocess import Popen, PIPE\n",
    "server = Popen(['./server',],stdout=PIPE, stderr=PIPE)"
   ]
  },
  {
   "cell_type": "code",
   "execution_count": null,
   "metadata": {
    "collapsed": true
   },
   "outputs": [],
   "source": [
    "server.terminate()\n",
    "output = server.stdout.read()\n",
    "\n",
    "for line in output.decode('ascii').strip().split('\\r\\n'):\n",
    "    print(line)"
   ]
  },
  {
   "cell_type": "markdown",
   "metadata": {},
   "source": [
    "### 3.Modifique el servidor para que el servicio que presta se implemente en una función separada del cuerpo principal del programa (main())."
   ]
  },
  {
   "cell_type": "code",
   "execution_count": null,
   "metadata": {
    "collapsed": true
   },
   "outputs": [],
   "source": [
    "%%writefile server.c\n",
    "\n",
    "/* \n",
    "PrimerServidorTCP.c\n",
    "Servicio: Las cadenas de texto recibidas de un Cliente son enviadas a la salida estándar.\n",
    "Nota: Por simplicidad del código no se realiza ningún tipo de control de errores. No obstante el servidor es totalmente funcional.\n",
    "*/\n",
    "\n",
    "#include <sys/types.h>\n",
    "#include <sys/socket.h>\n",
    "#include <netinet/in.h>\n",
    "#include <string.h>\n",
    "#include <stdlib.h>\n",
    "#include <stdio.h>\n",
    "#include <unistd.h>\n",
    "\n",
    "#define PORTNUMBER 12345\n",
    "\n",
    "int connection_handler(int ns, char* buf){\n",
    "    \n",
    "    int n;\n",
    "    \n",
    "    while ((n = recv(ns, buf, sizeof(buf), 0)) > 0)\n",
    "        write(1, buf, n);\n",
    "    \n",
    "    return 1;\n",
    "}\n",
    "\n",
    "int main(void){\n",
    "    char buf[10];\n",
    "    int s, ns, len;\n",
    "    struct sockaddr_in direcc;\n",
    "\n",
    "    if ((s = socket(AF_INET, SOCK_STREAM, 0))==-1){\n",
    "        perror(\"Error en socket()\");\n",
    "        exit (-1);\n",
    "    };\n",
    "\n",
    "    bzero((char *) &direcc, sizeof(direcc));\n",
    "    direcc.sin_family = AF_INET;\n",
    "    direcc.sin_port = htons(PORTNUMBER);\n",
    "    direcc.sin_addr.s_addr = htonl(INADDR_ANY);\n",
    "\n",
    "    len = sizeof(struct sockaddr_in);\n",
    "\n",
    "    if (bind(s, (struct sockaddr *) &direcc, len)==-1){\n",
    "        perror(\"Error en bind()\");\n",
    "        exit(-1);\n",
    "    };\n",
    "    \n",
    "    if (listen(s, 5)==.1){\n",
    "        perror(\"Error en listen()\");\n",
    "        exit(-1);\n",
    "    };\n",
    "    \n",
    "    \n",
    "    while(1){\n",
    "        \n",
    "        if ((ns = accept(s, (struct sockaddr *) &direcc, &len))==-1){\n",
    "            perror(\"Error en acept()\");\n",
    "            exit(-1);\n",
    "        };\n",
    "\n",
    "        connection_handler(ns, buf);\n",
    "    }\n",
    "    \n",
    "\n",
    "    \n",
    "     close(ns); close(s);\n",
    "     exit(0);\n",
    "    \n",
    "}"
   ]
  },
  {
   "cell_type": "code",
   "execution_count": null,
   "metadata": {
    "collapsed": true
   },
   "outputs": [],
   "source": [
    "!gcc server.c -o server"
   ]
  },
  {
   "cell_type": "code",
   "execution_count": null,
   "metadata": {
    "collapsed": true
   },
   "outputs": [],
   "source": [
    "from subprocess import Popen, PIPE\n",
    "server = Popen(['./server',],stdout=PIPE, stderr=PIPE)"
   ]
  },
  {
   "cell_type": "code",
   "execution_count": null,
   "metadata": {
    "collapsed": true
   },
   "outputs": [],
   "source": [
    "server.terminate()\n",
    "output = server.stdout.read()\n",
    "\n",
    "for line in output.decode('ascii').strip().split('\\r\\n'):\n",
    "    print(line)"
   ]
  },
  {
   "cell_type": "markdown",
   "metadata": {},
   "source": [
    "### 4.Modifique el servidor para que preste el servicio de echo (vea RFC862)."
   ]
  },
  {
   "cell_type": "code",
   "execution_count": null,
   "metadata": {
    "collapsed": true
   },
   "outputs": [],
   "source": [
    "%%writefile server.c\n",
    "\n",
    "/* \n",
    "PrimerServidorTCP.c\n",
    "Servicio: Las cadenas de texto recibidas de un Cliente son enviadas a la salida estándar.\n",
    "Nota: Por simplicidad del código no se realiza ningún tipo de control de errores. No obstante el servidor es totalmente funcional.\n",
    "*/\n",
    "\n",
    "#include <sys/types.h>\n",
    "#include <sys/socket.h>\n",
    "#include <netinet/in.h>\n",
    "#include <string.h>\n",
    "#include <stdlib.h>\n",
    "#include <stdio.h>\n",
    "#include <unistd.h>\n",
    "\n",
    "#define PORTNUMBER 12345\n",
    "\n",
    "int connection_handler(int ns, char* buf){\n",
    "    \n",
    "    int n;\n",
    "    \n",
    "    while ((n = recv(ns, buf, sizeof(buf), 0)) > 0)\n",
    "        write(ns, buf, n);\n",
    "    \n",
    "    return 1;\n",
    "}\n",
    "\n",
    "int main(void){\n",
    "    char buf[10];\n",
    "    int s, ns, len;\n",
    "    struct sockaddr_in direcc;\n",
    "\n",
    "    if ((s = socket(AF_INET, SOCK_STREAM, 0))==-1){\n",
    "        perror(\"Error en socket()\");\n",
    "        exit (-1);\n",
    "    };\n",
    "\n",
    "    bzero((char *) &direcc, sizeof(direcc));\n",
    "    direcc.sin_family = AF_INET;\n",
    "    direcc.sin_port = htons(PORTNUMBER);\n",
    "    direcc.sin_addr.s_addr = htonl(INADDR_ANY);\n",
    "\n",
    "    len = sizeof(struct sockaddr_in);\n",
    "\n",
    "    if (bind(s, (struct sockaddr *) &direcc, len)==-1){\n",
    "        perror(\"Error en bind()\");\n",
    "        exit(-1);\n",
    "    };\n",
    "    \n",
    "    if (listen(s, 5)==.1){\n",
    "        perror(\"Error en listen()\");\n",
    "        exit(-1);\n",
    "    };\n",
    "    \n",
    "    \n",
    "    while(1){\n",
    "        \n",
    "        if ((ns = accept(s, (struct sockaddr *) &direcc, &len))==-1){\n",
    "            perror(\"Error en acept()\");\n",
    "            exit(-1);\n",
    "        };\n",
    "\n",
    "        connection_handler(ns, buf);\n",
    "    }\n",
    "    \n",
    "\n",
    "    \n",
    "     close(ns); close(s);\n",
    "     exit(0);\n",
    "    \n",
    "}"
   ]
  },
  {
   "cell_type": "code",
   "execution_count": null,
   "metadata": {
    "collapsed": true
   },
   "outputs": [],
   "source": [
    "! gcc server.c -o server"
   ]
  },
  {
   "cell_type": "code",
   "execution_count": null,
   "metadata": {
    "collapsed": true
   },
   "outputs": [],
   "source": [
    "from subprocess import Popen, PIPE\n",
    "server = Popen(['./server',],stdout=PIPE, stderr=PIPE)"
   ]
  },
  {
   "cell_type": "code",
   "execution_count": null,
   "metadata": {
    "collapsed": true
   },
   "outputs": [],
   "source": [
    "server.terminate()"
   ]
  },
  {
   "cell_type": "markdown",
   "metadata": {},
   "source": [
    "### 5.Modifique el servidor para que preste el servicio de character generator (vea RFC864)."
   ]
  },
  {
   "cell_type": "code",
   "execution_count": null,
   "metadata": {
    "collapsed": true
   },
   "outputs": [],
   "source": [
    "%%writefile server.c\n",
    "\n",
    "/* \n",
    "PrimerServidorTCP.c\n",
    "Servicio: Las cadenas de texto recibidas de un Cliente son enviadas a la salida estándar.\n",
    "Nota: Por simplicidad del código no se realiza ningún tipo de control de errores. No obstante el servidor es totalmente funcional.\n",
    "*/\n",
    "\n",
    "#include <sys/types.h>\n",
    "#include <sys/socket.h>\n",
    "#include <netinet/in.h>\n",
    "#include <string.h>\n",
    "#include <stdlib.h>\n",
    "#include <stdio.h>\n",
    "#include <unistd.h>\n",
    "\n",
    "#define PORTNUMBER 12345\n",
    "#define CHAR_LEN 74\n",
    "\n",
    "int connection_handler(int ns, char* buf){\n",
    "    \n",
    "    const char * characters[] = {\n",
    "        \"!\\\"#$%&'()*+,-./0123456789:;<=>?@ABCDEFGHIJKLMNOPQRSTUVWXYZ[\\\\]^_`abcdefgh\",\n",
    "        \"\\\"#$%&'()*+,-./0123456789:;<=>?@ABCDEFGHIJKLMNOPQRSTUVWXYZ[\\\\]^_`abcdefghi\",\n",
    "        \"#$%&'()*+,-./0123456789:;<=>?@ABCDEFGHIJKLMNOPQRSTUVWXYZ[\\\\]^_`abcdefghij\",\n",
    "        \"$%&'()*+,-./0123456789:;<=>?@ABCDEFGHIJKLMNOPQRSTUVWXYZ[\\\\]^_`abcdefghijk\",\n",
    "        \"%&'()*+,-./0123456789:;<=>?@ABCDEFGHIJKLMNOPQRSTUVWXYZ[\\\\]^_`abcdefghijkl\",\n",
    "        \"&'()*+,-./0123456789:;<=>?@ABCDEFGHIJKLMNOPQRSTUVWXYZ[\\\\]^_`abcdefghijklm\",\n",
    "        \"'()*+,-./0123456789:;<=>?@ABCDEFGHIJKLMNOPQRSTUVWXYZ[\\\\]^_`abcdefghijklmn\",\n",
    "        \"()*+,-./0123456789:;<=>?@ABCDEFGHIJKLMNOPQRSTUVWXYZ[\\\\]^_`abcdefghijklmno\",\n",
    "        \")*+,-./0123456789:;<=>?@ABCDEFGHIJKLMNOPQRSTUVWXYZ[\\\\]^_`abcdefghijklmnop\",\n",
    "        \"*+,-./0123456789:;<=>?@ABCDEFGHIJKLMNOPQRSTUVWXYZ[\\\\]^_`abcdefghijklmnopq\",\n",
    "        \"+,-./0123456789:;<=>?@ABCDEFGHIJKLMNOPQRSTUVWXYZ[\\\\]^_`abcdefghijklmnopqr\",\n",
    "        \",-./0123456789:;<=>?@ABCDEFGHIJKLMNOPQRSTUVWXYZ[\\\\]^_`abcdefghijklmnopqrs\",\n",
    "        \"-./0123456789:;<=>?@ABCDEFGHIJKLMNOPQRSTUVWXYZ[\\\\]^_`abcdefghijklmnopqrst\",\n",
    "        \"./0123456789:;<=>?@ABCDEFGHIJKLMNOPQRSTUVWXYZ[\\\\]^_`abcdefghijklmnopqrstu\",\n",
    "        \"/0123456789:;<=>?@ABCDEFGHIJKLMNOPQRSTUVWXYZ[\\\\]^_`abcdefghijklmnopqrstuv\",\n",
    "        \"0123456789:;<=>?@ABCDEFGHIJKLMNOPQRSTUVWXYZ[\\\\]^_`abcdefghijklmnopqrstuvw\",\n",
    "        \"123456789:;<=>?@ABCDEFGHIJKLMNOPQRSTUVWXYZ[\\\\]^_`abcdefghijklmnopqrstuvwx\",\n",
    "        \"23456789:;<=>?@ABCDEFGHIJKLMNOPQRSTUVWXYZ[\\\\]^_`abcdefghijklmnopqrstuvwxy\",\n",
    "        \"3456789:;<=>?@ABCDEFGHIJKLMNOPQRSTUVWXYZ[\\\\]^_`abcdefghijklmnopqrstuvwxyz\",\n",
    "        \"456789:;<=>?@ABCDEFGHIJKLMNOPQRSTUVWXYZ[\\\\]^_`abcdefghijklmnopqrstuvwxyz{\",\n",
    "        \"56789:;<=>?@ABCDEFGHIJKLMNOPQRSTUVWXYZ[\\\\]^_`abcdefghijklmnopqrstuvwxyz{|\",\n",
    "        \"6789:;<=>?@ABCDEFGHIJKLMNOPQRSTUVWXYZ[\\\\]^_`abcdefghijklmnopqrstuvwxyz{|}\",\n",
    "        \"789:;<=>?@ABCDEFGHIJKLMNOPQRSTUVWXYZ[\\\\]^_`abcdefghijklmnopqrstuvwxyz{|}~\",\n",
    "        \"89:;<=>?@ABCDEFGHIJKLMNOPQRSTUVWXYZ[\\\\]^_`abcdefghijklmnopqrstuvwxyz{|}~!\",\n",
    "        \"9:;<=>?@ABCDEFGHIJKLMNOPQRSTUVWXYZ[\\\\]^_`abcdefghijklmnopqrstuvwxyz{|}~!\\\"\",\n",
    "        \":;<=>?@ABCDEFGHIJKLMNOPQRSTUVWXYZ[\\\\]^_`abcdefghijklmnopqrstuvwxyz{|}~!\\\"#\",\n",
    "        \";<=>?@ABCDEFGHIJKLMNOPQRSTUVWXYZ[\\\\]^_`abcdefghijklmnopqrstuvwxyz{|}~!\\\"#$\",\n",
    "        \"<=>?@ABCDEFGHIJKLMNOPQRSTUVWXYZ[\\\\]^_`abcdefghijklmnopqrstuvwxyz{|}~!\\\"#$%\",\n",
    "        \"=>?@ABCDEFGHIJKLMNOPQRSTUVWXYZ[\\\\]^_`abcdefghijklmnopqrstuvwxyz{|}~!\\\"#$%&\",\n",
    "        \">?@ABCDEFGHIJKLMNOPQRSTUVWXYZ[\\\\]^_`abcdefghijklmnopqrstuvwxyz{|}~!\\\"#$%&'\",\n",
    "        \"?@ABCDEFGHIJKLMNOPQRSTUVWXYZ[\\\\]^_`abcdefghijklmnopqrstuvwxyz{|}~!\\\"#$%&'(\",\n",
    "        \"@ABCDEFGHIJKLMNOPQRSTUVWXYZ[\\\\]^_`abcdefghijklmnopqrstuvwxyz{|}~!\\\"#$%&'()\",\n",
    "        \"ABCDEFGHIJKLMNOPQRSTUVWXYZ[\\\\]^_`abcdefghijklmnopqrstuvwxyz{|}~!\\\"#$%&'()*\",\n",
    "        \"BCDEFGHIJKLMNOPQRSTUVWXYZ[\\\\]^_`abcdefghijklmnopqrstuvwxyz{|}~!\\\"#$%&'()*+\",\n",
    "        \"CDEFGHIJKLMNOPQRSTUVWXYZ[\\\\]^_`abcdefghijklmnopqrstuvwxyz{|}~!\\\"#$%&'()*+,\",\n",
    "        \"DEFGHIJKLMNOPQRSTUVWXYZ[\\\\]^_`abcdefghijklmnopqrstuvwxyz{|}~!\\\"#$%&'()*+,-\",\n",
    "        \"EFGHIJKLMNOPQRSTUVWXYZ[\\\\]^_`abcdefghijklmnopqrstuvwxyz{|}~!\\\"#$%&'()*+,-.\",\n",
    "        \"FGHIJKLMNOPQRSTUVWXYZ[\\\\]^_`abcdefghijklmnopqrstuvwxyz{|}~!\\\"#$%&'()*+,-./\",\n",
    "        \"GHIJKLMNOPQRSTUVWXYZ[\\\\]^_`abcdefghijklmnopqrstuvwxyz{|}~!\\\"#$%&'()*+,-./0\",\n",
    "        \"HIJKLMNOPQRSTUVWXYZ[\\\\]^_`abcdefghijklmnopqrstuvwxyz{|}~!\\\"#$%&'()*+,-./01\",\n",
    "        \"IJKLMNOPQRSTUVWXYZ[\\\\]^_`abcdefghijklmnopqrstuvwxyz{|}~!\\\"#$%&'()*+,-./012\",\n",
    "        \"JKLMNOPQRSTUVWXYZ[\\\\]^_`abcdefghijklmnopqrstuvwxyz{|}~!\\\"#$%&'()*+,-./0123\",\n",
    "        \"KLMNOPQRSTUVWXYZ[\\\\]^_`abcdefghijklmnopqrstuvwxyz{|}~!\\\"#$%&'()*+,-./01234\",\n",
    "        \"LMNOPQRSTUVWXYZ[\\\\]^_`abcdefghijklmnopqrstuvwxyz{|}~!\\\"#$%&'()*+,-./012345\",\n",
    "        \"MNOPQRSTUVWXYZ[\\\\]^_`abcdefghijklmnopqrstuvwxyz{|}~!\\\"#$%&'()*+,-./0123456\",\n",
    "        \"NOPQRSTUVWXYZ[\\\\]^_`abcdefghijklmnopqrstuvwxyz{|}~!\\\"#$%&'()*+,-./01234567\",\n",
    "        \"OPQRSTUVWXYZ[\\\\]^_`abcdefghijklmnopqrstuvwxyz{|}~!\\\"#$%&'()*+,-./012345678\",\n",
    "        \"PQRSTUVWXYZ[\\\\]^_`abcdefghijklmnopqrstuvwxyz{|}~!\\\"#$%&'()*+,-./0123456789\",\n",
    "        \"QRSTUVWXYZ[\\\\]^_`abcdefghijklmnopqrstuvwxyz{|}~!\\\"#$%&'()*+,-./0123456789:\",\n",
    "        \"RSTUVWXYZ[\\\\]^_`abcdefghijklmnopqrstuvwxyz{|}~!\\\"#$%&'()*+,-./0123456789:;\",\n",
    "        \"STUVWXYZ[\\\\]^_`abcdefghijklmnopqrstuvwxyz{|}~!\\\"#$%&'()*+,-./0123456789:;<\",\n",
    "        \"TUVWXYZ[\\\\]^_`abcdefghijklmnopqrstuvwxyz{|}~!\\\"#$%&'()*+,-./0123456789:;<=\",\n",
    "        \"UVWXYZ[\\\\]^_`abcdefghijklmnopqrstuvwxyz{|}~!\\\"#$%&'()*+,-./0123456789:;<=>\",\n",
    "        \"VWXYZ[\\\\]^_`abcdefghijklmnopqrstuvwxyz{|}~!\\\"#$%&'()*+,-./0123456789:;<=>?\",\n",
    "        \"WXYZ[\\\\]^_`abcdefghijklmnopqrstuvwxyz{|}~!\\\"#$%&'()*+,-./0123456789:;<=>?@\",\n",
    "        \"XYZ[\\\\]^_`abcdefghijklmnopqrstuvwxyz{|}~!\\\"#$%&'()*+,-./0123456789:;<=>?@A\",\n",
    "        \"YZ[\\\\]^_`abcdefghijklmnopqrstuvwxyz{|}~!\\\"#$%&'()*+,-./0123456789:;<=>?@AB\",\n",
    "        \"Z[\\\\]^_`abcdefghijklmnopqrstuvwxyz{|}~!\\\"#$%&'()*+,-./0123456789:;<=>?@ABC\",\n",
    "        \"[\\\\]^_`abcdefghijklmnopqrstuvwxyz{|}~!\\\"#$%&'()*+,-./0123456789:;<=>?@ABCD\",\n",
    "        \"\\\\]^_`abcdefghijklmnopqrstuvwxyz{|}~!\\\"#$%&'()*+,-./0123456789:;<=>?@ABCDE\",\n",
    "        \"]^_`abcdefghijklmnopqrstuvwxyz{|}~!\\\"#$%&'()*+,-./0123456789:;<=>?@ABCDEF\",\n",
    "        \"^_`abcdefghijklmnopqrstuvwxyz{|}~!\\\"#$%&'()*+,-./0123456789:;<=>?@ABCDEFG\",\n",
    "        \"_`abcdefghijklmnopqrstuvwxyz{|}~!\\\"#$%&'()*+,-./0123456789:;<=>?@ABCDEFGH\",\n",
    "        \"`abcdefghijklmnopqrstuvwxyz{|}~!\\\"#$%&'()*+,-./0123456789:;<=>?@ABCDEFGHI\",\n",
    "        \"abcdefghijklmnopqrstuvwxyz{|}~!\\\"#$%&'()*+,-./0123456789:;<=>?@ABCDEFGHIJ\",\n",
    "        \"bcdefghijklmnopqrstuvwxyz{|}~!\\\"#$%&'()*+,-./0123456789:;<=>?@ABCDEFGHIJK\",\n",
    "        \"cdefghijklmnopqrstuvwxyz{|}~!\\\"#$%&'()*+,-./0123456789:;<=>?@ABCDEFGHIJKL\",\n",
    "        \"defghijklmnopqrstuvwxyz{|}~!\\\"#$%&'()*+,-./0123456789:;<=>?@ABCDEFGHIJKLM\",\n",
    "        \"efghijklmnopqrstuvwxyz{|}~!\\\"#$%&'()*+,-./0123456789:;<=>?@ABCDEFGHIJKLMN\",\n",
    "        \"fghijklmnopqrstuvwxyz{|}~!\\\"#$%&'()*+,-./0123456789:;<=>?@ABCDEFGHIJKLMNO\",\n",
    "        \"ghijklmnopqrstuvwxyz{|}~!\\\"#$%&'()*+,-./0123456789:;<=>?@ABCDEFGHIJKLMNOP\",\n",
    "        \"hijklmnopqrstuvwxyz{|}~!\\\"#$%&'()*+,-./0123456789:;<=>?@ABCDEFGHIJKLMNOPQ\",\n",
    "        \"ijklmnopqrstuvwxyz{|}~!\\\"#$%&'()*+,-./0123456789:;<=>?@ABCDEFGHIJKLMNOPQR\",\n",
    "        \"jklmnopqrstuvwxyz{|}~!\\\"#$%&'()*+,-./0123456789:;<=>?@ABCDEFGHIJKLMNOPQRS\",\n",
    "        \"klmnopqrstuvwxyz{|}~!\\\"#$%&'()*+,-./0123456789:;<=>?@ABCDEFGHIJKLMNOPQRST\",\n",
    "        \"lmnopqrstuvwxyz{|}~!\\\"#$%&'()*+,-./0123456789:;<=>?@ABCDEFGHIJKLMNOPQRSTU\",\n",
    "        \"mnopqrstuvwxyz{|}~!\\\"#$%&'()*+,-./0123456789:;<=>?@ABCDEFGHIJKLMNOPQRSTUV\",\n",
    "        \"nopqrstuvwxyz{|}~!\\\"#$%&'()*+,-./0123456789:;<=>?@ABCDEFGHIJKLMNOPQRSTUVW\",\n",
    "        \"opqrstuvwxyz{|}~!\\\"#$%&'()*+,-./0123456789:;<=>?@ABCDEFGHIJKLMNOPQRSTUVWX\",\n",
    "        \"pqrstuvwxyz{|}~!\\\"#$%&'()*+,-./0123456789:;<=>?@ABCDEFGHIJKLMNOPQRSTUVWXY\",\n",
    "        \"qrstuvwxyz{|}~!\\\"#$%&'()*+,-./0123456789:;<=>?@ABCDEFGHIJKLMNOPQRSTUVWXYZ\",\n",
    "        \"rstuvwxyz{|}~!\\\"#$%&'()*+,-./0123456789:;<=>?@ABCDEFGHIJKLMNOPQRSTUVWXYZ[\",\n",
    "        \"stuvwxyz{|}~!\\\"#$%&'()*+,-./0123456789:;<=>?@ABCDEFGHIJKLMNOPQRSTUVWXYZ[\\\\\",\n",
    "        \"tuvwxyz{|}~!\\\"#$%&'()*+,-./0123456789:;<=>?@ABCDEFGHIJKLMNOPQRSTUVWXYZ[\\\\]\",\n",
    "        \"uvwxyz{|}~!\\\"#$%&'()*+,-./0123456789:;<=>?@ABCDEFGHIJKLMNOPQRSTUVWXYZ[\\\\]^\",\n",
    "        \"vwxyz{|}~!\\\"#$%&'()*+,-./0123456789:;<=>?@ABCDEFGHIJKLMNOPQRSTUVWXYZ[\\\\]^_\",\n",
    "        \"wxyz{|}~!\\\"#$%&'()*+,-./0123456789:;<=>?@ABCDEFGHIJKLMNOPQRSTUVWXYZ[\\\\]^_`\",\n",
    "        \"xyz{|}~!\\\"#$%&'()*+,-./0123456789:;<=>?@ABCDEFGHIJKLMNOPQRSTUVWXYZ[\\\\]^_`a\",\n",
    "        \"yz{|}~!\\\"#$%&'()*+,-./0123456789:;<=>?@ABCDEFGHIJKLMNOPQRSTUVWXYZ[\\\\]^_`ab\",\n",
    "        \"z{|}~!\\\"#$%&'()*+,-./0123456789:;<=>?@ABCDEFGHIJKLMNOPQRSTUVWXYZ[\\\\]^_`abc\",\n",
    "        \"{|}~!\\\"#$%&'()*+,-./0123456789:;<=>?@ABCDEFGHIJKLMNOPQRSTUVWXYZ[\\\\]^_`abcd\",\n",
    "        \"|}~!\\\"#$%&'()*+,-./0123456789:;<=>?@ABCDEFGHIJKLMNOPQRSTUVWXYZ[\\\\]^_`abcde\",\n",
    "        \"}~!\\\"#$%&'()*+,-./0123456789:;<=>?@ABCDEFGHIJKLMNOPQRSTUVWXYZ[\\\\]^_`abcdef\",\n",
    "        \"~!\\\"#$%&'()*+,-./0123456789:;<=>?@ABCDEFGHIJKLMNOPQRSTUVWXYZ[\\\\]^_`abcdefg\"\n",
    "    };\n",
    "\n",
    "    unsigned long i = 0;\n",
    "    \n",
    "    while (1) {\n",
    "                   \n",
    "        strncpy(buf, characters[i++], CHAR_LEN);\n",
    "        strcat(buf, \"\\n\");\n",
    "        \n",
    "        if (i > (sizeof(characters)/sizeof(characters[0])) - 1)\n",
    "            i = 0;\n",
    "\n",
    "        if (send(ns, buf, sizeof(buf), 0)<0){\n",
    "            break;\n",
    "        }\n",
    "        \n",
    "    }\n",
    "    close(ns);\n",
    "    \n",
    "    return 0;\n",
    "}\n",
    "\n",
    "int main(void){\n",
    "    char buf[76];\n",
    "    int s, ns, len;\n",
    "    struct sockaddr_in direcc;\n",
    "\n",
    "    if ((s = socket(AF_INET, SOCK_STREAM, 0))==-1){\n",
    "        perror(\"Error en socket()\");\n",
    "        exit (-1);\n",
    "    };\n",
    "\n",
    "    bzero((char *) &direcc, sizeof(direcc));\n",
    "    direcc.sin_family = AF_INET;\n",
    "    direcc.sin_port = htons(PORTNUMBER);\n",
    "    direcc.sin_addr.s_addr = htonl(INADDR_ANY);\n",
    "\n",
    "    len = sizeof(struct sockaddr_in);\n",
    "\n",
    "    if (bind(s, (struct sockaddr *) &direcc, len)==-1){\n",
    "        perror(\"Error en bind()\");\n",
    "        exit(-1);\n",
    "    };\n",
    "    \n",
    "    if (listen(s, 5)==.1){\n",
    "        perror(\"Error en listen()\");\n",
    "        exit(-1);\n",
    "    };\n",
    "    \n",
    "    \n",
    "    while(1){\n",
    "        \n",
    "        if ((ns = accept(s, (struct sockaddr *) &direcc, &len))==-1){\n",
    "            perror(\"Error en acept()\");\n",
    "            exit(-1);\n",
    "        };\n",
    "\n",
    "        connection_handler(ns, buf);\n",
    "    }\n",
    "    \n",
    "\n",
    "    \n",
    "     close(s);\n",
    "     exit(0);\n",
    "    \n",
    "}"
   ]
  },
  {
   "cell_type": "code",
   "execution_count": null,
   "metadata": {
    "collapsed": true
   },
   "outputs": [],
   "source": [
    "! gcc server.c -o server"
   ]
  },
  {
   "cell_type": "code",
   "execution_count": null,
   "metadata": {
    "collapsed": true
   },
   "outputs": [],
   "source": [
    "from subprocess import Popen, PIPE\n",
    "server = Popen(['./server',],stdout=PIPE, stderr=PIPE)"
   ]
  },
  {
   "cell_type": "code",
   "execution_count": null,
   "metadata": {
    "collapsed": true
   },
   "outputs": [],
   "source": [
    "server.terminate()"
   ]
  },
  {
   "cell_type": "markdown",
   "metadata": {},
   "source": [
    "### 6.Desarrolle un cliente que se comunique con el servidor."
   ]
  },
  {
   "cell_type": "code",
   "execution_count": null,
   "metadata": {
    "collapsed": true
   },
   "outputs": [],
   "source": []
  },
  {
   "cell_type": "code",
   "execution_count": null,
   "metadata": {
    "collapsed": true
   },
   "outputs": [],
   "source": []
  },
  {
   "cell_type": "code",
   "execution_count": null,
   "metadata": {
    "collapsed": true
   },
   "outputs": [],
   "source": []
  },
  {
   "cell_type": "code",
   "execution_count": null,
   "metadata": {
    "collapsed": true
   },
   "outputs": [],
   "source": []
  },
  {
   "cell_type": "markdown",
   "metadata": {},
   "source": [
    "### 7.Modificar el Servidor del punto anterior para que cambie el servicio por uno que devuelva la suma de dos parámetros enteros o una leyenda de error en parámetros si estos no son enteros. Tips: Usar la función sscanf() y snprintf(). Crear el cliente correspondiente."
   ]
  },
  {
   "cell_type": "code",
   "execution_count": null,
   "metadata": {
    "collapsed": true
   },
   "outputs": [],
   "source": []
  },
  {
   "cell_type": "code",
   "execution_count": null,
   "metadata": {
    "collapsed": true
   },
   "outputs": [],
   "source": []
  },
  {
   "cell_type": "code",
   "execution_count": null,
   "metadata": {
    "collapsed": true
   },
   "outputs": [],
   "source": []
  },
  {
   "cell_type": "code",
   "execution_count": null,
   "metadata": {
    "collapsed": true
   },
   "outputs": [],
   "source": []
  },
  {
   "cell_type": "markdown",
   "metadata": {},
   "source": [
    "### 8.Transformar el Servidor iterativo TCP de Eco del punto 4), en un servidor iterativo de Eco con UDP. Crear el cliente correspondiente."
   ]
  },
  {
   "cell_type": "code",
   "execution_count": null,
   "metadata": {
    "collapsed": true
   },
   "outputs": [],
   "source": []
  },
  {
   "cell_type": "code",
   "execution_count": null,
   "metadata": {
    "collapsed": true
   },
   "outputs": [],
   "source": []
  },
  {
   "cell_type": "code",
   "execution_count": null,
   "metadata": {
    "collapsed": true
   },
   "outputs": [],
   "source": []
  },
  {
   "cell_type": "markdown",
   "metadata": {},
   "source": [
    "# Nmap"
   ]
  },
  {
   "cell_type": "code",
   "execution_count": null,
   "metadata": {
    "collapsed": true
   },
   "outputs": [],
   "source": []
  },
  {
   "cell_type": "code",
   "execution_count": null,
   "metadata": {
    "collapsed": true
   },
   "outputs": [],
   "source": []
  },
  {
   "cell_type": "code",
   "execution_count": null,
   "metadata": {
    "collapsed": true
   },
   "outputs": [],
   "source": []
  },
  {
   "cell_type": "code",
   "execution_count": null,
   "metadata": {
    "collapsed": true
   },
   "outputs": [],
   "source": []
  },
  {
   "cell_type": "code",
   "execution_count": null,
   "metadata": {
    "collapsed": true
   },
   "outputs": [],
   "source": [
    "%%writefile scan.py\n",
    "\n",
    "import netifaces\n",
    "import nmap\n",
    "\n",
    "def main():\n",
    "    # Obteniendo ip del host\n",
    "    ip = netifaces.ifaddresses('wlp2s0')[netifaces.AF_INET][0]['addr']\n",
    "\n",
    "    # Instanciamos un objeto nm\n",
    "    nmScan = nmap.PortScanner()\n",
    "\n",
    "    # SCAN!\n",
    "    result = nmScan.scan(ip, arguments=\"-sT -O -sV\")\n",
    "\n",
    "    print(result)\n",
    "\n",
    "main()\n"
   ]
  },
  {
   "cell_type": "code",
   "execution_count": null,
   "metadata": {
    "collapsed": true
   },
   "outputs": [],
   "source": [
    "from subprocess import Popen, PIPE\n",
    "import getpass\n",
    "\n",
    "password = getpass.getpass()\n",
    "command = ['sudo', '-S', 'python', 'scan.py']\n",
    "\n",
    "p = Popen(command, shell=True, stdin=PIPE, stderr=PIPE, universal_newlines=True)\n",
    "\n",
    "result = p.communicate(password + '\\n')[1]\n",
    "print(result)"
   ]
  },
  {
   "cell_type": "code",
   "execution_count": null,
   "metadata": {
    "collapsed": true
   },
   "outputs": [],
   "source": [
    "import getpass\n",
    "import telnetlib\n",
    "\n",
    "HOST = \"localhost\"\n",
    "user = input(\"Enter your remote account: \")\n",
    "password = getpass.getpass()\n",
    "\n",
    "tn = telnetlib.Telnet(HOST)\n",
    "\n",
    "tn.read_until(b\"login: \")\n",
    "tn.write(user.encode('ascii') + b\"\\n\")\n",
    "if password:\n",
    "    tn.read_until(b\"Password: \")\n",
    "    tn.write(password.encode('ascii') + b\"\\n\")\n",
    "\n",
    "tn.write(b\"ls\\n\")\n",
    "tn.write(b\"exit\\n\")\n",
    "\n",
    "print(tn.read_all().decode('ascii'))"
   ]
  },
  {
   "cell_type": "code",
   "execution_count": null,
   "metadata": {
    "collapsed": true
   },
   "outputs": [],
   "source": [
    "import telnetlib\n",
    " \n",
    "HOST = \"174.138.32.232\"\n",
    "PORT = \"80\"\n",
    " \n",
    "telnetObj=telnetlib.Telnet(HOST,PORT)\n",
    "message = (\"GET /index.html HTTP/1.1\\nHost:\"+HOST+\"\\n\\n\").encode('cp1252')\n",
    "telnetObj.write(message)\n",
    "output=telnetObj.read_all()\n",
    "salida = output.decode('cp1252').strip().split('\\r\\n') \n",
    "for line in salida:\n",
    "    print(line)\n",
    "telnetObj.close()"
   ]
  },
  {
   "cell_type": "code",
   "execution_count": null,
   "metadata": {
    "collapsed": true
   },
   "outputs": [],
   "source": []
  }
 ],
 "metadata": {
  "kernelspec": {
   "display_name": "Python 3",
   "language": "python",
   "name": "python3"
  },
  "language_info": {
   "codemirror_mode": {
    "name": "ipython",
    "version": 3
   },
   "file_extension": ".py",
   "mimetype": "text/x-python",
   "name": "python",
   "nbconvert_exporter": "python",
   "pygments_lexer": "ipython3",
   "version": "3.6.2"
  }
 },
 "nbformat": 4,
 "nbformat_minor": 2
}
