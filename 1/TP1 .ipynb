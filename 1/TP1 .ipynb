{
 "cells": [
  {
   "cell_type": "markdown",
   "metadata": {},
   "source": [
    "<hr>\n",
    "<h1 style=\"text-align:center;\">Trabajo de Laboratorio 1</h1>\n",
    "<h2 style=\"text-align:center;\">Capa de Aplicación</h2>\n",
    "<hr>"
   ]
  },
  {
   "cell_type": "markdown",
   "metadata": {},
   "source": [
    "## Cátedra: \n",
    "* ### Prof: Mg. Ing. Ricardo López\n",
    "* ### JTP: Lic. Nahuel Defossé\n",
    "\n",
    "## Alumnos: \n",
    "* ### Maximiliano Aguila\n",
    "* ### Lucas Krmpotic\n",
    "<hr>"
   ]
  },
  {
   "cell_type": "markdown",
   "metadata": {},
   "source": [
    "<h1 style=\"text-align:center; margin-bottom:2em;\"> Parte 1: HTTP - Telnet - SMTP</h1>\n",
    "* ## HTTP. Interacciones HTTP básicas."
   ]
  },
  {
   "cell_type": "markdown",
   "metadata": {},
   "source": [
    "### 1a.¿Qué versión de HTTP emplea su navegador?"
   ]
  },
  {
   "cell_type": "markdown",
   "metadata": {},
   "source": [
    "Como puede verse en este [archivo](images/tp1-1.pcapng) en la línea 44 de la captura, el navegador usa http 1.1"
   ]
  },
  {
   "cell_type": "markdown",
   "metadata": {},
   "source": [
    "### 1b. ¿Qué versión de HTTP ejecuta el servidor?"
   ]
  },
  {
   "cell_type": "markdown",
   "metadata": {},
   "source": [
    "La misma captura en la línea 70 muestra que el servidor usa http 1.1"
   ]
  },
  {
   "cell_type": "markdown",
   "metadata": {},
   "source": [
    "### 2a. ¿Qué idiomas indica su navegador al servidor que está dispuesto aceptar en la respuesta?"
   ]
  },
  {
   "cell_type": "markdown",
   "metadata": {},
   "source": [
    "Expandiendo la línea 44 se puede ver en las cabeceras de la petición el parámetro *Acept-Language* que indica los idiomas esperados en la respuesta en formato ISO. \n",
    "\n",
    "En nuestro caso es_US."
   ]
  },
  {
   "cell_type": "markdown",
   "metadata": {},
   "source": [
    "### 2b. ¿Qué relación tiene esta información con el lenguaje que emplea en su navegador y sistema operativo?"
   ]
  },
  {
   "cell_type": "markdown",
   "metadata": {},
   "source": []
  },
  {
   "cell_type": "markdown",
   "metadata": {},
   "source": [
    "### 3a. ¿Cuál es la dirección IP de su ordenador?"
   ]
  },
  {
   "cell_type": "markdown",
   "metadata": {},
   "source": [
    "La direcciń ip es la 192.168.88.18, tal como se muestra en todas las peticiones en la columna *\"source\"*"
   ]
  },
  {
   "cell_type": "markdown",
   "metadata": {},
   "source": [
    "### 3b. ¿Y del servidor Web al que está accediendo?"
   ]
  },
  {
   "cell_type": "markdown",
   "metadata": {},
   "source": [
    "La dirección ip del servidor es la 186.129.250.57 tal como muestra la línea 44 en la columna *\"Destination\"*"
   ]
  },
  {
   "cell_type": "markdown",
   "metadata": {},
   "source": [
    "### 4a. ¿Cuál es el código de estado devuelto a su navegador por el servidor?"
   ]
  },
  {
   "cell_type": "markdown",
   "metadata": {},
   "source": [
    "En la línea 70 de la captura se ve que el codigo de estado devuelto por el servidor es 200"
   ]
  },
  {
   "cell_type": "markdown",
   "metadata": {},
   "source": [
    "### 4b. ¿Cuál es el significado de ese código de estado?"
   ]
  },
  {
   "cell_type": "markdown",
   "metadata": {},
   "source": [
    "Es un codigo numerico que proporciona informacion con respecto al estado de la solicitud HTTP. En particular el código 200 significa que la petición fue resuelta safistactoriamente."
   ]
  },
  {
   "cell_type": "markdown",
   "metadata": {},
   "source": [
    "### 5.¿Cuándo fue modificado por última vez el fichero HTML que el servidor te está devolviendo?"
   ]
  },
  {
   "cell_type": "markdown",
   "metadata": {},
   "source": [
    "Al observar las cabeceras de la respuesta (línea 70 de la misma captura) se puede ver en el parámetro *\"Last-Modified\"* que el archivo fue modificado por última vez el 20 de Marzo de 2018 a las 22:50:14 GMT"
   ]
  },
  {
   "cell_type": "markdown",
   "metadata": {},
   "source": [
    "### 8.Inspeccione los contenidos de la primera petición GET de su navegador hacia el servidor. ¿Observa alguna linea ‘If-Modified-Since’ en la petición GET? Indique el contenido de dicha línea."
   ]
  },
  {
   "cell_type": "markdown",
   "metadata": {},
   "source": [
    "La siguiente [captura](images/tp1-2.pcapng) muestra que el primer GET (línea 133) no contiene ninguna línea *'If-Modified-Since'*"
   ]
  },
  {
   "cell_type": "markdown",
   "metadata": {},
   "source": [
    "### 9.Analice el contenido de la respuesta del servidor. ¿Contiene dicha respuesta el fichero HTML que se pedía?"
   ]
  },
  {
   "cell_type": "markdown",
   "metadata": {},
   "source": [
    "La respuesta tiene el contenido del archivo HTML en la sección *\"Line-based text data: text/html\"* (línea 140)"
   ]
  },
  {
   "cell_type": "markdown",
   "metadata": {},
   "source": [
    "### 10.Ahora analice el contenido de la segunda petición GET desde su navegador al servidor. ¿Ve alguna línea ‘If-Modified-Since’ en dicha petición? Si es así, ¿qué información aparece a continuación de dicha cabecera?"
   ]
  },
  {
   "cell_type": "markdown",
   "metadata": {},
   "source": [
    "En la línea 188, correspondiente al segundo GET, se puede observar una línea *\"If-Modified-Since\"* con: Wed, 15 Mar 2017 20:49:17 GMT de contenido. "
   ]
  },
  {
   "cell_type": "markdown",
   "metadata": {},
   "source": [
    "### 11.¿Cuál es el código de estado HTTP y el mensaje devuelto por el servidor en respuesta a este segundo GET? ¿Devuelve el servidor explícitamente el contenido del fichero? Explique qué ha sucedido"
   ]
  },
  {
   "cell_type": "markdown",
   "metadata": {},
   "source": [
    "El codigo de estado es 304 NOT MODIFIED (línea 199). Lo que ocurrió es que el navegador solicitó al servidor que le enviase el archivo si es que este fue modificado desde el 15/03/2017 a las 20:49:17 GTM. Como la página no tuvo cambios el servidor no envió el archivo. "
   ]
  },
  {
   "cell_type": "markdown",
   "metadata": {},
   "source": [
    "* ## Descarga de documentos grandes"
   ]
  },
  {
   "cell_type": "markdown",
   "metadata": {},
   "source": [
    "### 12.¿Cuántos mensajes de petición GET han sido enviados por el navegador?"
   ]
  },
  {
   "cell_type": "markdown",
   "metadata": {},
   "source": [
    "En esta [captura](images/tp1-3.pcapng) (línea 43) se puede ver que el navegador ha realizado una sola petición GET. "
   ]
  },
  {
   "cell_type": "markdown",
   "metadata": {},
   "source": [
    "### 13.¿Cuántos segmentos TCP con datos han sido necesarios para una única respuesta HTTP?"
   ]
  },
  {
   "cell_type": "markdown",
   "metadata": {},
   "source": [
    "En la línea 85 de la captura se puede ver que fueron necesarios 15 segmentos TCP, 13 de 1348bytes, uno de 241bytes y uno de 49bytes."
   ]
  },
  {
   "cell_type": "markdown",
   "metadata": {},
   "source": [
    "### 14.¿Cuál es el código de estado y el mensaje asociado con la respuesta a la petición GET?"
   ]
  },
  {
   "cell_type": "markdown",
   "metadata": {},
   "source": [
    "Codigo de estado 200 OK."
   ]
  },
  {
   "cell_type": "markdown",
   "metadata": {},
   "source": [
    "* ## Documentos HTML con Objetos Empotrados"
   ]
  },
  {
   "cell_type": "markdown",
   "metadata": {},
   "source": [
    "### 15.¿Cuántos mensajes GET ha enviado el navegador? ¿A qué direcciones se han enviado esos mensajes?"
   ]
  },
  {
   "cell_type": "markdown",
   "metadata": {},
   "source": [
    "El navegador envio 3 GET, uno perteneciente al texto en html y los otros dos pertenecientes a los GIF.\n",
    "Los mensajes se han enviado de source:192.168.43.87 a destination:174.138.32.232"
   ]
  },
  {
   "cell_type": "markdown",
   "metadata": {},
   "source": [
    "### 16.¿Puede determinar si las imágenes han sido descargadas sucesivamente (se pide una imagen, se descarga y después se pide la otra) o en paralelo (se lanzan las dos descargas de forma simultánea?"
   ]
  },
  {
   "cell_type": "markdown",
   "metadata": {
    "collapsed": true
   },
   "source": [
    "Se descargan de forma paralela. Ya que primero hace los dos GET de los gifs y luego le llega la respuesta."
   ]
  },
  {
   "cell_type": "markdown",
   "metadata": {},
   "source": [
    "* ## Autenticación HTTP."
   ]
  },
  {
   "cell_type": "markdown",
   "metadata": {},
   "source": [
    "### 17.¿Cuál es el código de respuesta y el mensaje del servidor en respuesta al mensaje GET inicial de su navegador?"
   ]
  },
  {
   "cell_type": "markdown",
   "metadata": {},
   "source": [
    "En esta [captura](images/tp1-5.pcapng), en la línea 432 se puede ver que el mensaje es: *401 Unauthorized* y se ha agregado la cabecera *WWW-Authenticate* con el contenido *Basic realm=\"Contenido restringido\"*."
   ]
  },
  {
   "cell_type": "markdown",
   "metadata": {},
   "source": [
    "### 18.Cuando su navegador envía el mensaje HTTP GET por segunda vez, ¿qué nuevo campo se incluye en el mensaje GET?"
   ]
  },
  {
   "cell_type": "markdown",
   "metadata": {},
   "source": [
    "El nuevo campo es: *Authorization:* y su contenido es: *Basic d2lyZXNoYXJrOm5ldHdvcms= Credentials: wireshark:network*"
   ]
  },
  {
   "cell_type": "markdown",
   "metadata": {},
   "source": [
    "### 19.Explique la codificación Base64."
   ]
  },
  {
   "cell_type": "markdown",
   "metadata": {},
   "source": [
    "La codificación Base 64 se basa en el uso de los caracteres US-ASCII (no acentuados) para codificar cualquier tipo de información."
   ]
  },
  {
   "cell_type": "markdown",
   "metadata": {},
   "source": [
    "* ## TELNET AL PUERTO 80.\n",
    "\n",
    "Telnet es una aplicación que también utiliza TCP para el transporte de sus mensajes.\n",
    "\n",
    "\n",
    "El servidor telnet ejecuta los comandos remotos enviados por el cliente y devuelve la respuesta resultante de la ejecución de los mismos. Si solicitamos una conexión TCP al puerto 80 de un servidor web mediante telnet, engañaremos al servidor web, que pensará que somos un navegador y, una vez establecida la conexión, podremos escribirle un mensaje HTTP directamente al servidor web.\n",
    "\n",
    "+ Desde un terminal, ejecuta el siguiente comando:\n",
    "```\n",
    "%> telnet <IP DEL PROFESOR> 80\n",
    "```\n",
    "+ Después escribe el siguiente mensaje de petición HTTP:\n",
    "```\n",
    "GET /index.html HTTP/1.1\n",
    "```\n",
    "Pulsar dos veces INTRO al terminar la linea para enviar el mensaje. Deberías obtener la página\n",
    "solicitada como respuesta."
   ]
  },
  {
   "cell_type": "code",
   "execution_count": null,
   "metadata": {
    "collapsed": true
   },
   "outputs": [],
   "source": [
    "import telnetlib\n",
    "\n",
    "# IP y Puerto al que se le harán las peticiones\n",
    "HOST = \"174.138.32.232\"\n",
    "PORT = \"80\""
   ]
  },
  {
   "cell_type": "code",
   "execution_count": null,
   "metadata": {
    "collapsed": true
   },
   "outputs": [],
   "source": [
    "#Instanciamos un objeto telnet\n",
    "telnetObj=telnetlib.Telnet(HOST,PORT)\n",
    "\n",
    "#definimos el str de la petición\n",
    "message = (\"GET /index.html HTTP/1.1\\nHost:\"+HOST+\"\\n\\n\").encode('cp1252')\n",
    "\n",
    "# realizamos la petición\n",
    "telnetObj.write(message)\n",
    "\n",
    "#leemos la respuesta\n",
    "response = (telnetObj.read_all()).decode('cp1252').strip().split('\\r\\n') \n",
    "for line in response:\n",
    "    print(line)\n",
    "telnetObj.close()"
   ]
  },
  {
   "cell_type": "code",
   "execution_count": null,
   "metadata": {
    "collapsed": true
   },
   "outputs": [],
   "source": [
    "telnetObj=telnetlib.Telnet(HOST,PORT)\n",
    "message2 = (\"JET /index.html HTTP/1.1\\nHost:\"+HOST+\"\\n\\n\").encode('cp1252')\n",
    "\n",
    "# realizamos la petición\n",
    "telnetObj.write(message2)\n",
    "\n",
    "#leemos la respuesta\n",
    "response = (telnetObj.read_all()).decode('cp1252').strip().split('\\r\\n') \n",
    "for line in response:\n",
    "    print(line)\n",
    "telnetObj.close()"
   ]
  },
  {
   "cell_type": "markdown",
   "metadata": {},
   "source": [
    "### 20.¿Qué mensaje recibes como respuesta?"
   ]
  },
  {
   "cell_type": "markdown",
   "metadata": {},
   "source": [
    "Como puede verse en la salida de la celda anterior la respuesta del servidor es un *405 Not Alloewd*, dado que hemos hecho una petición con un verbo http inexistente. El código 405 indica que el método http no está disponible para esa ruta.\n",
    "\n",
    "Como prueba adicional, en la celda siguiente se ejecuta la petición con un método http válido pero no disponible, comprobando que se obtiene la misma respuesta."
   ]
  },
  {
   "cell_type": "code",
   "execution_count": null,
   "metadata": {
    "collapsed": true
   },
   "outputs": [],
   "source": [
    "telnetObj=telnetlib.Telnet(HOST,PORT)\n",
    "\n",
    "message2 = (\"DETELETE /index.html HTTP/1.1\\nHost:\"+HOST+\"\\n\\n\").encode('cp1252')\n",
    "\n",
    "# realizamos la petición\n",
    "telnetObj.write(message2)\n",
    "\n",
    "#leemos la respuesta\n",
    "response = (telnetObj.read_all()).decode('cp1252').strip().split('\\r\\n') \n",
    "for line in response:\n",
    "    print(line)\n",
    "telnetObj.close()"
   ]
  },
  {
   "cell_type": "markdown",
   "metadata": {},
   "source": [
    "### 21.¿Qué mensaje recibes como respuesta ahora?"
   ]
  },
  {
   "cell_type": "code",
   "execution_count": null,
   "metadata": {
    "collapsed": true
   },
   "outputs": [],
   "source": [
    "telnetObj=telnetlib.Telnet(HOST,PORT)\n",
    "message2 = (\"GET /ittex.html HTTP/1.1\\nHost:\"+HOST+\"\\n\\n\").encode('cp1252')\n",
    "\n",
    "# realizamos la petición\n",
    "telnetObj.write(message2)\n",
    "\n",
    "#leemos la respuesta\n",
    "response = (telnetObj.read_all()).decode('cp1252').strip().split('\\r\\n') \n",
    "for line in response:\n",
    "    print(line)\n",
    "telnetObj.close()"
   ]
  },
  {
   "cell_type": "markdown",
   "metadata": {
    "collapsed": true
   },
   "source": [
    "A diferencia de las pruebas anteriores, en éste caso el verbo http es válido y está disponible, sin embargo se solicita un recurso que el servidor no tiene. Por lo tanto la respuesta es un *404 Not Found* dado que el servidor no puede encontrar el recurso solicitado."
   ]
  },
  {
   "cell_type": "markdown",
   "metadata": {
    "collapsed": true
   },
   "source": [
    "### Comando nc/netcat"
   ]
  },
  {
   "cell_type": "markdown",
   "metadata": {},
   "source": [
    "En el siguiente video se reproduce la primera prueba a realizar con Netcat. Se establece una conexión entre dos máquinas (la máquina anfitriona y un contenedor)"
   ]
  },
  {
   "cell_type": "code",
   "execution_count": null,
   "metadata": {
    "scrolled": false
   },
   "outputs": [],
   "source": [
    "%%HTML\n",
    "<video width=\"900\" height=\"700\" controls>\n",
    "  <source src=\"images/netcat-1.webm\" type=\"video/mp4\">\n",
    "</video>"
   ]
  },
  {
   "cell_type": "code",
   "execution_count": null,
   "metadata": {
    "collapsed": true
   },
   "outputs": [],
   "source": []
  },
  {
   "cell_type": "code",
   "execution_count": null,
   "metadata": {
    "collapsed": true
   },
   "outputs": [],
   "source": []
  },
  {
   "cell_type": "markdown",
   "metadata": {
    "collapsed": true
   },
   "source": [
    "Prueba adicional. Ejecución de una shell con nc -e "
   ]
  },
  {
   "cell_type": "code",
   "execution_count": null,
   "metadata": {},
   "outputs": [],
   "source": [
    "%%HTML\n",
    "<video width=\"900\" height=\"700\" controls>\n",
    "  <source src=\"images/netcat-2.webm\" type=\"video/mp4\">\n",
    "</video>"
   ]
  },
  {
   "cell_type": "markdown",
   "metadata": {},
   "source": [
    "### Comando netstat.\n",
    "\n",
    "**netstat** es un comando que ofrece información (uso, estado, etc) sobre las conexiones de la máquina propia, tanto entrantes como salientes, además de otras informaciones sobre la red.\n",
    "\n",
    "Informa tanto de conexiones del dominio de Internet (locales y remota) como de conexiones del dominio UNIX (entre procesos locales).\n",
    "\n",
    "La información típica que muestra para cada conexión de red es:\n",
    "+ tipo de protocolo\n",
    "+ dirección+puerto local\n",
    "+ direcc1ión+puerto remoto\n",
    "+ estado"
   ]
  },
  {
   "cell_type": "markdown",
   "metadata": {},
   "source": [
    "Opciones interesantes:\n",
    "\n",
    "+ **-a** muestra información sobre todas las conexiones/sockets (tanto TCP y UDP)\n",
    "+ **-p** muestra los procesos que están usando las conexiones.\n",
    "+ **-l** muestra información sobre las conexiones/sockets en modo escucha\n",
    "+ **-e** información en formato extendido\n",
    "+ **-t** sólo conexiones TCP, -u sólo conexiones UDP."
   ]
  },
  {
   "cell_type": "markdown",
   "metadata": {},
   "source": [
    "### Pruebas a realizar.\n",
    "\n",
    "Comprobar los distintos parámetros de **netstat** e identificar las conexiones abiertas en la máquina local.\n",
    "\n",
    "Comprobar las conexiones abiertas en los ejemplos de comunicación entre sesiones **nc** de la sección anterior, identificar los puertos cliente de la sesión **nc**."
   ]
  },
  {
   "cell_type": "markdown",
   "metadata": {},
   "source": [
    "**Prueba 1:**\n",
    "\n",
    "+ Uso de *ss* con el parámetro *-a*\n",
    "\n",
    "Revisamos el total de las conexiones y *grepeamos* por *\"LISTEN\"*, *\"ESTAB\"* y *\"UNCONN\"*"
   ]
  },
  {
   "cell_type": "code",
   "execution_count": null,
   "metadata": {},
   "outputs": [],
   "source": [
    "%%HTML\n",
    "<video width=\"900\" height=\"700\" controls>\n",
    "  <source src=\"images/netstat-1.webm\" type=\"video/mp4\">\n",
    "</video>"
   ]
  },
  {
   "cell_type": "markdown",
   "metadata": {
    "collapsed": true
   },
   "source": [
    "**Prueba 2:**\n",
    "\n",
    "+ Identificación de las conexiones abiertas por *nc* en los ejercicios de la sección anterior\n",
    "\n",
    "Para identificar las conexiones utilizamos la bandera **dst :puerto** que nos permite filtrar por puerto destino. Además usamos los parámetros **e** para información extendida, **t** porque estamos buscando una conexión tcp y **p** para que nos muestre el proceso vinculado a esa conexión."
   ]
  },
  {
   "cell_type": "code",
   "execution_count": null,
   "metadata": {},
   "outputs": [],
   "source": [
    "%%HTML\n",
    "<video width=\"900\" height=\"700\" controls>\n",
    "  <source src=\"images/netstat-2.webm\" type=\"video/mp4\">\n",
    "</video>"
   ]
  },
  {
   "cell_type": "markdown",
   "metadata": {},
   "source": [
    "### Ejemplos de servicios con estado y sin estado\n",
    "**Servicio sin estado. HTTP.**\n",
    "\n",
    "Es el ejemplo típico de servicio sin estado, implementa un esquema una petición → una\n",
    "respuesta.\n",
    "\n",
    "**Acceso a un servidor WEB.**\n",
    "\n",
    "Comprobar el diálogo HTTP desde el punto de vista de un cliente.\n",
    "\n",
    "1. Ejecutar nc en modo conexión con el puerto 80 de un servidor web accesible.\n",
    "```\n",
    "$ nc 174.138.32.232 80\n",
    "```\n",
    "2. Escribir la siguiente petición.\n",
    "```\n",
    "GET /index.html HTTP/1.1\n",
    "```"
   ]
  },
  {
   "cell_type": "code",
   "execution_count": null,
   "metadata": {},
   "outputs": [],
   "source": [
    "%%HTML\n",
    "<video width=\"900\" height=\"700\" controls>\n",
    "  <source src=\"images/nc-http-get.webm\" type=\"video/mp4\">\n",
    "</video>"
   ]
  },
  {
   "cell_type": "markdown",
   "metadata": {},
   "source": [
    "### Simulación de un servidor WEB en el puerto 8080\n",
    "Comprobar el diálogo HTTP desde el punto de vista del servidor.\n",
    "1. Ejecutar nc en modo escucha en el puerto 8080.\n",
    "```\n",
    "$ nc -l -p 8080\n",
    "```\n",
    "2. Desde un navegador web escribir http://localhost:8000/index.html\n",
    "    \n",
    "    * nc muestra la petición HTTP realizada por el navegador\n",
    "\n",
    "3. Responder a la petición desde nc.\n",
    "\n",
    "```\n",
    "HTTP/1.1 200 OK\n",
    "Content-Type: text/html\n",
    "<html><body> hola <img src=\"1.gif\"> </body> </html>\n",
    "```\n",
    "Comprobar lo que sucede en la sesión nc que simula el servidor web.\n",
    "\n"
   ]
  },
  {
   "cell_type": "code",
   "execution_count": null,
   "metadata": {},
   "outputs": [],
   "source": [
    "%%HTML\n",
    "<video width=\"900\" height=\"700\" controls>\n",
    "  <source src=\"images/netcat-3.webm\" type=\"video/mp4\">\n",
    "</video>"
   ]
  },
  {
   "cell_type": "markdown",
   "metadata": {
    "collapsed": true
   },
   "source": [
    "4.Realizar otra petición desde el navegador (recargar página) y enviarle una nueva respuesta\n",
    "desde nc\n",
    "\n",
    "```\n",
    "HTTP/1.1 200 OK\n",
    "Content-Type: text/html\n",
    "<html><body> hola <a href=\"principal.html\"> enlace </a> </body> </html>\n",
    "```\n",
    "\n",
    "Pinchar en el enlace y comprobar que sucede."
   ]
  },
  {
   "cell_type": "code",
   "execution_count": null,
   "metadata": {},
   "outputs": [],
   "source": [
    "%%HTML\n",
    "<video width=\"900\" height=\"700\" controls>\n",
    "  <source src=\"images/netcat-4.webm\" type=\"video/mp4\">\n",
    "</video>"
   ]
  },
  {
   "cell_type": "code",
   "execution_count": null,
   "metadata": {
    "collapsed": true
   },
   "outputs": [],
   "source": []
  },
  {
   "cell_type": "code",
   "execution_count": null,
   "metadata": {
    "collapsed": true
   },
   "outputs": [],
   "source": []
  },
  {
   "cell_type": "markdown",
   "metadata": {
    "collapsed": true
   },
   "source": [
    "### Servicio con estado. POP3 y SMTP\n",
    "\n",
    "Los protocolos POP3 (servicio de correo entrante) y SMTP (servicio de correo saliente) son\n",
    "ejemplos de servidores con estado. En función de los mensajes previos enviados por el cliente,\n",
    "como parte de una conexión establecida previamente, las respuestas del servidor varían.\n",
    "\n",
    "\n",
    "Típicamente, el comportamiento de este tipo de servicios con estado estará gobernado por una\n",
    "máquina de estados (o un mecanismo equivalente) exclusiva para cada cliente. Esa\n",
    "información permite que el servidor pueda llevar traza de las peticiones recibidas y del estado\n",
    "en el que se encuentra el diálogo con el cliente."
   ]
  },
  {
   "cell_type": "markdown",
   "metadata": {},
   "source": [
    "### Conectar con un servidor SMTP (puerto 25)\n",
    "\n",
    "Elegir un servidor SMTP donde el alumno tenga acceso y simular el diálogo de un cliente\n",
    "SMTP a la hora de enviar un e-mail.\n",
    "\n",
    "1. Ejecutar nc en modo conexión con el puerto 25 del servidor SMTP\n",
    "```\n",
    "$ telnet 174.138.32.232 2500\n",
    "```\n",
    "2. Obtener información sobre el servidor SMTP.\n",
    "    \n",
    "    Escribir el siguiente mensaje en la sesión nc:\n",
    "```\n",
    "HELO <nombre o IP del cliente>\n",
    "```\n",
    "3. Enviarse un e-mail a si mismo.\n",
    "\n",
    "    Escribir los siguientes mensajes en la sesión nc:\n",
    "```\n",
    "MAIL FROM: login@aaa.aaa.com\n",
    "RCPT TO:login@aaa.aaa.com\n",
    "DATA\n",
    "Subject: asunto del mensaje\n",
    "mensaje a enviar\n",
    "mensaje a enviar\n",
    "```\n",
    "\n",
    "4. Cerrar la conexión con el servidor SMTP\n",
    "\n",
    "    Escribir el siguiente mensaje en la sesión nc:\n",
    "```\n",
    "QUIT\n",
    "```\n",
    "\n",
    "5. Comprobar la recepción del mensaje."
   ]
  },
  {
   "cell_type": "markdown",
   "metadata": {},
   "source": [
    "La conexion al servidor SMTP por puerto 2500 y el envio de un e-mail a si mismo se realiza de la siguiente manera:![screen](images/Enviar-Correo-con-telnet.png)"
   ]
  },
  {
   "cell_type": "markdown",
   "metadata": {},
   "source": [
    "### Conectar con un servidor POP3 (puerto 110)\n",
    "\n",
    "Elegir un servidor POP3 donde el alumno tenga acceso y simular el diálogo de un cliente POP3\n",
    "a la hora de descargar\n",
    "los mensajes del buzón del usuario.\n",
    "1. Ejecutar nc en modo conexión con el puerto 110 del servidor POP3\n",
    "```\n",
    "$ nc www.aaa.com 110\n",
    "```\n",
    "2. Autenticarse frente al servidor.\n",
    "\n",
    "    Escribir los siguientes 2 mensajes en la sesión nc (envío del nombre de usuario + envío de la clave)\n",
    "\n",
    "**USER miusuario**\n",
    "**PASS mipassword**\n",
    "\n",
    "    Aviso: el tráfico irá en claro y el login y el password serán visibles para cualquiera que escuche en ese enlace.\n",
    "3. Gestionar los mensajes del buzón\n",
    "\n",
    "Escribir la siguiente secuencia de mensajes en la sesión nc (ver estado del buzón, obtener la lista de mensajes pendientes de descargar, descargar el primer mensaje, cerrar la conexión POP3)\n",
    "```\n",
    "STAT\n",
    "LIST\n",
    "RETR 1\n",
    "QUIT\n",
    "```\n",
    "Comprobar las respuestas y resultados mostrados en el cliente nc\n"
   ]
  },
  {
   "cell_type": "markdown",
   "metadata": {},
   "source": [
    "La conexion con el servidor POP3 y RCTP de e.mails se realiza de la siguiente manera:![screen](images/RCPT-mail-por-telnet.png) "
   ]
  },
  {
   "cell_type": "markdown",
   "metadata": {},
   "source": [
    "Previamente se enviadon dos e-mails. En la anterior imagen se muestra la conexion al servidor POP3 y como se reciben los correos. Con el comando \"LIST\" me muestra que hay dos e-mails sin leer. Luego con el comando \"RETR\" se puede leer el dicho correo."
   ]
  },
  {
   "cell_type": "markdown",
   "metadata": {},
   "source": [
    "<h1 style=\"text-align:center; margin-bottom:2em;\">Parte 2: Programación Cliente / Servidor utilizando la interfaz sockets.</h1>\n",
    "* ### Código base."
   ]
  },
  {
   "cell_type": "code",
   "execution_count": null,
   "metadata": {
    "collapsed": true
   },
   "outputs": [],
   "source": [
    "%%writefile src/server-base.c\n",
    "\n",
    "/* \n",
    "PrimerServidorTCP.c\n",
    "Servicio: Las cadenas de texto recibidas de un Cliente son enviadas a la salida estándar.\n",
    "Nota: Por simplicidad del código no se realiza ningún tipo de control de errores. No obstante el servidor es totalmente funcional.\n",
    "*/\n",
    "\n",
    "#include <sys/types.h>\n",
    "#include <sys/socket.h>\n",
    "#include <netinet/in.h>\n",
    "#include <string.h>\n",
    "#include <stdlib.h>\n",
    "#include <stdio.h>\n",
    "#include <unistd.h>\n",
    "\n",
    "#define PORTNUMBER 12345\n",
    "\n",
    "int main(void){\n",
    "    char buf[10];\n",
    "    int s, n, ns, len;\n",
    "    struct sockaddr_in direcc;\n",
    "    s = socket(AF_INET, SOCK_STREAM, 0);\n",
    "\n",
    "    bzero((char *) &direcc, sizeof(direcc));\n",
    "    direcc.sin_family = AF_INET;\n",
    "    direcc.sin_port = htons(PORTNUMBER);\n",
    "    direcc.sin_addr.s_addr = htonl(INADDR_ANY);\n",
    "\n",
    "    len = sizeof(struct sockaddr_in);\n",
    "    bind(s, (struct sockaddr *) &direcc, len);\n",
    "    listen(s, 5);\n",
    "    \n",
    "    \n",
    "    ns = accept(s, (struct sockaddr *) &direcc, &len);\n",
    "\n",
    "    while ((n = recv(ns, buf, sizeof(buf), 0)) > 0)\n",
    "        write(1, buf, n);\n",
    "\n",
    "     close(ns); close(s);\n",
    "     exit(0);\n",
    "    \n",
    "}"
   ]
  },
  {
   "cell_type": "code",
   "execution_count": null,
   "metadata": {
    "collapsed": true
   },
   "outputs": [],
   "source": [
    "!gcc src/server-base.c -o src/server"
   ]
  },
  {
   "cell_type": "code",
   "execution_count": null,
   "metadata": {
    "collapsed": true
   },
   "outputs": [],
   "source": [
    "!./src/server"
   ]
  },
  {
   "cell_type": "markdown",
   "metadata": {},
   "source": [
    "### Tareas a Realizar.\n",
    "Abra una terminal, compile el servidor (#> gcc -o server Server.c) y luego ejecutelo (#>\n",
    "./server). Abra otra terminal y contactese con el servidor usando el cliente telnet (#> telnet\n",
    "localhost 12345). Verifique el funcionamiento del mismo y luego cierre la sesión de telnet."
   ]
  },
  {
   "cell_type": "markdown",
   "metadata": {},
   "source": [
    "### 1.¿Que sucede con el Servidor?¿Por qué?"
   ]
  },
  {
   "cell_type": "markdown",
   "metadata": {},
   "source": [
    "Al cerrar el cliente la sesión de Telnet, se cierra el servidor. Esto es porque está programado para que así sea. Espera una conexión y cuando esta se cierra, termina la ejecución del programa."
   ]
  },
  {
   "cell_type": "markdown",
   "metadata": {},
   "source": [
    "### 2.Modifique el servidor para que no finalice."
   ]
  },
  {
   "cell_type": "markdown",
   "metadata": {},
   "source": [
    "La modificacion que se hizo fue agregar un *while(1)* que envuelve a las funciones **accept()** y **recv()**.\n",
    "\n",
    "\n",
    "**Codigo original:**\n",
    "```c\n",
    "    ns = accept(s, (struct sockaddr *) &direcc, &len);\n",
    "\n",
    "    while ((n = recv(ns, buf, sizeof(buf), 0)) > 0)\n",
    "        write(1, buf, n);\n",
    "```\n",
    "\n",
    "**Codigo modificado:**\n",
    "```c\n",
    "    while(1){\n",
    "        \n",
    "        if ((ns = accept(s, (struct sockaddr *) &direcc, &len))==-1){\n",
    "            perror(\"Error en acept()\");\n",
    "            exit(-1);\n",
    "        };\n",
    "\n",
    "        while ((n = recv(ns, buf, sizeof(buf), 0)) > 0)\n",
    "            write(1, buf, n);\n",
    "\n",
    "         close(ns);\n",
    "    }\n",
    "```\n",
    "\n",
    "En la siguiente celda se puede apreciar el codigo completo."
   ]
  },
  {
   "cell_type": "code",
   "execution_count": null,
   "metadata": {
    "collapsed": true
   },
   "outputs": [],
   "source": [
    "%%writefile src/server1.c\n",
    "\n",
    "/* \n",
    "PrimerServidorTCP.c\n",
    "Servicio: Las cadenas de texto recibidas de un Cliente son enviadas a la salida estándar.\n",
    "Nota: Por simplicidad del código no se realiza ningún tipo de control de errores. No obstante el servidor es totalmente funcional.\n",
    "*/\n",
    "\n",
    "#include <sys/types.h>\n",
    "#include <sys/socket.h>\n",
    "#include <netinet/in.h>\n",
    "#include <string.h>\n",
    "#include <stdlib.h>\n",
    "#include <stdio.h>\n",
    "#include <unistd.h>\n",
    "\n",
    "#define PORTNUMBER 12345\n",
    "\n",
    "int main(void){\n",
    "    \n",
    "    char buf[10];\n",
    "    int s, n, ns, len;\n",
    "    struct sockaddr_in direcc;\n",
    "\n",
    "    if ((s = socket(AF_INET, SOCK_STREAM, 0))==-1){\n",
    "        perror(\"Error en socket()\");\n",
    "        exit (-1);\n",
    "    };\n",
    "\n",
    "    bzero((char *) &direcc, sizeof(direcc));\n",
    "    direcc.sin_family = AF_INET;\n",
    "    direcc.sin_port = htons(PORTNUMBER);\n",
    "    direcc.sin_addr.s_addr = htonl(INADDR_ANY);\n",
    "\n",
    "    len = sizeof(struct sockaddr_in);\n",
    "\n",
    "    if (bind(s, (struct sockaddr *) &direcc, len)==-1){\n",
    "        perror(\"Error en bind()\");\n",
    "        exit(-1);\n",
    "    };\n",
    "    \n",
    "    if (listen(s, 5)==.1){\n",
    "        perror(\"Error en listen()\");\n",
    "        exit(-1);\n",
    "    };\n",
    "    \n",
    "    while(1){\n",
    "        \n",
    "        if ((ns = accept(s, (struct sockaddr *) &direcc, &len))==-1){\n",
    "            perror(\"Error en acept()\");\n",
    "            exit(-1);\n",
    "        };\n",
    "\n",
    "        while ((n = recv(ns, buf, sizeof(buf), 0)) > 0)\n",
    "            write(1, buf, n);\n",
    "\n",
    "         close(ns);\n",
    "    }\n",
    "    \n",
    "     close(s);\n",
    "     exit(0);\n",
    "    \n",
    "}"
   ]
  },
  {
   "cell_type": "code",
   "execution_count": null,
   "metadata": {
    "collapsed": true
   },
   "outputs": [],
   "source": [
    "!gcc src/server1.c -o src/server"
   ]
  },
  {
   "cell_type": "markdown",
   "metadata": {},
   "source": [
    "**Nota:** usamos la librería subprocess de python para ejecutar el servidor y no tener que matarlo a mano por consola o restartear el kernel de IPython. Por lo tanto la salida se imprime al correr la celda correspondiente."
   ]
  },
  {
   "cell_type": "code",
   "execution_count": null,
   "metadata": {
    "collapsed": true
   },
   "outputs": [],
   "source": [
    "from subprocess import Popen, PIPE\n",
    "server = Popen(['./server',],stdout=PIPE, stderr=PIPE)"
   ]
  },
  {
   "cell_type": "code",
   "execution_count": null,
   "metadata": {
    "collapsed": true
   },
   "outputs": [],
   "source": [
    "server.terminate()\n",
    "output = server.stdout.read()\n",
    "\n",
    "for line in output.decode('cp1252').strip().split('\\r\\n'):\n",
    "    print(line)"
   ]
  },
  {
   "cell_type": "markdown",
   "metadata": {},
   "source": [
    "### 3.Modifique el servidor para que el servicio que presta se implemente en una función separada del cuerpo principal del programa (main())."
   ]
  },
  {
   "cell_type": "markdown",
   "metadata": {},
   "source": [
    "La función que presta el servicio es llamada inmediatamente luego de la función **accept()** y recibe como parámetros el descriptor de la conexión y el buffer.\n",
    "\n",
    "```c\n",
    "    while(1){\n",
    "        \n",
    "        if ((ns = accept(s, (struct sockaddr *) &direcc, &len))==-1){\n",
    "            perror(\"Error en acept()\");\n",
    "            exit(-1);\n",
    "        };\n",
    "\n",
    "        connection_handler(ns, buf);\n",
    "    }\n",
    "```"
   ]
  },
  {
   "cell_type": "code",
   "execution_count": null,
   "metadata": {
    "collapsed": true
   },
   "outputs": [],
   "source": [
    "%%writefile src/server2.c\n",
    "\n",
    "/* \n",
    "PrimerServidorTCP.c\n",
    "Servicio: Las cadenas de texto recibidas de un Cliente son enviadas a la salida estándar.\n",
    "Nota: Por simplicidad del código no se realiza ningún tipo de control de errores. No obstante el servidor es totalmente funcional.\n",
    "*/\n",
    "\n",
    "#include <sys/types.h>\n",
    "#include <sys/socket.h>\n",
    "#include <netinet/in.h>\n",
    "#include <string.h>\n",
    "#include <stdlib.h>\n",
    "#include <stdio.h>\n",
    "#include <unistd.h>\n",
    "#include<arpa/inet.h>\n",
    "\n",
    "#define PORT 12345\n",
    "#define MAXBUFF 100\n",
    "\n",
    "// manejador de la conexion\n",
    "void connection_handler(int ns, char* buf){\n",
    "    \n",
    "    int n;\n",
    "        \n",
    "    while ((n = recv(ns, buf, sizeof(buf), 0)) > 0){\n",
    "\n",
    "        write(1, buf, n);\n",
    "    }\n",
    "\n",
    "}\n",
    "\n",
    "int main(void){\n",
    "    char buf[MAXBUFF];\n",
    "    int s, ns, len;\n",
    "    struct sockaddr_in direcc;\n",
    "\n",
    "    if ((s = socket(AF_INET, SOCK_STREAM, 0))==-1){\n",
    "        perror(\"Error en socket()\");\n",
    "        exit (-1);\n",
    "    };\n",
    "\n",
    "    bzero((char *) &direcc, sizeof(direcc));\n",
    "    direcc.sin_family = AF_INET;\n",
    "    direcc.sin_addr.s_addr = htonl(INADDR_ANY);\n",
    "    direcc.sin_port = htons(PORT);\n",
    "\n",
    "    len = sizeof(struct sockaddr_in);\n",
    "\n",
    "    if (bind(s, (struct sockaddr *) &direcc, len)==-1){\n",
    "        perror(\"Error en bind()\");\n",
    "        exit(-1);\n",
    "    };\n",
    "    \n",
    "    if (listen(s, 5)==.1){\n",
    "        perror(\"Error en listen()\");\n",
    "        exit(-1);\n",
    "    };\n",
    "    \n",
    "    \n",
    "    while(1){\n",
    "        \n",
    "        if ((ns = accept(s, (struct sockaddr *) &direcc, &len))==-1){\n",
    "            perror(\"Error en acept()\");\n",
    "            exit(-1);\n",
    "        };\n",
    "\n",
    "        connection_handler(ns, buf);\n",
    "    }\n",
    "    \n",
    "    close(ns); close(s);\n",
    "    exit(0);\n",
    "    \n",
    "}\n"
   ]
  },
  {
   "cell_type": "code",
   "execution_count": null,
   "metadata": {
    "collapsed": true
   },
   "outputs": [],
   "source": [
    "!gcc src/server2.c -o src/server"
   ]
  },
  {
   "cell_type": "code",
   "execution_count": null,
   "metadata": {
    "collapsed": true
   },
   "outputs": [],
   "source": [
    "from subprocess import Popen, PIPE\n",
    "server = Popen(['./server',],stdout=PIPE, stderr=PIPE)"
   ]
  },
  {
   "cell_type": "code",
   "execution_count": null,
   "metadata": {
    "collapsed": true
   },
   "outputs": [],
   "source": [
    "server.terminate()\n",
    "output = server.stdout.read()\n",
    "\n",
    "for line in output.decode('ascii').strip().split('\\r\\n'):\n",
    "    print(line)"
   ]
  },
  {
   "cell_type": "markdown",
   "metadata": {},
   "source": [
    "### 4.Modifique el servidor para que preste el servicio de echo (vea RFC862)."
   ]
  },
  {
   "cell_type": "markdown",
   "metadata": {},
   "source": [
    "Para lograr el objetivo previsto solo es necesario modificar el descriptor sobre el cual escribe la llamada *write* que se encuentra adentro del **recv()**. Además se decidió reemplazar la llamada *write* por la función *send* de la librería *socket*\n",
    "\n",
    "Codigo original:\n",
    "\n",
    "```c\n",
    "    while ((n = recv(ns, buf, sizeof(buf), 0)) > 0){\n",
    "        write(1, buf, n);\n",
    "    }\n",
    "```\n",
    "\n",
    "Codigo modificado:\n",
    "```c\n",
    "    while ((n = recv(ns, buf, sizeof(buf), 0)) > 0){\n",
    "        send(ns, buf, n, 0);\n",
    "    }\n",
    "```"
   ]
  },
  {
   "cell_type": "code",
   "execution_count": null,
   "metadata": {
    "collapsed": true
   },
   "outputs": [],
   "source": [
    "%%writefile src/echo_server.c\n",
    "\n",
    "/* \n",
    "PrimerServidorTCP.c\n",
    "Servicio: Las cadenas de texto recibidas de un Cliente son enviadas a la salida estándar.\n",
    "Nota: Por simplicidad del código no se realiza ningún tipo de control de errores. No obstante el servidor es totalmente funcional.\n",
    "*/\n",
    "\n",
    "#include <sys/types.h>\n",
    "#include <sys/socket.h>\n",
    "#include <netinet/in.h>\n",
    "#include <string.h>\n",
    "#include <stdlib.h>\n",
    "#include <stdio.h>\n",
    "#include <unistd.h>\n",
    "#include<arpa/inet.h>\n",
    "\n",
    "#define PORT 12345\n",
    "#define MAXBUFF 100\n",
    "\n",
    "// manejador de la conexion\n",
    "void connection_handler(int ns, char* buf, char * direcc){\n",
    "    \n",
    "    int n;\n",
    "        \n",
    "    printf(\"%s se conectó al servidor\\n\", direcc);\n",
    "    while ((n = recv(ns, buf, sizeof(buf), 0)) > 0){\n",
    "        send(ns, buf, n, 0);\n",
    "    }\n",
    "    \n",
    "    printf(\"%s se desconectó\\n\", direcc);\n",
    "\n",
    "}\n",
    "\n",
    "int main(void){\n",
    "    char buf[MAXBUFF];\n",
    "    int s, ns, len;\n",
    "    struct sockaddr_in direcc;\n",
    "\n",
    "    if ((s = socket(AF_INET, SOCK_STREAM, 0))==-1){\n",
    "        perror(\"Error en socket()\");\n",
    "        exit (-1);\n",
    "    };\n",
    "\n",
    "    bzero((char *) &direcc, sizeof(direcc));\n",
    "    direcc.sin_family = AF_INET;\n",
    "    direcc.sin_addr.s_addr = htonl(INADDR_ANY);\n",
    "    direcc.sin_port = htons(PORT);\n",
    "\n",
    "    len = sizeof(struct sockaddr_in);\n",
    "\n",
    "    if (bind(s, (struct sockaddr *) &direcc, len)==-1){\n",
    "        perror(\"Error en bind()\");\n",
    "        exit(-1);\n",
    "    };\n",
    "    \n",
    "    if (listen(s, 5)==.1){\n",
    "        perror(\"Error en listen()\");\n",
    "        exit(-1);\n",
    "    };\n",
    "    \n",
    "    \n",
    "    while(1){\n",
    "        \n",
    "        if ((ns = accept(s, (struct sockaddr *) &direcc, &len))==-1){\n",
    "            perror(\"Error en acept()\");\n",
    "            exit(-1);\n",
    "        };\n",
    "\n",
    "        connection_handler(ns, buf, inet_ntoa(direcc.sin_addr));\n",
    "    }\n",
    "    \n",
    "    close(ns); close(s);\n",
    "    exit(0);\n",
    "    \n",
    "}\n"
   ]
  },
  {
   "cell_type": "code",
   "execution_count": null,
   "metadata": {
    "collapsed": true
   },
   "outputs": [],
   "source": [
    "! gcc src/echo_server.c -o src/server"
   ]
  },
  {
   "cell_type": "code",
   "execution_count": null,
   "metadata": {
    "collapsed": true
   },
   "outputs": [],
   "source": [
    "from subprocess import Popen, PIPE\n",
    "server = Popen(['./src/server',],stdout=PIPE, stderr=PIPE)"
   ]
  },
  {
   "cell_type": "code",
   "execution_count": null,
   "metadata": {
    "collapsed": true
   },
   "outputs": [],
   "source": [
    "server.terminate()"
   ]
  },
  {
   "cell_type": "markdown",
   "metadata": {},
   "source": [
    "### 5.Modifique el servidor para que preste el servicio de character generator (vea RFC864)."
   ]
  },
  {
   "cell_type": "markdown",
   "metadata": {},
   "source": [
    "La estructura que contiene los caracteres a enviar se encuentra declarada en el archivo [chargen.h](src/chargen.h) como: \n",
    "```c\n",
    "        const char * characters[] = {\n",
    "            \"!\\\"#$%&'()*+,-./0123456789:;<=>?@ABCDEFGHIJKLMNOPQRSTUVWXYZ[\\\\]^_`abcdefgh\",\n",
    "            \"\\\"#$%&'()*+,-./0123456789:;<=>?@ABCDEFGHIJKLMNOPQRSTUVWXYZ[\\\\]^_`abcdefghi\",\n",
    "            ....\n",
    "            ....\n",
    "        };\n",
    "```\n",
    "\n",
    "Cada posición del arreglo contiene una cadena del tamaño del buffer. La solución recorre el arreglo controlando el borde con:\n",
    "\n",
    "```c\n",
    "    if (i > (sizeof(characters)/sizeof(characters[0])) - 1)\n",
    "        i = 0;\n",
    "```\n"
   ]
  },
  {
   "cell_type": "code",
   "execution_count": null,
   "metadata": {},
   "outputs": [],
   "source": [
    "%%writefile src/chargen_server.c\n",
    "\n",
    "/* \n",
    "PrimerServidorTCP.c\n",
    "Servicio: Las cadenas de texto recibidas de un Cliente son enviadas a la salida estándar.\n",
    "Nota: Por simplicidad del código no se realiza ningún tipo de control de errores. No obstante el servidor es totalmente funcional.\n",
    "*/\n",
    "\n",
    "#include <sys/types.h>\n",
    "#include <sys/socket.h>\n",
    "#include <netinet/in.h>\n",
    "#include <string.h>\n",
    "#include <stdlib.h>\n",
    "#include <stdio.h>\n",
    "#include <unistd.h>\n",
    "#include \"chargen.h\"\n",
    "\n",
    "#define PORTNUMBER 12345\n",
    "#define MAXBUFF 74\n",
    "\n",
    "int connection_handler(int ns, char* buf){\n",
    "\n",
    "    unsigned long i = 0;\n",
    "    \n",
    "    while (1) {\n",
    "                   \n",
    "        strncpy(buf, characters[i++], MAXBUFF);\n",
    "        \n",
    "        if (i > (sizeof(characters)/sizeof(characters[0])) - 1)\n",
    "            i = 0;\n",
    "\n",
    "        if (send(ns, buf, sizeof(buf), 0)<0){\n",
    "            break;\n",
    "        }\n",
    "        \n",
    "    }\n",
    "    close(ns);\n",
    "    \n",
    "    return 0;\n",
    "}\n",
    "\n",
    "int main(void){\n",
    "    \n",
    "    char buf[MAXBUFF];\n",
    "    int s, ns, len;\n",
    "    struct sockaddr_in direcc;\n",
    "\n",
    "    if ((s = socket(AF_INET, SOCK_STREAM, 0))==-1){\n",
    "        perror(\"Error en socket()\");\n",
    "        exit (-1);\n",
    "    };\n",
    "\n",
    "    bzero((char *) &direcc, sizeof(direcc));\n",
    "    direcc.sin_family = AF_INET;\n",
    "    direcc.sin_port = htons(PORTNUMBER);\n",
    "    direcc.sin_addr.s_addr = htonl(INADDR_ANY);\n",
    "\n",
    "    len = sizeof(struct sockaddr_in);\n",
    "\n",
    "    if (bind(s, (struct sockaddr *) &direcc, len)==-1){\n",
    "        perror(\"Error en bind()\");\n",
    "        exit(-1);\n",
    "    };\n",
    "    \n",
    "    if (listen(s, 5)==.1){\n",
    "        perror(\"Error en listen()\");\n",
    "        exit(-1);\n",
    "    };\n",
    "    \n",
    "    \n",
    "    while(1){\n",
    "        \n",
    "        if ((ns = accept(s, (struct sockaddr *) &direcc, &len))==-1){\n",
    "            perror(\"Error en acept()\");\n",
    "            exit(-1);\n",
    "        };\n",
    "\n",
    "        connection_handler(ns, buf);\n",
    "    }\n",
    "    \n",
    "\n",
    "    \n",
    "     close(s);\n",
    "     exit(0);\n",
    "    \n",
    "}"
   ]
  },
  {
   "cell_type": "code",
   "execution_count": null,
   "metadata": {
    "collapsed": true
   },
   "outputs": [],
   "source": [
    "! gcc src/chargen_server.c -o src/server"
   ]
  },
  {
   "cell_type": "code",
   "execution_count": null,
   "metadata": {
    "collapsed": true
   },
   "outputs": [],
   "source": [
    "from subprocess import Popen, PIPE\n",
    "server = Popen(['./src/server',],stdout=PIPE, stderr=PIPE)"
   ]
  },
  {
   "cell_type": "code",
   "execution_count": null,
   "metadata": {
    "collapsed": true
   },
   "outputs": [],
   "source": [
    "server.terminate()"
   ]
  },
  {
   "cell_type": "markdown",
   "metadata": {},
   "source": [
    "### 6.Desarrolle un cliente que se comunique con el servidor."
   ]
  },
  {
   "cell_type": "code",
   "execution_count": null,
   "metadata": {
    "collapsed": true
   },
   "outputs": [],
   "source": [
    "%%writefile src/client.c\n",
    "\n",
    "#include <sys/types.h>\n",
    "#include <sys/socket.h>\n",
    "#include <netinet/in.h>\n",
    "#include <string.h>\n",
    "#include <stdlib.h>\n",
    "#include <stdio.h>\n",
    "#include <unistd.h>\n",
    "#include<arpa/inet.h>\n",
    " \n",
    "#define HOST \"127.0.0.1\"\n",
    "#define PORT 12345\n",
    "#define MAXBUFF 1024\n",
    "\n",
    "int main(void) {\n",
    "\n",
    "    int s;\n",
    "    struct sockaddr_in server;\n",
    "    char req[MAXBUFF], resp[MAXBUFF];\n",
    "     \n",
    "    if ((s = socket(AF_INET, SOCK_STREAM, 0))==-1){\n",
    "        perror(\"Error en socket()\");\n",
    "        return 1;\n",
    "    }\n",
    "     \n",
    "    server.sin_family = AF_INET;\n",
    "    server.sin_addr.s_addr = inet_addr(HOST);\n",
    "    server.sin_port = htons(PORT);\n",
    " \n",
    "    if (connect(s , (struct sockaddr *)&server , sizeof(server)) < 0){\n",
    "        perror(\"Error en connect()\");\n",
    "        return 1;\n",
    "    }\n",
    "     \n",
    "    while(1){\n",
    "         \n",
    "        fgets(req, MAXBUFF, stdin);\n",
    "\n",
    "        if( send(s, req, strlen(req)+1, 0) < 0){\n",
    "            perror(\"Error en send()\");\n",
    "            return 1;\n",
    "        }\n",
    "         \n",
    "        if( recv(s, resp, MAXBUFF, 0) < 0){\n",
    "            perror(\"Error en recv()\");\n",
    "            return 1;\n",
    "        }\n",
    "            \n",
    "        printf(\"response: %s\\n\", resp);\n",
    "        \n",
    "        bzero(req, MAXBUFF);\n",
    "    }\n",
    "     \n",
    "    close(s);\n",
    "    return 0;\n",
    "}"
   ]
  },
  {
   "cell_type": "code",
   "execution_count": null,
   "metadata": {
    "collapsed": true
   },
   "outputs": [],
   "source": [
    "! gcc src/client.c -o src/client"
   ]
  },
  {
   "cell_type": "code",
   "execution_count": null,
   "metadata": {
    "collapsed": true
   },
   "outputs": [],
   "source": [
    "! gcc src/echo_server.c -o src/server"
   ]
  },
  {
   "cell_type": "code",
   "execution_count": null,
   "metadata": {
    "collapsed": true
   },
   "outputs": [],
   "source": [
    "from subprocess import Popen, PIPE\n",
    "server = Popen(['./src/server',],stdout=PIPE, stderr=PIPE)"
   ]
  },
  {
   "cell_type": "code",
   "execution_count": null,
   "metadata": {
    "collapsed": true
   },
   "outputs": [],
   "source": [
    "server.terminate()"
   ]
  },
  {
   "cell_type": "markdown",
   "metadata": {},
   "source": [
    "### 7.Modificar el Servidor del punto anterior para que cambie el servicio por uno que devuelva la suma de dos parámetros enteros o una leyenda de error en parámetros si estos no son enteros. Tips: Usar la función sscanf() y snprintf(). Crear el cliente correspondiente."
   ]
  },
  {
   "cell_type": "markdown",
   "metadata": {},
   "source": [
    "**Nota:** el servidor puede usarse con el mismo cliente desarrollado en el punto 6. El servidor espera cadenas con formato \"num+num\" y en caso de recibir un mensaje sin ese formato notifica al cliente con un \"bad request\"."
   ]
  },
  {
   "cell_type": "code",
   "execution_count": null,
   "metadata": {},
   "outputs": [],
   "source": [
    "%%writefile src/sum_server.c\n",
    "\n",
    "\n",
    "\n",
    "/* \n",
    "PrimerServidorTCP.c\n",
    "Servicio: Las cadenas de texto recibidas de un Cliente son enviadas a la salida estándar.\n",
    "Nota: Por simplicidad del código no se realiza ningún tipo de control de errores. No obstante el servidor es totalmente funcional.\n",
    "*/\n",
    "\n",
    "#include <sys/types.h>\n",
    "#include <sys/socket.h>\n",
    "#include <netinet/in.h>\n",
    "#include <string.h>\n",
    "#include <stdlib.h>\n",
    "#include <stdio.h>\n",
    "#include <unistd.h>\n",
    "#include <arpa/inet.h>\n",
    "\n",
    "#define PORT 12345\n",
    "#define MAXBUFF 1024\n",
    "\n",
    "// manejador de la conexion\n",
    "void connection_handler(int ns, char* req, char * direcc){\n",
    "    \n",
    "    int n, num1, num2;\n",
    "    char * res = (char *)malloc(sizeof(MAXBUFF));\n",
    "    \n",
    "    printf(\"%s se conectó al servidor\\n\", direcc);\n",
    "    while ((n = recv(ns, req, sizeof(req), 0)) > 0){\n",
    "        \n",
    "        if (sscanf(req, \"%d+%d\", &num1, &num2) == 2){\n",
    "        \n",
    "            sprintf(res, \"%d+%d = %d\\n\", num1, num2, num1+num2);\n",
    "        \n",
    "        } else {\n",
    "            \n",
    "            sprintf(res, \"bad request\\n\");\n",
    "        }\n",
    "        \n",
    "        send(ns, res, strlen(res)+1, 0);\n",
    "    }\n",
    "    \n",
    "    printf(\"%s se desconectó\\n\", direcc);\n",
    "\n",
    "}\n",
    "\n",
    "int main(void){\n",
    "    char buf[MAXBUFF];\n",
    "    int s, ns, len;\n",
    "    struct sockaddr_in direcc;\n",
    "\n",
    "    if ((s = socket(AF_INET, SOCK_STREAM, 0))==-1){\n",
    "        perror(\"Error en socket()\");\n",
    "        exit (-1);\n",
    "    };\n",
    "\n",
    "    bzero((char *) &direcc, sizeof(direcc));\n",
    "    direcc.sin_family = AF_INET;\n",
    "    direcc.sin_addr.s_addr = htonl(INADDR_ANY);\n",
    "    direcc.sin_port = htons(PORT);\n",
    "\n",
    "    len = sizeof(struct sockaddr_in);\n",
    "\n",
    "    if (bind(s, (struct sockaddr *) &direcc, len)==-1){\n",
    "        perror(\"Error en bind()\");\n",
    "        exit(-1);\n",
    "    };\n",
    "    \n",
    "    if (listen(s, 5)==-1){\n",
    "        perror(\"Error en listen()\");\n",
    "        exit(-1);\n",
    "    };\n",
    "    \n",
    "    \n",
    "    while(1){\n",
    "        \n",
    "        if ((ns = accept(s, (struct sockaddr *) &direcc, &len))==-1){\n",
    "            perror(\"Error en acept()\");\n",
    "            exit(-1);\n",
    "        };\n",
    "\n",
    "        connection_handler(ns, buf, inet_ntoa(direcc.sin_addr));\n",
    "    }\n",
    "    \n",
    "    close(ns); close(s);\n",
    "    exit(0);\n",
    "    \n",
    "}"
   ]
  },
  {
   "cell_type": "code",
   "execution_count": null,
   "metadata": {
    "collapsed": true
   },
   "outputs": [],
   "source": [
    "!gcc src/sum_server.c -o src/server"
   ]
  },
  {
   "cell_type": "code",
   "execution_count": null,
   "metadata": {
    "collapsed": true
   },
   "outputs": [],
   "source": [
    "from subprocess import Popen, PIPE\n",
    "server = Popen(['./src/server',],stdout=PIPE, stderr=PIPE)"
   ]
  },
  {
   "cell_type": "code",
   "execution_count": null,
   "metadata": {
    "collapsed": true
   },
   "outputs": [],
   "source": [
    "server.terminate()"
   ]
  },
  {
   "cell_type": "code",
   "execution_count": null,
   "metadata": {},
   "outputs": [],
   "source": [
    "%%HTML\n",
    "<video width=\"900\" height=\"700\" controls>\n",
    "  <source src=\"images/sum_server.webm\" type=\"video/mp4\">\n",
    "</video>"
   ]
  },
  {
   "cell_type": "markdown",
   "metadata": {},
   "source": [
    "### 8.Transformar el Servidor iterativo TCP de Eco del punto 4), en un servidor iterativo de Eco con UDP. Crear el cliente correspondiente."
   ]
  },
  {
   "cell_type": "code",
   "execution_count": null,
   "metadata": {
    "collapsed": true
   },
   "outputs": [],
   "source": [
    "%%writefile src/udp_server.c\n",
    "\n",
    "/*\n",
    "    Simple udp server\n",
    "*/\n",
    "#include <sys/types.h>\n",
    "#include <sys/socket.h>\n",
    "#include <netinet/in.h>\n",
    "#include <string.h>\n",
    "#include <stdlib.h>\n",
    "#include <stdio.h>\n",
    "#include <unistd.h>\n",
    "#include <arpa/inet.h>\n",
    "\n",
    "#define PORT 12345\n",
    "#define MAXBUFF 1024\n",
    " \n",
    "int main(void)\n",
    "{\n",
    "    char buf[MAXBUFF];\n",
    "    int s, i, slen = sizeof(struct sockaddr_in), recv_len;\n",
    "    struct sockaddr_in direcc, direcc2;\n",
    "     \n",
    "    if ((s=socket(AF_INET, SOCK_DGRAM, IPPROTO_UDP)) == -1){\n",
    "        perror(\"Error en socket()\");\n",
    "        exit(1);\n",
    "    }\n",
    "     \n",
    "    bzero((char *) &direcc, sizeof(direcc));\n",
    "    direcc.sin_family = AF_INET;\n",
    "    direcc.sin_port = htons(PORT);\n",
    "    direcc.sin_addr.s_addr = htonl(INADDR_ANY);\n",
    "\n",
    "    if( bind(s , (struct sockaddr*)&direcc, sizeof(direcc) ) == -1){\n",
    "        perror(\"Error en bind()\");\n",
    "        exit(1);\n",
    "    }\n",
    "     \n",
    "    while(1){\n",
    "        fflush(stdout);\n",
    "         \n",
    "        if ((recv_len = recvfrom(s, buf, MAXBUFF, 0, (struct sockaddr *) &direcc2, &slen)) == -1)\n",
    "        {\n",
    "                perror(\"Error en recvfrom()\");\n",
    "                exit(1);\n",
    "        }\n",
    "         \n",
    "        printf(\"Mensaje recibido de %s:%d\\n\", inet_ntoa(direcc2.sin_addr), ntohs(direcc2.sin_port));\n",
    "        printf(\"Mensaje: %s\\n\" , buf);\n",
    "         \n",
    "        if (sendto(s, buf, recv_len, 0, (struct sockaddr*) &direcc2, slen) == -1)\n",
    "        {\n",
    "            perror(\"Error en sendto()\");\n",
    "            exit(1);\n",
    "        }\n",
    "    }\n",
    " \n",
    "    close(s);\n",
    "    return 0;\n",
    "}"
   ]
  },
  {
   "cell_type": "code",
   "execution_count": null,
   "metadata": {
    "collapsed": true
   },
   "outputs": [],
   "source": [
    "! gcc src/udp_server.c -o src/server"
   ]
  },
  {
   "cell_type": "code",
   "execution_count": null,
   "metadata": {
    "collapsed": true
   },
   "outputs": [],
   "source": [
    "%%writefile src/udp_client.c\n",
    "\n",
    "#include<stdio.h> \n",
    "#include<string.h> \n",
    "#include<stdlib.h> \n",
    "#include<unistd.h>\n",
    "#include<arpa/inet.h>\n",
    "#include<sys/socket.h>\n",
    " \n",
    "#define SERVER \"127.0.0.1\"\n",
    "#define MAXBUFF 1024  \n",
    "#define PORT 12345  \n",
    " \n",
    "int main(void)\n",
    "{\n",
    "    struct sockaddr_in server;\n",
    "    int s, i, slen=sizeof(server);\n",
    "    char buf[MAXBUFF], message[MAXBUFF];\n",
    "    char * req = (char*)malloc(sizeof(MAXBUFF));\n",
    "\n",
    "    if ( (s=socket(AF_INET, SOCK_DGRAM, IPPROTO_UDP)) == -1){\n",
    "        perror(\"Error en socket()\");\n",
    "        exit(1);\n",
    "    }\n",
    " \n",
    "    bzero((char *) &server, sizeof(server));\n",
    "    server.sin_family = AF_INET;\n",
    "    server.sin_port = htons(PORT);\n",
    "     \n",
    "    if (inet_aton(SERVER , &server.sin_addr) == 0) \n",
    "    {\n",
    "        perror(\"Error en inet_aton()\");\n",
    "        exit(1);\n",
    "    }\n",
    " \n",
    "    while(1)\n",
    "    {\n",
    "        printf(\"Ingrese el mensaje: \");\n",
    "        fgets(req, MAXBUFF, stdin);\n",
    "         \n",
    "        if (sendto(s, req, strlen(req)+1 , 0 , (struct sockaddr *) &server, slen)==-1)\n",
    "        {\n",
    "            perror(\"Error en sendto()\");\n",
    "            exit(1);\n",
    "        }\n",
    "         \n",
    "        memset(buf,'\\0', MAXBUFF);\n",
    "        \n",
    "        if (recvfrom(s, buf, MAXBUFF, 0, (struct sockaddr *) &server, &slen) == -1)\n",
    "        {\n",
    "            perror(\"Error en recvfrom()\");\n",
    "            exit(1);\n",
    "        }\n",
    "         \n",
    "        puts(buf);\n",
    "    }\n",
    " \n",
    "    close(s);\n",
    "    return 0;\n",
    "}"
   ]
  },
  {
   "cell_type": "code",
   "execution_count": null,
   "metadata": {
    "collapsed": true
   },
   "outputs": [],
   "source": [
    "!gcc src/udp_client.c -o src/client"
   ]
  },
  {
   "cell_type": "markdown",
   "metadata": {
    "collapsed": true
   },
   "source": [
    "El práctico consistirá en el uso de la herramienta de escaneo de puertos nmap para obtener\n",
    "información de los equipos y servicios de la red.\n",
    "\n",
    "nmap implementa diversas técnicas para extraer información de los equipos que forman parte\n",
    "de una red y para identificar los puertos y servicios que están disponibles en distintas\n",
    "máquinas. Algunos de los métodos disponibles realizan el escaneo sin dejar rastro, mientras\n",
    "que otros dejarán un rastro en los ficheros de log de las máquinas analizadas."
   ]
  },
  {
   "cell_type": "markdown",
   "metadata": {
    "collapsed": true
   },
   "source": [
    "1. ### Enumerar equipos de la red y sus servicios.\n",
    "\n",
    "A las máquinas de cada grupo las haremos funcionar como observador, para ello:\n",
    "\n",
    "   a) Lanzar un escaneado Ping Sweeping [opción -sP] para identificar, mediante Ping, las máquinas que componen la red\n",
    "    \n",
    "```\n",
    "observador:~# nmap -sP 192.168.0.0/24\n",
    "```\n",
    "\n",
    "   b) Sobre cada uno de los equipos que aparezcan como activos (exluido observador) realizar un escaneo de tipo TCP connect scanning [opción -sT] para determinar que puertos están abiertos.\n",
    "```\n",
    "observador:~# nmap -sT -v 192.168.0.11\n",
    "observador:~# nmap -sT -v 192.168.0.22\n",
    "```"
   ]
  },
  {
   "cell_type": "markdown",
   "metadata": {},
   "source": [
    "#### Pruebas realizadas:\n",
    "\n",
    "1) Se creó una red de contenedores con esta sucesión de comandos: \n",
    "\n",
    "```bash\n",
    "    docker network create \\\n",
    "        --driver=bridge \\\n",
    "        --subnet=192.168.1.0/16 \\\n",
    "        --gateway=192.168.1.1 \\\n",
    "        tp1redes\n",
    "        \n",
    "    docker run -itd --name=hostA --network=tp1redes debian\n",
    "    docker run -itd --name=hostB --network=tp1redes alpine\n",
    "    docker run -itd --name=hostC --network=tp1redes pritunl/archlinux\n",
    "```\n",
    "    \n",
    "   + En el hostB se abrió el puerto 12345 con *\"nc -l -p 12345\"* y se lanzaron los 3 tipos de escaneo propuestos. Como cuestión para destacar vimos que el descubrimiento de sistema operativo en los contenedores no era posible para nmap y nos contestaba que \"Too many fingerprints match this host to give specific OS details\".\n",
    "\n",
    "   + En el siguiente video se reproducen algunas de las pruebas realizadas.\n",
    "\n",
    "   **Nota:** se utilizó [esta](https://hub.docker.com/r/jess/nmap/) imagen de nmap. \n"
   ]
  },
  {
   "cell_type": "code",
   "execution_count": 1,
   "metadata": {},
   "outputs": [
    {
     "data": {
      "text/html": [
       "<video width=\"800\" height=\"700\" controls>\n",
       "  <source src=\"images/nmap-docker.webm\" type=\"video/mp4\">\n",
       "</video>"
      ],
      "text/plain": [
       "<IPython.core.display.HTML object>"
      ]
     },
     "metadata": {},
     "output_type": "display_data"
    }
   ],
   "source": [
    "%%HTML\n",
    "<video width=\"800\" height=\"700\" controls>\n",
    "  <source src=\"images/nmap-docker.webm\" type=\"video/mp4\">\n",
    "</video>"
   ]
  },
  {
   "cell_type": "markdown",
   "metadata": {},
   "source": [
    "2) Se realizaron algunas pruebas con la librería *python-nmap* de muy facil uso e interesante para automatizar escaneos. En las dos celdas siguientes se realizan las pruebas propuestas en los ptos 1 y 2."
   ]
  },
  {
   "cell_type": "code",
   "execution_count": null,
   "metadata": {},
   "outputs": [],
   "source": [
    "import netifaces\n",
    "import nmap\n",
    "\n",
    "# Indicar el nombre de la interface de red a utilizar\n",
    "interface = 'wlp2s0'\n",
    "\n",
    "# Obteniendo ip del host\n",
    "ip = netifaces.ifaddresses(interface)[netifaces.AF_INET][0]['addr']\n",
    "ips = ip + \"/24\"\n",
    "# Instanciamos un objeto nm\n",
    "nmScan = nmap.PortScanner()\n",
    "\n",
    "# SCAN!\n",
    "nmScan.scan(ips, arguments=\"-sP\")\n",
    "\n",
    "hosts = nmScan.all_hosts()\n",
    "\n",
    "for host in hosts:\n",
    "    print(host)\n"
   ]
  },
  {
   "cell_type": "code",
   "execution_count": null,
   "metadata": {},
   "outputs": [],
   "source": [
    "for host in hosts:\n",
    "    if host != ip:        \n",
    "        nmScan.scan(host, arguments=\"-sT\")\n",
    "        print('----------------------------------------------------')\n",
    "        print('Host : %s (%s)' % (host, nmScan[host].hostname()))\n",
    "        print('State : %s' % nmScan[host].state())\n",
    "\n",
    "        for proto in nmScan[host].all_protocols():\n",
    "            print('----------')\n",
    "            print('Protocol : %s' % proto)\n",
    "\n",
    "            lport = nmScan[host][proto].keys()\n",
    "            list(lport).sort()\n",
    "            for port in lport:\n",
    "                print('port : %s\\tstate : %s' % (port, nmScan[host][proto][port]['state']))"
   ]
  },
  {
   "cell_type": "markdown",
   "metadata": {
    "collapsed": true
   },
   "source": [
    "c) Repetir el escaneado añadiendo la opción -O para que nmap trate de identificar el Sistema Operativo que ejecuta y la opción -sV para determinar la versión concreta de los servicios que tiene activados.\n",
    "```\n",
    "observador:~# nmap -sT -O -sV 192.168.0.11\n",
    "```\n",
    "\n",
    "Los escaneados anteriores dejan rastro. Comprobar los ficheros de log (tail /var/log/syslog) en\n",
    "las máquinas y verificar si ha quedado constancia de las conexiones realizadas por nmap.\n",
    "```\n",
    "~# tail /var/log/syslog\n",
    "```\n",
    "**Nota:** El rastro del escaneo de tipo -sT que queda en /var/log/syslog fue guardado por el servidor telnet en el momento en que se estableció la conexión Telnet, por ello es necesario haber arrancado previamente el servidor Telnet (/etc/init.d/openbsd-inetd start)."
   ]
  },
  {
   "cell_type": "markdown",
   "metadata": {
    "collapsed": true
   },
   "source": [
    "En el caso del escaneo de sistemas operativos como se requieren privilegios de root copiamos acá la salida de una ejecución donde solo hay una máquina (el observador) y se puede ver entre otras cosas que tiene abierto el puerto 8000.  "
   ]
  },
  {
   "cell_type": "markdown",
   "metadata": {},
   "source": [
    "```\n",
    "➜  src git:(master) ✗ sudo nmap 192.168.1.0/24 -sT -O -sV\n",
    "Starting Nmap 7.70 ( https://nmap.org ) at 2018-04-18 20:30 -03\n",
    "\n",
    "Nmap scan report for 192.168.1.26\n",
    "Host is up (0.000080s latency).\n",
    "Not shown: 999 closed ports\n",
    "PORT     STATE SERVICE VERSION\n",
    "8000/tcp open  http    Tornado httpd 5.0.1\n",
    "No exact OS matches for host (If you know what OS is running on it, see https://nmap.org/submit/ ).\n",
    "TCP/IP fingerprint:\n",
    "OS:SCAN(V=7.70%E=4%D=4/18%OT=8000%CT=1%CU=43250%PV=Y%DS=0%DC=L%G=Y%TM=5AD7D\n",
    "OS:571%P=x86_64-unknown-linux-gnu)SEQ(CI=I%II=I)ECN(R=N)T1(R=N)T2(R=N)T3(R=\n",
    "OS:N)T4(R=N)T5(R=Y%DF=Y%T=40%W=0%S=Z%A=S+%F=AR%O=%RD=0%Q=)T6(R=Y%DF=Y%T=40%\n",
    "OS:W=0%S=A%A=Z%F=R%O=%RD=0%Q=)T7(R=Y%DF=Y%T=40%W=0%S=Z%A=S+%F=AR%O=%RD=0%Q=\n",
    "OS:)U1(R=Y%DF=N%T=40%IPL=164%UN=0%RIPL=G%RID=G%RIPCK=G%RUCK=G%RUD=G)IE(R=Y%\n",
    "OS:DFI=N%T=40%CD=S)\n",
    "\n",
    "Network Distance: 0 hops\n",
    "\n",
    "OS and Service detection performed. Please report any incorrect results at https://nmap.org/submit/ .\n",
    "Nmap done: 256 IP addresses (2 hosts up) scanned in 62.27 seconds\n",
    "\n",
    "```"
   ]
  },
  {
   "cell_type": "code",
   "execution_count": null,
   "metadata": {
    "collapsed": true
   },
   "outputs": [],
   "source": []
  }
 ],
 "metadata": {
  "kernelspec": {
   "display_name": "Python 3",
   "language": "python",
   "name": "python3"
  },
  "language_info": {
   "codemirror_mode": {
    "name": "ipython",
    "version": 3
   },
   "file_extension": ".py",
   "mimetype": "text/x-python",
   "name": "python",
   "nbconvert_exporter": "python",
   "pygments_lexer": "ipython3",
   "version": "3.6.2"
  }
 },
 "nbformat": 4,
 "nbformat_minor": 2
}
