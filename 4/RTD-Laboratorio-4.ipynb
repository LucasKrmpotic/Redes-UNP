{
 "cells": [
  {
   "cell_type": "markdown",
   "metadata": {},
   "source": [
    "# Trabajo de Laboratorio 4\n",
    "## Capa de Enlace"
   ]
  },
  {
   "cell_type": "code",
   "execution_count": 4,
   "metadata": {},
   "outputs": [
    {
     "data": {
      "text/html": [
       "\n",
       "<style>\n",
       ".notas {\n",
       "    background-color: #eeeeee;\n",
       "    padding: 1em;\n",
       "    border: 1px solid #aaa;\n",
       "    margin-top: 1em;\n",
       "}\n",
       "</style>\n"
      ],
      "text/plain": [
       "<IPython.core.display.HTML object>"
      ]
     },
     "execution_count": 4,
     "metadata": {},
     "output_type": "execute_result"
    }
   ],
   "source": [
    "from IPython.display import HTML\n",
    "HTML('''\n",
    "<style>\n",
    ".notas {\n",
    "    background-color: #eeeeee;\n",
    "    padding: 1em;\n",
    "    border: 1px solid #aaa;\n",
    "    margin-top: 1em;\n",
    "}\n",
    "</style>\n",
    "''')\n"
   ]
  },
  {
   "cell_type": "markdown",
   "metadata": {},
   "source": [
    "<div class=\"notas\">\n",
    "Este trabajo práctico puede ser realizado en grupo de hasta **2 integrantes**. Debe entregarse en formato cuadreno (**ipynb**) acompañado de archivos necesarios para su evaluación (imágenes, capturas de paquetes, etc).\n",
    "\n",
    "Debe contestar en una o más celdas posteriores a las celdas de la consigna. Si modifica algún archivo del práctico, debe hacer primero una copia. Las imágenes en formato SVG pueden ser editadas con el software Inkscape.\n",
    "\n",
    "Puede ayudarse con este sitio para formatear las tablas https://www.tablesgenerator.com/markdown_tables\n",
    "</div>\n"
   ]
  },
  {
   "cell_type": "markdown",
   "metadata": {},
   "source": [
    "#### Sobre CORE\n",
    "<div class=\"notas\">\n",
    " Para lanzar CORE:\n",
    " \n",
    " <pre>\n",
    " docker run -d \\ \n",
    "    --hostname coreemu_vnc \\\n",
    "    --name coreemu_vnc \\\n",
    "    --cap-add=NET_ADMIN --cap-add=SYS_ADMIN \\\n",
    "    -p 5901:5900 -p 8080:8080 -p 9999:9999 \\\n",
    "    -v $(pwd):/root/shared \n",
    "    unpdit/coreemu_vnc:unp-core-4.8\n",
    "\n",
    " </pre>\n",
    " \n",
    " Luego acceder a http://localhost:8080 para CORE y http://localhost:9999 para Jupyter.\n",
    " La carpeta en la que se lanza el contenedor, se comparte como /root/shared, en \n",
    " caso de no funcionar, se puede desde el administrador de archivos de Lab arrastar y soltar\n",
    " para subir archivos; y utilizar el botón derecho para descargarlos.\n",
    " </br>\n",
    " \n",
    " En caso de que el contenedor no responda, se puede crear neuvamente:\n",
    "\n",
    " `docker start coreemuv_vnc`, `docker stop coreemu_vnc` y `docker restart coreemu_vnc`.\n",
    "</div>\n",
    "\n",
    "<div class=\"notas\">\n",
    " Alternativamente se puede ejecutar en internet: https://www.youtube.com/watch?v=gkk_KdxShjA\n",
    "</div>"
   ]
  },
  {
   "cell_type": "markdown",
   "metadata": {},
   "source": [
    "### Punto 1\n",
    "\n",
    "En el diagrama de la figura, el usuario en la máquina A ejecuta `ping 172.16.1.10`. En el paquete ICMP dirigido desde A hacia B, visto en la LAN donde está  conectada A, indique cuáles son las direcciones de capa MAC origen  y  destino,  y  las  direcciones  IP  origen  y  destino.  Indique  cómo decidió la máquina A utilizar estas direcciones. Suponga que todos los equipos conocen las direcciones MAC que necesitan.\n",
    "\n",
    "![](./ej1.svg)"
   ]
  },
  {
   "cell_type": "markdown",
   "metadata": {},
   "source": [
    "**Maquina A**\n",
    "\n",
    "| MAC Origen | MAC Destino | IP Origen | IP Destino | \n",
    "| :--------: | :---------: | :-------: | :--------: |\n",
    "| MAC-A | MAC-R1 | 172.16.0.2 | 172.16.1.10 |\n",
    "\n",
    "**Router**\n",
    "\n",
    "| MAC Origen | MAC Destino | IP Destino | \n",
    "| :--------: | :---------: | :-------: |\n",
    "| MAC-R1 | MAC-A | 172.16.0.2 | \n",
    "| MAC-R2 | MAC-B | 172.16.1.10 |\n",
    "\n",
    "**Maquina B**\n",
    "\n",
    "| MAC Origen | MAC Destino | IP Origen | IP Destino | \n",
    "| :--------: | :---------: | :-------: | :--------: |\n",
    "| MAC-B | MAC-R2 | 172.16.1.10 | 172.16.0.2 |\n",
    "\n",
    "\n",
    "\n",
    "<span style=\"color:blue\">**Suponiendo que todos los equipos conocen las direcciones fisicas (MAC), es decir que no hay necesidad de mensajes ARP. La trama completa del ping seria:**</span>\n",
    "\n",
    "| MAC Origen | MAC Destino | IP Origen | IP Destino | Protocolo | Mensaje | \n",
    "| :--------: | :---------: | :-------: | :--------: | :-------: | :-----: |\n",
    "| MAC-A | MAC-R1 | 172.16.0.2 | 172.16.1.10 | IP | PING |\n",
    "| MAC-R2 | MAC-B | 172.16.0.2 | 172.16.1.10 | IP | PING |\n",
    "| MAC-B | MAC-R2 | 172.16.1.10 | 172.16.0.2 | IP | PONG |\n",
    "| MAC-R1 | MAC-A | 172.16.1.10 | 172.16.0.2 | IP | PONG |\n",
    "\n"
   ]
  },
  {
   "cell_type": "markdown",
   "metadata": {},
   "source": [
    "### Punto 2\n",
    "Dada la topología de la figura siguiente, responder las siguientes preguntas. Justifique cada una de sus respuestas.\n",
    "![](./ej2.svg)\n",
    "\n",
    "a.\tEs posible que colisionen dos tramas, una desde Host A a Host C y otra desde Host B a Host D? "
   ]
  },
  {
   "cell_type": "markdown",
   "metadata": {},
   "source": [
    "<span style=\"color:blue\">**Es posible la colision, debido a que pertenecen al mismo area de colision.**</span>\n",
    "\n",
    "**Ventajas del uso de Bridges:**\n",
    "\n",
    "<span style=\"color:blue\">\n",
    "**\u0001 Permiten una comunicación interdepartamental.**</span>\n",
    " \n",
    "<span style=\"color:blue\"> \n",
    "**\u0001 Cuentan con la capacidad de conectar diferentes tecnología LAN.** </span>\n",
    "\n",
    "<span style=\"color:blue\">**Ademas, la comunicacion entre el Host B y C es por medio de un Hub, que replica el mensaje a todas las redes conectadas a el.**</span> "
   ]
  },
  {
   "cell_type": "markdown",
   "metadata": {},
   "source": [
    "b.\tCuales MAC conoce o puede llegar a conocer el Host B? "
   ]
  },
  {
   "cell_type": "markdown",
   "metadata": {},
   "source": [
    "<span style=\"color:blue\">**El host B conoce o puede llegar a conocer (por protocolo ARP) las MAC de los nodos (host/routers) de tu misma red local.**</span>\n",
    "\n",
    "<span style=\"color:blue\">**En este caso el Host B conoce o podria conocer las direcciones MAC de los Host A,C y D y ademas la direccion MAC del Router.**</span>\n"
   ]
  },
  {
   "cell_type": "markdown",
   "metadata": {},
   "source": [
    "c. El Host C realiza un pedido de ARP (Brodcast de capa2), liste los Host que logran ver el pedido. "
   ]
  },
  {
   "cell_type": "markdown",
   "metadata": {},
   "source": [
    "<span style=\"color:blue\">**El Host C realiza un pedido ARP (ARP request (Broadcast)) que contiene la IP de destino por la que pregunta y espera a que esa maquina le responda con un mensaje (ARP reply) con la direccion MAC que le corresponde.**</span>\n",
    "\n",
    "<span style=\"color:blue\">**Si el pedido ARP lo hace el Host C, los Host que logran ver el pedido son los Host pertenecientes a la red local, en este caso los Host A, B y D y el Router.**</span>"
   ]
  },
  {
   "cell_type": "markdown",
   "metadata": {},
   "source": [
    "### Punto 3\n",
    "Dada la topología de la figura siguiente, responder las siguientes preguntas. Justifique cada una de sus respuestas. \n",
    "![](./ej3.png)"
   ]
  },
  {
   "cell_type": "markdown",
   "metadata": {},
   "source": [
    "a. Indicar si la siguiente trama Ethernet puede ser una trama correcta generada en la red de la figura (explicando cuándo y dónde se genera) o no:\n",
    "\n",
    "| Eth Destino | Eth Origen | Protocolo | IP Origen | IP Destino | .... |\n",
    "|-------------|------------|-----------|-----------|------------|------|\n",
    "| b:b:b:b:b:b | a:a:a:a:a:a | IP | 10.1.28.9 | 10.1.74.9 | .... |"
   ]
  },
  {
   "cell_type": "markdown",
   "metadata": {},
   "source": [
    "<span style=\"color:blue\">**La trama se genera desde el Host A (IP=10.1.28.9) con destino al Host B (IP=10.1.74.9).**</span>\n",
    "\n",
    "<span style=\"color:blue\">**La trama generada no es correcta ya que el Host A (por protocolo ARP) solo puede conocer las direcciones fisicas (MAC) de la misma red local (en este caso las red 10.1.28.0/24).**</span>\n",
    "\n",
    "\n",
    "<span style=\"color:blue\">**Para que un mensaje sea enviado del host A hacia el Host B, la direccion MAC que el Host A conoceria NO seria la del Host (que pertenece a otra red), sino que conoce la del Router R1 (MAC=1:2:3:4:5:6).**</span>\n",
    "\n",
    "<span style=\"color:blue\">**La trama correcta seria:**</span>\n",
    "\n",
    "| Eth Destino | Eth Origen | Protocolo | IP Origen | IP Destino | .... |\n",
    "|-------------|------------|-----------|-----------|------------|------|\n",
    "| 1:2:3:4:5:6 | a:a:a:a:a:a| IP | 10.1.28.9 | 10.1.74.9 | .... |\n",
    "| b:b:b:b:b:b | 1:2:3:4:5:6| IP | 10.1.28.9 | 10.1.74.9 | .... |\n"
   ]
  },
  {
   "cell_type": "markdown",
   "metadata": {},
   "source": [
    "b. Indicar qué tipo de trama es la siguiente, para qué se generaría en la red de la figura y cuáles serían los campos relevantes que le faltan::\n",
    "\n",
    "**Mensaje ARP Reply**\n",
    "\n",
    "| Eth Destino | Eth Origen | Protocolo |...|\n",
    "|-------------|------------|-----------|----|\n",
    "| 1:2:3:4:5:6 | a:a:a:a:a:a | ARP |...|\n",
    "\n",
    "<span style=\"color:blue\">**La trama es un mensaje ARP Reply, es decir, un mesaje de respuesta al ARP Request (Breoadcast). Los campos relevantes que faltan son las direcciones IP Origen y Destino.**</span>\n",
    "\n",
    "**Mensaje ARP Request**\n",
    "\n",
    "| Eth Destino | Eth Origen | Protocolo |...|\n",
    "|-------------|------------|-----------|------|\n",
    "| ff:ff:ff:ff:ff:ff | 1:2:3:4:5:6 | ARP |...|\n",
    "\n"
   ]
  },
  {
   "cell_type": "markdown",
   "metadata": {},
   "source": [
    "c. Indicar la salida en pantalla que genera el comando traceroute que hay que invocar para que aparezca en la red de la figura la siguiente trama:\n",
    "\n",
    "| Eth Destino | Eth Origen | Protocolo | IP Origen | IP Destino | Protocolo | ..... |\n",
    "|-------------|------------|-----------|-----------|------------|------|-----|\n",
    "| b:b:b:b:b:b | a:a:a:a:a:a | IP | 10.1.28.9 | 10.1.74.9 | UDP  | .... |"
   ]
  },
  {
   "cell_type": "markdown",
   "metadata": {},
   "source": []
  },
  {
   "cell_type": "markdown",
   "metadata": {},
   "source": [
    "### Punto 4\n",
    "Utilizando la red de la figura anterior, teniendo en cuenta que la máscara de subred es siempre /24, se solicita:\n",
    "\n",
    "a. Sea un paquete IP con origen en A y destino en B. Si miramos los contenidos de la trama Ethernet en que va encapsulado cuando pasa por la red 10.1.28.0, y los comparamos con los de la trama Ethernet de cuando pasa por la 10.1.74.0, indicar qué campos serán diferentes, tanto de la trama Ethernet como del paquete IP. Señalar, cuando se pueda, el valor que tendría cada uno de esos campos en ambas tramas."
   ]
  },
  {
   "cell_type": "markdown",
   "metadata": {},
   "source": [
    "Cambiarán las direcciones de origen y destino.  \n",
    "\n",
    "Trama ethernet en la subred A: \n",
    "\n",
    "destination: 1:2:3:4:5:6 (puerta de enlace de A) \n",
    "\n",
    "source: a:a:a:a:a:a \n",
    "\n",
    "Trama ethernet en la subred B: \n",
    "\n",
    "destination: b:b:b:b:b:b\n",
    "\n",
    "source: 7:8:9:a:b:c\n",
    "\n",
    "En el caso del datagrama IP el cambio que con seguridad ocurrirá es el decretemto en 1 del TTL, pero además podría haber cambios en caso de fragmentación (banderas de fragmentación, longitud, offset, y por lo tanto checksums). También podría cambiar de versión de IP. "
   ]
  },
  {
   "cell_type": "markdown",
   "metadata": {},
   "source": [
    "b. Con los datos de la figura, indicar en qué subredes Ethernet puede encontrarse un paquete IP con dirección destino 10.1.28.9."
   ]
  },
  {
   "cell_type": "markdown",
   "metadata": {},
   "source": [
    "Si suponemos envío exitoso y nos basamos en las tablas de encaminamiento podríamos limitar las subredes ethernet a las A, B, C e Y."
   ]
  },
  {
   "cell_type": "markdown",
   "metadata": {},
   "source": [
    "c.\tCon los datos de la figura, indicar en qué subredes Ethernet puede encontrarse un paquete IP con dirección origen 10.1.252.9."
   ]
  },
  {
   "cell_type": "markdown",
   "metadata": {},
   "source": [
    "Suponiendo envío exitoso y basandonos en las tablas de encaminamiento podríamos limitar las subredes a X, B y Z"
   ]
  },
  {
   "cell_type": "markdown",
   "metadata": {},
   "source": [
    "d.\tCon los datos de la figura, indicar en qué subredes Ethernet puede encontrarse un paquete IP con dirección origen 10.1.254.9 y dirección destino 10.1.253.9."
   ]
  },
  {
   "cell_type": "markdown",
   "metadata": {},
   "source": [
    "Como no existe ruta para la red 10.1.253.0 en la puerta de enlace predeterminada de los hosts de la subred Z ese paquete solo puede encontrarse en la subred Z y no llegaría a destino."
   ]
  },
  {
   "cell_type": "markdown",
   "metadata": {},
   "source": [
    "## Parte 2 - Ethernet"
   ]
  },
  {
   "cell_type": "markdown",
   "metadata": {},
   "source": [
    "### Punto 5\n",
    "Dada la siguiente trama Ethernet realice un análisis completo indicando los campos relevantes de la trama y del nivel de red involucrado.\n",
    "\n",
    "\n",
    "![](./ej5.png)\n",
    "\n"
   ]
  },
  {
   "cell_type": "markdown",
   "metadata": {},
   "source": [
    "PD:\n",
    "**FCS** (frame check sequence): 8f ec d3 4f"
   ]
  },
  {
   "cell_type": "markdown",
   "metadata": {},
   "source": [
    "### Punto 6\n",
    "Cree un diagrama en CORE con 2 nodos. Ejectue `brctl show` antes y después de su ejecución. \n",
    "\n",
    "a. ¿Cuál es el punte? ¿Qué interfases afecta? "
   ]
  },
  {
   "cell_type": "markdown",
   "metadata": {},
   "source": [
    "Las siguientes imágenes muestran la salida del comando **brctl show** antes y después de la ejecución de core\n",
    "![](./brctl-show.png)\n",
    "![](./brctl-show2.png)\n"
   ]
  },
  {
   "cell_type": "markdown",
   "metadata": {},
   "source": [
    "En la segunda puede verse que el puente tiene el nombre **b.22318.49** y afecta a las interfaces de red de cada computadora"
   ]
  },
  {
   "cell_type": "markdown",
   "metadata": {},
   "source": [
    "b. Cree un switch con 3 conexiones. ¿Qué sucede con el bridge?"
   ]
  },
  {
   "cell_type": "markdown",
   "metadata": {},
   "source": [
    "![](./brigde.png)"
   ]
  },
  {
   "cell_type": "markdown",
   "metadata": {},
   "source": [
    "El bridge sigue siendo uno solo y ahora afecta a las interfaces de las 3 computadoras. Si fuese un router en lugar de un switch tendríamos un bridge para cada subred. "
   ]
  },
  {
   "cell_type": "code",
   "execution_count": null,
   "metadata": {},
   "outputs": [],
   "source": []
  }
 ],
 "metadata": {
  "kernelspec": {
   "display_name": "Python 2",
   "language": "python",
   "name": "python2"
  },
  "language_info": {
   "codemirror_mode": {
    "name": "ipython",
    "version": 2
   },
   "file_extension": ".py",
   "mimetype": "text/x-python",
   "name": "python",
   "nbconvert_exporter": "python",
   "pygments_lexer": "ipython2",
   "version": "2.7.12"
  }
 },
 "nbformat": 4,
 "nbformat_minor": 2
}
