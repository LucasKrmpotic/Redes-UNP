{
 "cells": [
  {
   "cell_type": "markdown",
   "metadata": {},
   "source": [
    "<div style=\"text-align:center;\">\n",
    "    <h1>Trabajo de Laboratorio 2</h1>\n",
    "    <h2 >Capa de Transporte</h2>\n",
    "\n",
    "<h2 style=\"background-color:#CCCCCC; padding:0.5em, 0.5em, 0.5em, 0.5em;\">Parte 1: TCP Fundamentos</h2>\n",
    "</div>"
   ]
  },
  {
   "cell_type": "markdown",
   "metadata": {},
   "source": [
    "### 1) Dos aplicaciones en las máquinas A y B intercambian datos utilizando el protocolo TCP."
   ]
  },
  {
   "cell_type": "markdown",
   "metadata": {},
   "source": [
    "**a) Durante el intercambio de datos entre A y B, luego de establecida la conexión, la máquina A no recibe una confirmación de B sobre su ultimo envío, por lo que retransmite el segmento no confirmado. Al cabo de un tiempo, B recibe las dos copias del segmento tal como A las envió. ¿B detecta que se trata de dos copias de la misma información? Justifique su respuesta.**"
   ]
  },
  {
   "cell_type": "markdown",
   "metadata": {},
   "source": [
    "    B detecta que llegan segmentos duplicados. Cada segmento tiene un numero de secuencia. Cuando TCP transmite un segmento con datos, coloca una copia en cola de retransmicion e inicializa un timer. Al recibir el reconocimiento (ACK), TCP borra el segmento de la cola de retransmicion. Si no llega a recibir el ACK antes de que el timer expire, retransmite el segmento. En recepción (en este caso B), los numeros de secuencia son utilizados para ordenar correctamente los segmentos (ya que pueden llegar desordenados) y para eliminar los segmentos duplicados."
   ]
  },
  {
   "cell_type": "markdown",
   "metadata": {},
   "source": [
    "**b) Suponga que la conexión TCP que A inició con B, es una sesión telnet, (o sea que A se conectará al puerto 23 de B). ¿Es posible que A inicie una segunda conexión TCP hacia el puerto 23 de B, manteniendo la primera conexión activa? Justifique su respuesta e indique, en caso de ser posible, cómo diferenciará A y B los segmentos correspondientes a cada una de las conexiones.**"
   ]
  },
  {
   "cell_type": "markdown",
   "metadata": {},
   "source": [
    "    Si, es posible una segunda conexión TCP de A hacia el puerto 23 de B. Ya que la diferencia entre las conexiones estara dada por el puerto ORIGEN de ambas conexiones.\n",
    "\n",
    "    A una conexión TCP la define inequivocamente son los valores:\n",
    "\n",
    "    - IP origen\n",
    "    - Puerto origen\n",
    "    - IP destino\n",
    "    - Puerto destino\n",
    "\n",
    "    En caso de que alguno de estos valores difiera, se trata de una conexión diferente.\n",
    "    Ademas las conexiones se realizan concurrentemente en caso de conflicto."
   ]
  },
  {
   "cell_type": "markdown",
   "metadata": {},
   "source": [
    "### 2) Responda: Verdadero o Falso y justifique.\n",
    "### El uso de ventanas de un protocolo:\n",
    "\n",
    "  **a) Permite aumentar la eficiencia de la transmisión.**\n",
    "  \n",
    "        Verdadero, se utiliza el metodo de ventana deslizante para conseguir una transmición mas eficiente ya que el emisor puede enviar multiples segmentos sin esperar un ACK. Tantos paquetes como le permita la ventana."
   ]
  },
  {
   "cell_type": "markdown",
   "metadata": {},
   "source": [
    "**b) Garantiza el control de errores.**\n",
    "\n",
    "        Falso, el control de errores es propio del protocolo. De hecho puede implementarse ventanas sobre UDP y no garantiza control de errores y TCP garantiza control de errores independientemente del uso o no de ventanas."
   ]
  },
  {
   "cell_type": "markdown",
   "metadata": {},
   "source": [
    "**c) Requiere la identificación de las tramas.**\n",
    "\n",
    "        Verdadero, se requiere que las tramas esten identificadas. Tanto para el envio con la ventana deslizante, como para la recepcion."
   ]
  },
  {
   "cell_type": "markdown",
   "metadata": {},
   "source": [
    "**d) Disminuye el overhead del protocolo.**\n",
    "\n",
    "        Falso, no disminuye el overhead , sino que lo aumenta. Ya que ademas de el overhead que se tiene por cada cabecera de los segmentos a enviar, tambien en cada respuesta (ACK, NACK) el estado de la ventana deslizante por cada envio y recepcion."
   ]
  },
  {
   "cell_type": "markdown",
   "metadata": {},
   "source": [
    "**e) Realiza el control de CRC.**\n",
    "\n",
    "        Verdadero, El receptor es capaz de reconocer una trama erronea mediante los codigos de CONTROL DE REDUNDANCIA CICLINCA (CRC). El receptor cuando detecta que una trama no es correcta, porque se han producido errores en la transmision, la descarta siempre."
   ]
  },
  {
   "cell_type": "markdown",
   "metadata": {},
   "source": [
    "**f) No acepta paquetes fuera de orden.**\n",
    "\n",
    "        Falso, el receptor puede recibir un conunto de tramas que le llegan desordenadas. Cada trama tiene su numero de secuencia. La ventana de recepcion es la “lista” de que tiene el receptor con los numeros de secuencia de las tramas que puede aceptar. Almacena las tramas en un buffer hasta tener la secuencia correcta y asi ordenarlas. El buffer es de igual tamaño que la ventana de recepcion."
   ]
  },
  {
   "cell_type": "markdown",
   "metadata": {},
   "source": [
    "### 3) **Utilice el software Cliente -- Servidor de la parte 2 del TP1 y lance el analizador de protocolos para observar la siguiente secuencia:**\n",
    "\n",
    "**a)  Establezca conexión entre el cliente y el servidor, enviando un campo de datos del orden de 10 caracteres. Cierre luego la conexión.**\n",
    "\n",
    "**Nota:** la captura utilizada se encuentra en [este](pto3.pcap) archivo. La imagen a continuación corresponde al **Flow Graph** de la misma.\n",
    "![](FlowGraph.png)\n",
    "\n",
    "**b)  Indique la cantidad de paquetes circularon entre ambos extremos desde el inicio de la conexión hasta su cierre.** \n",
    "\n",
    "    Circularon 8 paquetes entre source y destino (cliente servidor) 3 paquetes de inicio de conexion, 2 paquetes de comunicación y los ultimos 3 de fin de conexión.\n",
    "\n",
    "** c)  Observe e indique las banderas que se observan en el 3-Way y 4-Way de inicio y cierre de la conexión.**\n",
    "\n",
    "+ [Inicio de Conexion:]\n",
    "+ Cliente → Servidor \\[SYN\\] \n",
    "+ Cliente ← Servidor \\[SYN, ACK\\] \n",
    "+ Cliente → Servidor \\[ACK\\] \n",
    "+ [Fin de Conexion:]\n",
    "+ Cliente → Servidor \\[FIN, ACK\\]\n",
    "+ Cliente ← Servidor \\[FIN, ACK\\]\n",
    "+ Cliente → Servidor \\[ACK\\]**\n",
    "\n",
    "**d)Indique el número de secuencia que se observa en ambos extremos al inicio de la conexión. Y la ventana de Flujo de ambos extremos.**\n",
    "\n",
    "+ Cliente → Servidor seq:0 win:29200\n",
    "+ Cliente ← Servidor seq:0 win:28960\n",
    "+ Cliente → Servidor seq:1 win:29312\n",
    "\n",
    "**e)Indique los números de secuencia que se observan para ambos extremos al término del 3-Way state (sin envío de datos). Qué le parece particular?**\n",
    "\n",
    "+ Cliente → Servidor seq:0 \n",
    "+ Cliente ← Servidor seq:0 ACK:1\n",
    "+ Cliente → Servidor seq:1 ACK:1\n",
    "\n",
    "    El segundo paquete (desde el Servidor al Cliente) le envia seq:0\n",
    "    ACK:1. Al instante siguiente el Cliente responde con flag ACK, seq:1\n",
    "    ACK:1.\n",
    "\n",
    "**f) Indique los números de secuencia que se observan para ambos extremos al inicio del cierre de la conexión.**\n",
    "\n",
    "+ Cliente → Servidor \\[FIN, ACK\\] seq:13 ACK:1\n",
    "+ Cliente ← Servidor \\[FIN, ACK\\] seq:1 ACK:14\n",
    "+ Cliente → Servidor \\[ACK\\]\n",
    "\n",
    "**Indique los números de secuencia que se observan para ambos extremos al término del cierre de la conexión. Qué le parece particular?**\n",
    "\n",
    "    El primer paquete (desde cliente al servidor) envia un \\[FIN,ACK\\] con numero de secuencia relativo seq:13 y ACK:1.\n",
    "\n",
    "    En el siguiente instante el servidor le responde con \\[FIN,ACK\\] con seq:1 y ACK:14. Y por ultimo el ACK de cierre de conexión.\n"
   ]
  },
  {
   "cell_type": "markdown",
   "metadata": {},
   "source": [
    "### 4) Dado el siguiente segmento TCP (se excluye la cabecera IP), enviado por un host A a otro B:\n",
    "\n",
    "> **04 02 00 50 00 00 32 98 00 00 00 00 60 02 20 00**\n",
    ">\n",
    "> **13 03 00 00 02 04 05 b4**\n",
    "\n",
    "**Source: 1026 Destination: 80 Sequence Number: 12952**\n",
    "\n",
    "**Acknowledgment Number: 0 Window: 8192 Flag: SYN Data Offset: 6**\n",
    "\n",
    "**Checksum: 4867 Urgent Pointer:0 Options: 2 Padding: 4**\n",
    "\n",
    "**Data: 2 bytes**\n",
    "\n",
    "**a)  Qué función cumple el segmento enviado? Se esta enviando un paquete del source: 1026 a destination: 80. El puerto 80 es el puerto por default por el cual un servidor HTTP \"escucha\" una peticion.**\n",
    "\n",
    "    Entonces como la primera flag es un SYN, se esta iniciando una\n",
    "    conexión con algun servidor web.\n",
    "\n",
    "\n",
    "\n",
    "**c)  Caracterice a los Hosts A y B como cliente/servidor.**\n",
    "\n",
    "    Cliente: 1026 Servidor: 80 (HTTP)\n",
    "\n",
    "**d)  Cuál será el número de secuencia que utilizará el Host A en el próximo segmento que le envíe a B?**\n",
    "\n",
    "    El proximo numero de secuencia desde Host A hacia el Host B seria\n",
    "    seq:1.\n",
    "\n",
    "**e)  Cuál es el servicio requerido?**\n",
    "\n",
    "    El servicio requerido es una peticion de sincronizacion con un servidor HTTP en la web."
   ]
  },
  {
   "cell_type": "markdown",
   "metadata": {},
   "source": [
    "### 5)\n",
    "\n",
    "**a\\. Suponga que la ventana de congestión de TCP está en 18 Kbytes. La ventana publicada por el otro extremo es de 64 Kbyte. ¿A qué valor llegará dicha ventana si los siguientes 5 segmentos transmitidos resultan exitosos y no se recibió aún ningún ACK? Suponga un tamaño máximo de segmento de 2 Kbytes.**\n",
    "\n",
    "    Se mantienen los mismos valores de ventana porque no se recibio ningun ACK.\n",
    "\n",
    "**b\\. Suponga ahora que luego de transmitir los 5 segmentos exitosos llega un ACK acumulativo reconociendo tres paquetes y que el umbral se encuentra en 12Kbytes. A qué valor llegará la ventana de congestión.**\n",
    "\n",
    "    12Kbytes + (3 * 2Kbytes) = 18Kbytes\n"
   ]
  },
  {
   "cell_type": "markdown",
   "metadata": {},
   "source": [
    "### 6) Determine el tamaño óptimo de ventana para una sesión TCP en la  que el RTT=100mseg, MSS=600 bytes y velocidad de la interfase 128 Kbps.\n",
    "\n",
    "Velocidad de Transmicion = Ventana de Congestion / RTT (bytes/segundo)\n",
    "\n",
    "Ventana de Congestion = Velocidad de Transmicion \\* RTT (bytes/segundo)\n",
    "\n",
    "Ventana de Congestion = 128Kbps * 100mseg\n",
    "\n",
    "                      = 128Kb * 0.1\n",
    "                      \n",
    "                      = 12.8Kb\n",
    "                      \n",
    "                      = 12.800 B / 8 = 1600 bytes\n"
   ]
  },
  {
   "cell_type": "markdown",
   "metadata": {},
   "source": [
    "### 7) Qué mejora aporta el mecanismo de retransmisión rápida (fast retransmit) de TCP? Indique si aporta mejora, si la empeora o si es indiferente. Justifique.\n",
    "\n",
    "**A.  Permite que no llegue a ocurrir congestión en la red.**\n",
    "    \n",
    "    Indiferente\n",
    "\n",
    "**B.  Permite que un proceso detecte que hay congestión antes de que esta alcance un valor demasiado alto.** \n",
    "\n",
    "    Indiferente\n",
    "\n",
    "**C.  Permite que la ventana de recepción pueda ser más grande.** \n",
    "\n",
    "    Indiferente\n",
    "\n",
    "**D.  Aumenta la Eficiencia de la comunicación.** \n",
    "\n",
    "    Mejora\n",
    "\n",
    "**E.  Permite que la congestión ocurra antes.** \n",
    "\n",
    "    Indiferente\n"
   ]
  },
  {
   "cell_type": "markdown",
   "metadata": {},
   "source": [
    "### 8) Supongamos tener una situación en la cual se observa que al realizar una transferencia de archivo por FTP entre dos nodos, se observa que la transferencia efectiva de los datos es excesivamente lenta para el ancho de banda disponible. O sea que el ancho de banda consumido por la transferencia del archivo es muy pequeño si se compara con el ancho de banda total disponible entre los dos nodos. En cada uno de los casos siguientes, indique si la solución propuesta serviría para mejorar la situación y porqué (cómo afecta positiva o negativamente a la mejora de la velocidad de transferencia, o cómo no tiene ninguna influencia). Si los efectos de la solución dependen de otros parámetros no especificados, indiquese cuáles son estos."
   ]
  },
  {
   "cell_type": "markdown",
   "metadata": {},
   "source": [
    "   **a.  Se observa que la latencia de la red (retardo de transmisión) entre los dos procesos es muy alta. Como solución se propone aumentar el tamaño de la ventana de TCP en ambos nodos.** \n",
    "        \n",
    "        Afecta positivamente. Aumentando el tamaño de la ventana en ambos nodos, se emitirian mas paquetes seguidos y tambien se podrian recibir mas cantidad de paquetes, por lo q el rendimiento mejora."
   ]
  },
  {
   "cell_type": "markdown",
   "metadata": {},
   "source": [
    "   **b.  Se observa que se están perdiendo muchos paquetes debido a errores en la red. Sin embargo, la latencia es muy baja. Como solución se propone disminuir el timeout de espera por asentimientos en los dos nodos.** \n",
    "    \n",
    "        Afecta Positivamente. Ya que TCP para reenviar paquetes perdidos o erroneos espera a que el timeout termine, disminuyendo este timeout, se reenviarian mas rapido los paquetes perdidos o tardios."
   ]
  },
  {
   "cell_type": "markdown",
   "metadata": {},
   "source": [
    "   **c.  Se observa que se están reenviando muchos paquetes innecesariamente, porque los paquetes \"originales\" han llegado a destino. Como solución se propone aumentar el tamaño de la ventana de TCP en ambos nodos.** \n",
    "    \n",
    "        No tiene Influencia. El problema es que el emisor no recibe los ACK correspondientes, por lo cual aumentar el tamaño de ventana TCP no afectaria que se reciban los ACK faltantes."
   ]
  },
  {
   "cell_type": "markdown",
   "metadata": {},
   "source": [
    "   **d.  Se observa que durante largos períodos cesa la emisión por llenarse la ventana de TCP del emisor. Como solución se propone disminuir el tamaño de la ventana del emisor y aumentar el plazo de espera por asentimientos.** \n",
    "    \n",
    "        Afecta positivamente. Ya que el nodo receptor esta \"saturado\". Bajando el tamaño de ventana el emisor enviaria menos cantidad de datos y aumentando los timeouts la espera de los ACK."
   ]
  },
  {
   "cell_type": "markdown",
   "metadata": {},
   "source": [
    "<h2 style=\"text-align:center;text-decoration: underline;background-color:#CCCCCC; padding:0.5em, 0.5em, 0.5em, 0.5em;\"> Parte 2: TCP Análisis de Segmentos</h2>"
   ]
  },
  {
   "cell_type": "markdown",
   "metadata": {},
   "source": [
    "#### 9) De los escenarios **A. a F.**, en los cuales **las líneas punteadas representan tics de reloj**, resuelva sólo 2 o 3 de las situaciones planteadas, según se le inquique. Año 2016: **A -- C -- E.**\n",
    "\n",
    "##### **Complete la secuencia de envío de segmentos TCP reflejada en la figura, incluyendo el cierre de la conexión, sabiendo que:**\n",
    "\n",
    "-   No se perderá ningún segmento en la transmisión excepto el cuarto\n",
    "    con datos enviado por A.\n",
    "\n",
    "-   Los segmentos no dibujados (excepto el anteriormente citado)\n",
    "    tardarán en llegar al destino hasta un tic de reloj y no se\n",
    "    perderán.\n",
    "\n",
    "-   A está utilizando arranque lento (Slow Start) para prevenir la\n",
    "    congestión.\n",
    "\n",
    "-   A tiene que enviar a B 800 bytes de datos, una vez enviados\n",
    "    procederá cerrar la conexión.\n",
    "\n",
    "-   B no desea enviar datos a A.\n",
    "\n",
    "-   B enviará asentimientos a A cuando haya recibido dos segmentos de A\n",
    "    desde el ultimo segmento asentido o cuando haya sucedido 1 tic de\n",
    "    reloj desde desde el ultimo segmento recibido.\n",
    "\n",
    "-   El plazo de retransmisión de segmentos en A (timeout) es de 3 tics\n",
    "    de reloj.\n",
    "\n",
    "-   A usa un tamaño fijo de datos de 200 bytes.\n",
    "\n",
    "-   B siempre enviará un valor de 800 en el campo de tamaño de la\n",
    "    ventana de recepción.\n",
    "\n",
    "-   Tanto A como B sólo transmiten segmentos coincidiendo con el tic de\n",
    "    reloj.\n",
    "\n",
    "-   A enviará segmentos con datos siempre que pueda.\n",
    "    \n",
    "    ![](images/img-8-A.jpg)"
   ]
  },
  {
   "cell_type": "markdown",
   "metadata": {},
   "source": [
    "### Resolución:\n",
    "\n",
    "![](images/Punto-9-A.svg)"
   ]
  },
  {
   "cell_type": "markdown",
   "metadata": {},
   "source": [
    "##### **En la figura se detalla la secuencia completa de envío de segmentos en una conexión TCP entre A y B (incluyendo apertura y cierre de la misma). Rellene los campos que faltan en la figura para que la misma tenga sentido, suponiendo que:**\n",
    "\n",
    "-   El plazo en que las máquinas esperan a que llegue un ACK es de 5\n",
    "    tics del reloj.\n",
    "\n",
    "![](images/img-8-C.png)"
   ]
  },
  {
   "cell_type": "markdown",
   "metadata": {},
   "source": [
    "# Resolución\n",
    "\n",
    "![](images/Punto-9-C.svg)"
   ]
  },
  {
   "cell_type": "markdown",
   "metadata": {},
   "source": [
    "\n",
    "### En la secuencia de envío de segmentos TCP reflejada en la figura, en la que las líneas horizontales representan tics de reloj, se sabe que:\n",
    "\n",
    "**CASO 1:** \n",
    "\n",
    "-   A desea enviar a B la cadena de caracteres \"ADIOS-A-TODOS\". B no tiene datos que enviar a A.\n",
    "\n",
    "-   El la comunicación existe control de Flujo y Congestión.\n",
    "\n",
    "-   A usa un tamaño máximo de datos de 4 caracteres.\n",
    "\n",
    "-   Tanto A como B sólo transmiten segmentos al principio del tic de reloj.\n",
    "\n",
    "-   Los segmentos que no se pierden, tardan en llegar al receptor hasta un tic de reloj.\n",
    "\n",
    "-   Por Timeots en el receptor, los reconocimientos pueden ser acumulativos de hasta dos paquetes por vez.\n",
    "\n",
    "-   A tiene un tiempo para retransmitir segmentos de 5 tics de reloj.\n",
    "\n",
    "-   A partir de los últimos segmentos dibujados en la figura:\n",
    "\n",
    "    -   A enviará segmentos con datos siempre que pueda.\n",
    "\n",
    "    -   B enviará un asentimiento inmediatamente cada vez que reciba un segmento de A y ya no cambiará el tamaño de la ventana.\n",
    "\n",
    "    -   No se perderá ningún otro segmento transmitido por A ni B."
   ]
  },
  {
   "cell_type": "markdown",
   "metadata": {},
   "source": [
    "**CASO 2:** \n",
    "\n",
    "-   Los mismos requisitos que el Caso 1, sólo que A usa un tamaño máximo de datos de 2 caracteres y un Timeout de retransmisión de 7 Tics de reloj.\n",
    "    \n",
    "Completar la transmisión en la figura (incluyendo el cierre de conexión).\n",
    "\n",
    " ![](images/img-8-E.png)"
   ]
  },
  {
   "cell_type": "markdown",
   "metadata": {},
   "source": [
    "### Resolución CASO 1\n",
    "![](images/Punto-9-E-1.svg)"
   ]
  },
  {
   "cell_type": "markdown",
   "metadata": {},
   "source": [
    "### Resolución CASO 2\n",
    "![](images/Punto-9-E-2.svg)"
   ]
  },
  {
   "cell_type": "markdown",
   "metadata": {},
   "source": [
    "<h2 style=\"text-align:center;text-decoration: underline; background-color:#CCCCCC; padding:0.5em, 0.5em, 0.5em, 0.5em;\">Parte 3: TCP Análisis de Tramas</h2>"
   ]
  },
  {
   "cell_type": "markdown",
   "metadata": {},
   "source": [
    "**Análisis de capturas de tráfico de red e interpretación del mismo. Ahora vamos a estudiar e interpretar el segmento TCP que se encuentra dentro del paquete IP capturado.**\n",
    "\n",
    "A continuación una salida TCPDump de una conexión cualquiera.\n",
    "\n",
    " ![](images/img-9-1.jpg)\n",
    "\n",
    "Debe distinguir las partes que a continuación se mencionan.\n",
    "\n",
    "**a.  Cabecera IP:**\n",
    "\n",
    "![](images/img-9-1-1.png)\n",
    "\n",
    "**b.  Segmento TCP:**\n",
    "\n",
    " ![](images/img-9-1-2.png)\n",
    "\n",
    "**c.  Datos (incluye Opciones y Campo Relleno):**\n",
    "\n",
    "![](images/img-9-1-1.png)\n",
    "\n",
    "**d.  Puerto origen:** \n",
    "    \n",
    "    05c0 → 1472\n",
    "\n",
    "**e.  Puerto destino:** \n",
    "\n",
    "    0cea → 3306\n",
    "\n",
    "**f.  Número de secuencia:** \n",
    "\n",
    "    27dd 44a3 → 1020517571\n",
    "\n",
    "**g.  Número de acuse de recibo:** \n",
    "\n",
    "    6fad 253b → 1873618235\n",
    "\n",
    "**h.  Posición de los datos (Data Offset):** \n",
    "\n",
    "    5\n",
    "\n",
    "**i.  Campo reservado:** \n",
    "\n",
    "    018\n",
    "\n",
    "**j.  Bits de código o indicadores:**\n",
    "\n",
    "    (6 bits): 018 → 11000\n",
    "\n",
    "**k.  Window (ventana):** \n",
    "\n",
    "    64857\n",
    "\n",
    "**l.  Checksum o suma de verificación:** \n",
    "\n",
    "    2def → 11759\n",
    "\n",
    "**m.  Urgent Pointer o Puntero urgente:** \n",
    "\n",
    "    0000\n",
    "\n",
    "**n.  Opciones:** \n",
    "\n",
    "    690100 → 1680\n",
    "\n",
    "**o.  Relleno:** \n",
    "\n",
    "    00"
   ]
  },
  {
   "cell_type": "markdown",
   "metadata": {
    "collapsed": true
   },
   "source": [
    "### Se realizó la captura de las siguientes tramas Ethernet. (tenga en cuenta que se extrajeron los bytes de preámbulo). Se pide: Analizar los campos relevantes de la información de **nivel de transporte** que contienen.\n",
    "\n",
    " ![](images/tramas-1.png)\n",
    " ![](images/tramas-2.png)"
   ]
  },
  {
   "cell_type": "markdown",
   "metadata": {},
   "source": [
    "En esta secuencia de tramas se puede ver como el host 192.168.1.100 envía en primer lugar una consulta de resolución de nombre de dominio al servidor DNS identificado con la IP 200.42.97.111 (primeras dos tramas). Esto se puede inferir por el puerto destino (53), y además podemos estar seguros por el protocolo de capa de trasporte indicado en la trama (UDP). Luego de recibir la respuesta del servidor DNS el host 192.168.1.100, que ya conoce la dirección IP correspondiente al dominio consultado, lanza una petición a un servidor web con IP 87.233.147.140 (puerto 80). Esta petición se desarrolla a lo largo de las 4 tramas siguientes, donde las primeras 3 corresponden al handshake (nos damos cuenta por los flags) y la última al envío de los datos específicamente.  "
   ]
  },
  {
   "cell_type": "code",
   "execution_count": null,
   "metadata": {
    "collapsed": true
   },
   "outputs": [],
   "source": []
  }
 ],
 "metadata": {
  "kernelspec": {
   "display_name": "Python 3",
   "language": "python",
   "name": "python3"
  },
  "language_info": {
   "codemirror_mode": {
    "name": "ipython",
    "version": 3
   },
   "file_extension": ".py",
   "mimetype": "text/x-python",
   "name": "python",
   "nbconvert_exporter": "python",
   "pygments_lexer": "ipython3",
   "version": "3.6.2"
  }
 },
 "nbformat": 4,
 "nbformat_minor": 2
}
