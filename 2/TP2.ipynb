{
 "cells": [
  {
   "cell_type": "markdown",
   "metadata": {},
   "source": [
    "<div style=\"text-align:center;\">\n",
    "    <h1>Trabajo de Laboratorio 2</h1>\n",
    "    <h2 >Capa de Transporte</h2>\n",
    "\n",
    "<h3 style=\"background-color:#CCCCCC; padding:0.5em, 0.5em, 0.5em, 0.5em;\">Parte 1: TCP Fundamentos</h3>\n",
    "</div>"
   ]
  },
  {
   "cell_type": "markdown",
   "metadata": {},
   "source": [
    "### 1) Dos aplicaciones en las máquinas A y B intercambian datos utilizando el protocolo TCP."
   ]
  },
  {
   "cell_type": "markdown",
   "metadata": {},
   "source": [
    "**a) Durante el intercambio de datos entre A y B, luego de establecida la conexión, la máquina A no recibe una confirmación de B sobre su ultimo envío, por lo que retransmite el segmento no confirmado. Al cabo de un tiempo, B recibe las dos copias del segmento tal como A las envió. ¿B detecta que se trata de dos copias de la misma información? Justifique su respuesta.**"
   ]
  },
  {
   "cell_type": "markdown",
   "metadata": {},
   "source": [
    "    B detecta que llegan segmentos duplicados. Cada secuencia tiene un numero de secuencia. Cuando TCP transmite un segmento con datos, coloca una copia en cola de retransmicion e inicializa un timer. Al recibir el reconocimiento (ACK), TCP borra el segmento de la cola de retransmicion. Si no llega a recibir el ACK antes de que el timer expire, retransmite el segmento. En resepcion (en este caso B), los numeros de secuencia son utilizados para ordenar correctamente los segmentos (ya que pueden llegar desordenados) y para eliminar los segmentos duplicados. Ademas se realizan Checksums para la verificacion de los datos. Cualquier dato duplicado o fallido es descartado."
   ]
  },
  {
   "cell_type": "markdown",
   "metadata": {},
   "source": [
    "**b) Suponga que la conexión TCP que A inició con B, es una sesión telnet, (o sea que A se conectará al puerto 23 de B). ¿Es posible que A inicie una segunda conexión TCP hacia el puerto 23 de B, manteniendo la primera conexión activa? Justifique su respuesta e indique, en caso de ser posible, cómo diferenciará A y B los segmentos correspondientes a cada una de las conexiones.**"
   ]
  },
  {
   "cell_type": "markdown",
   "metadata": {},
   "source": [
    "    Si, es posible una segunda conexión TCP de A hacia el puerto 23 de B. Ya que la diferencia entre las conexiones estara dada por el puerto ORIGEN de ambas conexiones.\n",
    "\n",
    "    A una conexión TCP la define inequivocamente son los valores:\n",
    "\n",
    "    - IP origen\n",
    "    - Puerto origen\n",
    "    - IP destino\n",
    "    - Puerto destino\n",
    "\n",
    "    En caso de que alguno de estos valores difiera, se trata de una conexión diferente.\n",
    "    Ademas las conexiones se realizan concurrentemente en caso de conflicto."
   ]
  },
  {
   "cell_type": "markdown",
   "metadata": {},
   "source": [
    "### 2) Responda: Verdadero o Falso y justifique.\n",
    "### El uso de ventanas de un protocolo:\n",
    "\n",
    "  **a) Permite aumentar la eficiencia de la transmisión.**\n",
    "  \n",
    "        Verdadero, se utiliza el metodo de ventana deslizante para conseguir una transmicion mas eficiente ya que el emisor puede enviar multiples segmentos sin esperar un ACK. Tantos paquetes como le permita la ventana."
   ]
  },
  {
   "cell_type": "markdown",
   "metadata": {},
   "source": [
    "**b) Garantiza el control de errores.**\n",
    "\n",
    "        Verdadero, de controlan los errores, de segmentos con que cada segmento le corresponde un ACK, y su orden por el numero de secuencia de cada segmento. Por otro lado el receptor detecta tramas erroneas, si detecta error la descarta y pide retransmicion con un NACK."
   ]
  },
  {
   "cell_type": "markdown",
   "metadata": {},
   "source": [
    "**c) Requiere la identificación de las tramas.**\n",
    "\n",
    "        Verdadero, se requiere que las tramas esten identificadas. Tanto para el envio con la ventana deslizante, como para la recepcion."
   ]
  },
  {
   "cell_type": "markdown",
   "metadata": {},
   "source": [
    "**d) Disminuye el overhead del protocolo.**\n",
    "\n",
    "        Falso, no disminuye el overhead , sino que lo aumenta. Ya que ademas de el overhead que se tiene por cada cabezera de los segmentos a enviar, tambien en cada respuesta (ACK, NACK) y el estado de la ventana deslizante por cada envio y recepcion."
   ]
  },
  {
   "cell_type": "markdown",
   "metadata": {},
   "source": [
    "**e) Realiza el control de CRC.**\n",
    "\n",
    "        Verdadero, El receptor es capaz de reconocer una trama erronea mediante los codigos de CONTROL DE REDUNDANCIA CICLINCA (CRC). El receptor cuando detecta que una trama no es correcta, porque se han producido errores en la transmision, la descarta siempre."
   ]
  },
  {
   "cell_type": "markdown",
   "metadata": {},
   "source": [
    "**f) No acepta paquetes fuera de orden.**\n",
    "\n",
    "        Falso, el receptor puede recibir un conunto de tramas que le llegan desordenadas. Cada trama tiene su numero de secuencia. La ventana de recepcion es la “lista” de que tiene el receptor con los numeros de secuencia de las tramas que puede aceptar. Almacena las tramas en un buffer hasta tener la secuencia correcta y asi ordenarlas. El buffer es de igual tamaño que la ventana de recepcion."
   ]
  },
  {
   "cell_type": "markdown",
   "metadata": {},
   "source": [
    "### 3) **Utilice el software Cliente -- Servidor de la parte 2 del TP1 y lance el analizador de protocolos para observar la siguiente secuencia:**\n",
    "\n",
    "**a)  Establezca conexión entre el cliente y el servidor, enviando un campo de datos del orden de 10 caracteres. Cierre luego la conexión.**\n",
    "\n",
    "**b)  Indique la cantidad de paquetes circularon entre ambos extremos desde el inicio de la conexión hasta su cierre. Circularon 8 paquetes entre source y destino (cliente servidor) 3 paquetes de inicio de conexion, 2 paquetes de comunicación y los ultimos 3 de fin de conexión.**\n",
    "\n",
    "** c)  Observe e indique las banderas que se observan en el 3-Way y 4-Way de inicio y cierre de la conexión.**\n",
    "\n",
    "+ [Inicio de Conexion:]\n",
    "+ Cliente → Servidor \\[SYN\\] \n",
    "+ Cliente ← Servidor \\[SYN, ACK\\] \n",
    "+ Cliente → Servidor \\[ACK\\] \n",
    "+ [Fin de Conexion:]{.underline}\n",
    "+ Cliente → Servidor \\[FIN, ACK\\]\n",
    "+ Cliente ← Servidor \\[FIN, ACK\\]\n",
    "+ Cliente → Servidor \\[ACK\\]**\n",
    "\n",
    "**d)Indique el número de secuencia que se observa en ambos extremos al inicio de la conexión. Y la ventana de Flujo de ambos extremos.**\n",
    "\n",
    "+ Cliente → Servidor seq:0 win:29200\n",
    "+ Cliente ← Servidor seq:0 win:28960\n",
    "+ Cliente → Servidor seq:1 win:29312\n",
    "\n",
    "**e)Indique los números de secuencia que se observan para ambos extremos al término del 3-Way state (sin envío de datos). Qué le parece particular?**\n",
    "\n",
    "+ Cliente → Servidor seq:0 \n",
    "+ Cliente ← Servidor seq:0 ACK:1\n",
    "+ Cliente → Servidor seq:1 ACK:1\n",
    "\n",
    "    El segundo paquete (desde el Servidor al Cliente) le envia seq:0\n",
    "    ACK:1. Al instante siguiente el Cliente responde con flag ACK, seq:1\n",
    "    ACK:1.\n",
    "\n",
    "**f) Indique los números de secuencia que se observan para ambos extremos al inicio del cierre de la conexión.**\n",
    "\n",
    "+ Cliente → Servidor \\[FIN, ACK\\] seq:13 ACK:1\n",
    "+ Cliente ← Servidor \\[FIN, ACK\\] seq:1 ACK:14\n",
    "+ Cliente → Servidor \\[ACK\\]\n",
    "\n",
    "**Indique los números de secuencia que se observan para ambos extremos al término del cierre de la conexión. Qué le parece particular?**\n",
    "\n",
    "    El primer paquete (desde cliente al servidor) envia un \\[FIN,ACK\\] con numero de secuencia relativo seq:13 y ACK:1.\n",
    "\n",
    "    En el siguiente instante el servidor le responde con \\[FIN,ACK\\] con seq:1 y ACK:14. Y por ultimo el ACK de cierre de conexión.\n"
   ]
  },
  {
   "cell_type": "markdown",
   "metadata": {},
   "source": [
    "### 4) Dado el siguiente segmento TCP (se excluye la cabecera IP), enviado por un host A a otro B:\n",
    "\n",
    "> **04 02 00 50 00 00 32 98 00 00 00 00 60 02 20 00**\n",
    ">\n",
    "> **13 03 00 00 02 04 05 b4**\n",
    "\n",
    "**Source: 1026 Destination: 80 Sequence Number: 12952**\n",
    "\n",
    "**Acknowledgment Number: 0 Window: 8192 Flag: SYN Data Offset: 6**\n",
    "\n",
    "**Checksum: 4867 Urgent Pointer:0 Options: 2 Padding: 4**\n",
    "\n",
    "**Data: 2 bytes**\n",
    "\n",
    "a)  Qué función cumple el segmento enviado? Se esta enviando un paquete\n",
    "    del source: 1026 a destination: 80. El puerto 80 es el puerto por\n",
    "    default por el cual un servidor HTTP \"escucha\" una peticion.\n",
    "\n",
    "    Entonces como la primera flag es un SYN, se esta iniciando una\n",
    "    conexión con algun servidor web.\n",
    "\n",
    "<!-- -->\n",
    "\n",
    "c)  Caracterice a los Hosts A y B como cliente/servidor.\n",
    "\n",
    "    Cliente: 1026 Servidor: 80 (HTTP)\n",
    "\n",
    "d)  Cuál será el número de secuencia que utilizará el Host A en el\n",
    "    próximo segmento que le envíe a B?\n",
    "\n",
    "    El proximo numero de secuencia desde Host A hacia el Host B seria\n",
    "    seq:1.\n",
    "\n",
    "e)  Cuál es el servicio requerido? El servicio requerido es una peticion\n",
    "    de sincronizacion con un servidor HTTP en la web.\n"
   ]
  },
  {
   "cell_type": "markdown",
   "metadata": {},
   "source": [
    "### 5)\n",
    "\n",
    "**a\\. Suponga que la ventana de congestión de TCP está en 18 Kbytes. La ventana publicada por el otro extremo es de 64 Kbyte. ¿A qué valor llegará dicha ventana si los siguientes 5 segmentos transmitidos resultan exitosos y no se recibió aún ningún ACK? Suponga un tamaño máximo de segmento de 2 Kbytes. {#a.-suponga-que-la-ventana-de-congestión-de-tcp-está-en-18-kbytes.-la-ventana-publicada-por-el-otro-extremo-es-de-64-kbyte.-a-qué-valor-llegará-dicha-ventana-si-los-siguientes-5-segmentos-transmitidos-resultan-exitosos-y-no-se-recibió-aún-ningún-ack-suponga-un-tamaño-máximo-de-segmento-de-2-kbytes. .ListParagraph}**\n",
    "\n",
    "    Se mantienen los mismos valores de ventana porque no se recibio ningun ACK.\n",
    "\n",
    "**b\\. Suponga ahora que luego de transmitir los 5 segmentos exitosos llega un ACK acumulativo reconociendo tres paquetes y que el umbral se encuentra en 12Kbytes. A qué valor llegará la ventana de congestión.**\n",
    "\n",
    "    12Kbytes -- (3.2Kbytes) = 6Kbytes\n"
   ]
  },
  {
   "cell_type": "markdown",
   "metadata": {},
   "source": [
    "### 6) Determine el tamaño óptimo de ventana para una sesión TCP en la  que el RTT=100mseg, MSS=600 bytes y velocidad de la interfase 128 Kbps.\n",
    "\n",
    "Velocidad de Transmicion = Ventana de Congestion / RTT (bytes/segundo)\n",
    "\n",
    "Ventana de Congestion = Velocidad de Transmicion \\* RTT (bytes/segundo)\n",
    "\n",
    "Ventana de Congestion = 128Kbps \\* 100mseg\n"
   ]
  },
  {
   "cell_type": "markdown",
   "metadata": {},
   "source": [
    "### 7) Qué mejora aporta el mecanismo de retransmisión rápida (fast retransmit) de TCP? Indique si aporta mejora, si la empeora o si es indiferente. Justifique.\n",
    "\n",
    "A.  Permite que no llegue a ocurrir congestión en la red. Indiferente\n",
    "\n",
    "B.  Permite que un proceso detecte que hay congestión antes de que esta\n",
    "    alcance un valor demasiado alto. Indiferente\n",
    "\n",
    "C.  Permite que la ventana de recepción pueda ser más grande. Mejora, ya\n",
    "    que evita que se pueda llegar a llenar la ventana.\n",
    "\n",
    "D.  Aumenta la Eficiencia de la comunicación. Mejora\n",
    "\n",
    "E.  Permite que la congestión ocurra antes. Indiferente\n"
   ]
  },
  {
   "cell_type": "markdown",
   "metadata": {},
   "source": [
    "### 8) Supongamos tener una situación en la cual se observa que al realizar una transferencia de archivo por FTP entre dos nodos, se observa que la transferencia efectiva de los datos es excesivamente lenta para el ancho de banda disponible. O sea que el ancho de banda consumido por la transferencia del archivo es muy pequeño si se compara con el ancho de banda total disponible entre los dos nodos. En cada uno de los casos siguientes, indique si la solución propuesta serviría para mejorar la situación y porqué (cómo afecta positiva o negativamente a la mejora de la velocidad de transferencia, o cómo no tiene ninguna influencia). Si los efectos de la solución dependen de otros parámetros no especificados, indiquese cuáles son estos."
   ]
  },
  {
   "cell_type": "markdown",
   "metadata": {},
   "source": [
    "   **a.  Se observa que la latencia de la red (retardo de transmisión) entre los dos procesos es muy alta. Como solución se propone aumentar el tamaño de la ventana de TCP en ambos nodos.** \n",
    "        \n",
    "        Afecta positivamente. Aumentando el tamaño de la ventana en ambos nodos, se emitirian mas paquetes seguidos y tambien se podrian recibir mas cantidad de paquetes, por lo q el rendimiento mejora."
   ]
  },
  {
   "cell_type": "markdown",
   "metadata": {},
   "source": [
    "   **b.  Se observa que se están perdiendo muchos paquetes debido a errores en la red. Sin embargo, la latencia es muy baja. Como solución se propone disminuir el timeout de espera por asentimientos en los dos nodos.** \n",
    "    \n",
    "        Afecta Positivamente. Ya que TCP para reenviar paquetes perdidos o erroneos espera a que el timeout termine, disminuyendo este timeout, se reenviarian mas rapido los paquetes perdidos o tardios."
   ]
  },
  {
   "cell_type": "markdown",
   "metadata": {},
   "source": [
    "   **c.  Se observa que se están reenviando muchos paquetes innecesariamente, porque los paquetes \"originales\" han llegado a destino. Como solución se propone aumentar el tamaño de la ventana de TCP en ambos nodos.** \n",
    "    \n",
    "        No tiene Influencia. El problema es que el emisor no recibe los ACK correspondientes, por lo cual aumentar el tamaño de ventana TCP no afectaria que se reciban los ACK faltantes."
   ]
  },
  {
   "cell_type": "markdown",
   "metadata": {},
   "source": [
    "   **d.  Se observa que durante largos períodos cesa la emisión por llenarse la ventana de TCP del emisor. Como solución se propone disminuir el tamaño de la ventana del emisor y aumentar el plazo de espera por asentimientos.** \n",
    "    \n",
    "        Afecta positivamente. Ya que el nodo receptor esta \"saturado\". Bajando el tamaño de ventana el emisor enviaria menos cantidad de datos y aumentando los timeouts la espera de los ACK."
   ]
  },
  {
   "cell_type": "markdown",
   "metadata": {},
   "source": [
    "###  Parte 2: TCP Análisis de Segmentos\n",
    "\n",
    "#### 9) De los escenarios **A. a F.**, en los cuales **las líneas punteadas representan tics de reloj**, resuelva sólo 2 o 3 de las situaciones planteadas, según se le inquique. Año 2016: **A -- C -- E.**\n",
    "\n",
    "##### **Complete la secuencia de envío de segmentos TCP reflejada en la figura, incluyendo el cierre de la conexión, sabiendo que:**\n",
    "\n",
    "-   No se perderá ningún segmento en la transmisión excepto el cuarto\n",
    "    con datos enviado por A.\n",
    "\n",
    "-   Los segmentos no dibujados (excepto el anteriormente citado)\n",
    "    tardarán en llegar al destino hasta un tic de reloj y no se\n",
    "    perderán.\n",
    "\n",
    "-   A está utilizando arranque lento (Slow Start) para prevenir la\n",
    "    congestión.\n",
    "\n",
    "-   A tiene que enviar a B 800 bytes de datos, una vez enviados\n",
    "    procederá cerrar la conexión.\n",
    "\n",
    "-   B no desea enviar datos a A.\n",
    "\n",
    "-   B enviará asentimientos a A cuando haya recibido dos segmentos de A\n",
    "    desde el ultimo segmento asentido o cuando haya sucedido 1 tic de\n",
    "    reloj desde desde el ultimo segmento recibido.\n",
    "\n",
    "-   El plazo de retransmisión de segmentos en A (timeout) es de 3 tics\n",
    "    de reloj.\n",
    "\n",
    "-   A usa un tamaño fijo de datos de 200 bytes.\n",
    "\n",
    "-   B siempre enviará un valor de 800 en el campo de tamaño de la\n",
    "    ventana de recepción.\n",
    "\n",
    "-   Tanto A como B sólo transmiten segmentos coincidiendo con el tic de\n",
    "    reloj.\n",
    "\n",
    "-   A enviará segmentos con datos siempre que pueda.\n",
    "    \n",
    "    ![](images/img-8-A.jpg)"
   ]
  },
  {
   "cell_type": "markdown",
   "metadata": {},
   "source": [
    "### Resolución:\n",
    " ![](images/Punto-9-A.svg)"
   ]
  },
  {
   "cell_type": "markdown",
   "metadata": {},
   "source": [
    "##### **En la secuencia de envío de segmentos TCP reflejada en la figura, se sabe que ni A ni B quieren ya enviar más datos. Agregue los segmentos que faltan para que la conexión quede cerrada adecuadamente, suponiendo:**\n",
    "\n",
    "-   Los segmentos que no se pierden, tardan en llegar al receptor hasta\n",
    "    un tic de reloj.\n",
    "\n",
    "-   El plazo (Timeout) en que las máquinas esperan a que llegue un ACK\n",
    "    es de 5 tics del reloj.\n",
    "\n",
    "-   A partir de lo ultimo dibujado en la figura, ya no se perderán más\n",
    "    segmentos.\n",
    "\n",
    "-   B no haría nada hasta que le llegue otro segmento de A, momento en\n",
    "    que responderá inmediatamente (en el siguiente tic de reloj) con un\n",
    "    ACK.\n",
    "\n",
    " ![](images/img-8-B.jpg)"
   ]
  },
  {
   "cell_type": "markdown",
   "metadata": {},
   "source": [
    "##### **En la figura se detalla la secuencia completa de envío de segmentos en una conexión TCP entre A y B (incluyendo apertura y cierre de la misma). Rellene los campos que faltan en la figura para que la misma tenga sentido, suponiendo que:**\n",
    "\n",
    "-   El plazo en que las máquinas esperan a que llegue un ACK es de 5\n",
    "    tics del reloj.\n",
    "\n",
    "![](images/img-8-C.png)"
   ]
  },
  {
   "cell_type": "markdown",
   "metadata": {},
   "source": [
    "##### **En la secuencia de envío de segmentos TCP reflejada en la figura, en la que las líneas horizontales representan tics de reloj, se sabe que:**\n",
    "\n",
    "-   A desea enviar a B la cadena de caracteres \"EXAMEN\". B no tiene\n",
    "    datos que enviar a A\n",
    "\n",
    "-   A usa un tamaño máximo de datos de 2 caracteres.\n",
    "\n",
    "-   Tanto A como B solo transmiten segmentos al principio del tic de\n",
    "    reloj.\n",
    "\n",
    "-   Los segmentos que no se pierden, tardan en llegar al receptor hasta\n",
    "    un tic de reloj.\n",
    "\n",
    "-   A tiene un plazo para retransmitir segmentos de 5 tics de reloj.\n",
    "\n",
    "-   A partir de los ultimos segmentos dibujados en la figura:\n",
    "\n",
    "    -   A enviará segmentos con datos siempre que pueda.\n",
    "\n",
    "    -   B enviará un asentimiento cada vez que reciba un segmento de A,\n",
    "        y ya no cambiará el tamaño de la ventana.\n",
    "\n",
    "    -   Además del dibujado con el recuadro en blanco, el próximo\n",
    "        segmento que envie B también se perderá.\n",
    "\n",
    "    -   No se perderá ningún otro segmento transmitido por A ni B.\n",
    "\n",
    "> Completar la transmisión en la figura (incluyendo el cierre de\n",
    "> conexión) sin olvidar rellenar el recuadro en blanco.\n",
    ">\n",
    "![](images/img-8-D.png)"
   ]
  },
  {
   "cell_type": "markdown",
   "metadata": {},
   "source": [
    "\n",
    "#####  **En la secuencia de envío de segmentos TCP reflejada en la figura, en la que las líneas horizontales representan tics de reloj, se sabe que:**\n",
    "\n",
    "##### **CASO 1:** {#caso-1 .ListParagraph}\n",
    "\n",
    "-   A desea enviar a B la cadena de caracteres \"ADIOS-A-TODOS\". B no\n",
    "    > tiene datos que enviar a A.\n",
    "\n",
    "-   El la comunicación existe control de Flujo y Congestión.\n",
    "\n",
    "-   A usa un tamaño máximo de datos de 4 caracteres.\n",
    "\n",
    "-   Tanto A como B sólo transmiten segmentos al principio del tic de\n",
    "    > reloj.\n",
    "\n",
    "-   Los segmentos que no se pierden, tardan en llegar al receptor hasta\n",
    "    > un tic de reloj.\n",
    "\n",
    "-   Por Timeots en el receptor, los reconocimientos pueden ser\n",
    "    > acumulativos de hasta dos paquetes por vez.\n",
    "\n",
    "-   A tiene un tiempo para retransmitir segmentos de 5 tics de reloj.\n",
    "\n",
    "-   A partir de los últimos segmentos dibujados en la figura:\n",
    "\n",
    "    -   A enviará segmentos con datos siempre que pueda.\n",
    "\n",
    "    -   B enviará un asentimiento inmediatamente cada vez que reciba un\n",
    "        > segmento de A y ya no cambiará el tamaño de la ventana.\n",
    "\n",
    "    -   No se perderá ningún otro segmento transmitido por A ni B.\n",
    "\n",
    "##### **CASO 2:** {#caso-2 .ListParagraph}\n",
    "\n",
    "-   Los mismos requisitos que el Caso 1, sólo que A usa un tamaño máximo\n",
    "    de datos de 2 caracteres y un Timeout de retransmisión de 7 Tics de\n",
    "    reloj.\n",
    "\n",
    "> Completar la transmisión en la figura (incluyendo el cierre de\n",
    "> conexión).\n",
    ">\n",
    "> ![](images/img-8-E.png)"
   ]
  },
  {
   "cell_type": "markdown",
   "metadata": {},
   "source": [
    "\n",
    "##### **En la secuencia de envío de segmentos TCP reflejada en la figura, se sabe que:**\n",
    "\n",
    "-   A desea enviar a B 200 bytes de datos. B desea enviar a A 100 bytes\n",
    "    > de datos.\n",
    "\n",
    "-   A y B usan un tamaño fijo de datos de 50 bytes.\n",
    "\n",
    "-   A y B ajustan la ventana acorde con \"congestion avoidance\".\n",
    "\n",
    "-   Tanto A como B sólo transmiten segmentos coincidiendo con el tic de\n",
    "    > reloj.\n",
    "\n",
    "-   Los segmentos que no se pierden, tardan en llegar al receptor hasta\n",
    "    > un tic de reloj.\n",
    "\n",
    "-   A y B tienen un plazo para retransmitir segmentos de 5 tics de\n",
    "    > reloj.\n",
    "\n",
    "-   A y B enviarán segmentos con datos siempre que puedan y enviarán un\n",
    "    asentimiento cada vez que reciban un segmento con datos.\n",
    "\n",
    "> Teniendo en cuenta que la zona sombreada indica un periodo de tiempo\n",
    "> durante el cual todos los segmentos transmitidos se perderán y que\n",
    "> fuera de dicho período no se perderá ningún segmento, complete la\n",
    "> transmisión en la figura (incluyendo el cierre de conexión).\n",
    ">\n",
    "> ![Descripción: Eje4](images/img-8-F.jpg)"
   ]
  },
  {
   "cell_type": "markdown",
   "metadata": {},
   "source": [
    "\n",
    "### Parte 3: TCP Análisis de Tramas\n",
    "\n",
    "#####  {#section-1 .ListParagraph}\n",
    "\n",
    "##### Análisis de capturas de tráfico de red e interpretación del mismo. Ahora vamos a estudiar e interpretar el segmento TCP que se encuentra dentro del paquete IP capturado.\n",
    "\n",
    "A continuación una salida TCPDump de una conexión cualquiera.\n",
    "\n",
    " ![](images/img-9-1.jpg)\n",
    "\n",
    "Debe distinguir las partes que a continuación se mencionan.\n",
    "\n",
    "e.  Cabecera IP:\n",
    "\n",
    "![](images/img-9-1-1.png)\n",
    "\n",
    "f.  Segmento TCP:\n",
    "\n",
    " ![](images/img-9-1-2.png)\n",
    "\n",
    "g.  Datos (incluye Opciones y Campo Relleno):\n",
    "\n",
    "![](images/img-9-1-1.png)\n",
    "\n",
    "h.  Puerto origen: 05c0 → 1472\n",
    "\n",
    "i.  Puerto destino: 0cea → 3306\n",
    "\n",
    "j.  Número de secuencia: 27dd 44a3 → 1020517571\n",
    "\n",
    "k.  Número de acuse de recibo: 6fad 253b → 1873618235\n",
    "\n",
    "l.  Posición de los datos (Data Offset): 5\n",
    "\n",
    "m.  Campo reservado: 018\n",
    "\n",
    "n.  Bits de código o indicadores. *(6 bits): 018 → 11000 *\n",
    "\n",
    "    *A:1 P:1 *\n",
    "\n",
    "o.  Window (ventana): 64857\n",
    "\n",
    "p.  Checksum o suma de verificación: 2def → 11759\n",
    "\n",
    "q.  Urgent Pointer o Puntero urgente: 0000\n",
    "\n",
    "r.  Opciones: 690100 → 1680\n",
    "\n",
    "s.  Relleno: 00"
   ]
  },
  {
   "cell_type": "markdown",
   "metadata": {},
   "source": [
    "##### Se realizó la captura de las siguientes tramas Ethernet. (tenga en cuenta que se extrajeron los bytes de preámbulo). Se pide: Analizar los campos relevantes de la información de **nivel de transporte** que contienen.\n",
    "\n",
    "|                       | **Trama**             | **Comentarios**       |\n",
    "|-----------------------|-----------------------|-----------------------|\n",
    "| **1**                 | 00 18 f8 4e 70 2f 00  | **IP Version: 4**     |\n",
    "|                       | 50 2c a4 34 ec 08 00  |                       |\n",
    "|                       | **45 00 00 3e 7f 5e   | **Protocol: 11        |\n",
    "|                       | 00 00 80 11 cf aa c0  | (UDP)**               |\n",
    "|                       | a8 01 64 c8 2a 61 6f  |                       |\n",
    "|                       | 04 06 00 35** 00 2a   | **IP Source:          |\n",
    "|                       | 2c a8 e4 e8 01 00 00  | 192.168.1.100**       |\n",
    "|                       | 01 00 00 00 00 00 00  |                       |\n",
    "|                       | 03 77 77 77 08 6d 69  | **IP Dest:            |\n",
    "|                       | 6e 69 6e 6f 76 61 03  | 200.42.97.111**       |\n",
    "|                       | 6f 72 67 00 00 01 00  |                       |\n",
    "|                       | 01 23 cd ac f2        | **Port Source: 1030** |\n",
    "|                       |                       |                       |\n",
    "|                       |                       | **Port Dest: 53**     |\n",
    "|-----------------------|-----------------------|-----------------------|\n",
    "| **2**                 | 00 50 2c a4 34 ec 00  | **IP Version: 4**     |\n",
    "|                       | 18 f8 4e 70 2f 08 00  |                       |\n",
    "|                       | **45 00 00 5c b7 fa   | **Protocol: 11        |\n",
    "|                       | 00 00 3c 11 da f0 c8  | (UDP)**               |\n",
    "|                       | 2a 61 6f c0 a8 01 64  |                       |\n",
    "|                       | 00 35 04 06** 00 48   | **IP Source:          |\n",
    "|                       | 36 15 e4 e8 81 80 00  | 200.42.97.111**       |\n",
    "|                       | 01 00 02 00 00 00 00  |                       |\n",
    "|                       | 03 77 77 77 08 6d 69  | **IP Dest:            |\n",
    "|                       | 6e 69 6e 6f 76 61 03  | 192.168.1.100**       |\n",
    "|                       | 6f 72 67 00 00 01 00  |                       |\n",
    "|                       | 01 c0 0c 00 05 00 01  | **Port Source: 53**   |\n",
    "|                       | 00 00 25 11 00 02 c0  |                       |\n",
    "|                       | 10 c0 10 00 01 00 01  | **Port Dest: 1030**   |\n",
    "|                       | 00 00 25 11 00 04 57  |                       |\n",
    "|                       | e9 93 8c a1 23 64 f3  |                       |\n",
    "|-----------------------|-----------------------|-----------------------|\n",
    "| **3**                 | 00 18 f8 4e 70 2f 00  | **IP Version: 4**     |\n",
    "|                       | 50 2c a4 34 ec 08 00  |                       |\n",
    "|                       | **45 00 00 30 7f 61   | **Protocol: 06        |\n",
    "|                       | 40 00 80 06 cd e4 c0  | (TCP)**               |\n",
    "|                       | a8 01 64 57 e9 93     |                       |\n",
    "|                       | 8c** **0c 54 00 50**  | **IP Source:          |\n",
    "|                       | **f0 e8 a3 97** **00  | 192.168.1.100**       |\n",
    "|                       | 00 00 00** 70 0**2**  |                       |\n",
    "|                       | ff ff 34 79 00 00 02  | **IP Dest:            |\n",
    "|                       | 04 05 b4 01 01 04 02  | 87.233.147.131**      |\n",
    "|                       | 11 ac fb 4b           |                       |\n",
    "|                       |                       | **Port Source: 3156** |\n",
    "|                       |                       |                       |\n",
    "|                       |                       | **Port Dest: 80**     |\n",
    "|                       |                       |                       |\n",
    "|                       |                       | **Sec. Number:        |\n",
    "|                       |                       | 4041778071**          |\n",
    "|                       |                       |                       |\n",
    "|                       |                       | **ACK Number: 0**     |\n",
    "|                       |                       |                       |\n",
    "|                       |                       | **Flags: SYN**        |\n",
    "|-----------------------|-----------------------|-----------------------|\n",
    "| **4**                 | 00 50 2c a4 34 ec 00  | **IP Version: 4**     |\n",
    "|                       | 18 f8 4e 70 2f 08 00  |                       |\n",
    "|                       | **45 00 00 30 00 00   | **Protocol: 06        |\n",
    "|                       | 40 00 35 06 98 46 57  | (TCP)**               |\n",
    "|                       | e9 93 8c c0 a8 01 64  |                       |\n",
    "|                       | 00 50 0c 54 16 3b ae  | **IP Source:          |\n",
    "|                       | 0d f0 e8 a3 98** 70   | 87.233.147.131**      |\n",
    "|                       | **12**  6 d0 59 4f 00 |                       |\n",
    "|                       | 00 02 04 05 b4 01 01  | **IP Dest:            |\n",
    "|                       | 04 02 ac 23 23 ca     | 192.168.1.100**       |\n",
    "|                       |                       |                       |\n",
    "|                       |                       | **Port Source: 80**   |\n",
    "|                       |                       |                       |\n",
    "|                       |                       | **Port Dest: 3156**   |\n",
    "|                       |                       |                       |\n",
    "|                       |                       | **Sec. Number:        |\n",
    "|                       |                       | 373009933**           |\n",
    "|                       |                       |                       |\n",
    "|                       |                       | **ACK Number:         |\n",
    "|                       |                       | 252611128**           |\n",
    "|                       |                       |                       |\n",
    "|                       |                       | **Flags: SYN, ACK**   |\n",
    "|-----------------------|-----------------------|-----------------------|\n",
    "| **5**                 | 00 18 f8 4e 70 2f 00  | **IP Version: 4**     |\n",
    "|                       | 50 2c a4 34 ec 08 00  |                       |\n",
    "|                       | **45 00 00 28 7f 62   | **Protocol: 06        |\n",
    "|                       | 40 00 80 06 cd eb c0  | (TCP)**               |\n",
    "|                       | a8 01 64 57 e9 93 8c  |                       |\n",
    "|                       | 0c 54 00 50 f0 e8 a3  | **IP Source:          |\n",
    "|                       | 98 16 3b ae 0e** 50   | 192.168.1.100**       |\n",
    "|                       | **10** ff ff 9c e3 00 |                       |\n",
    "|                       | 00 a2 cb 23 45        | **IP Dest:            |\n",
    "|                       |                       | 87.233.147.131**      |\n",
    "|                       |                       |                       |\n",
    "|                       |                       | **Port Source: 3156   |\n",
    "|                       |                       | **                    |\n",
    "|                       |                       |                       |\n",
    "|                       |                       | **Port Dest: 80**     |\n",
    "|                       |                       |                       |\n",
    "|                       |                       | **Sec. Number:        |\n",
    "|                       |                       | 4041778072**          |\n",
    "|                       |                       |                       |\n",
    "|                       |                       | **ACK Number:         |\n",
    "|                       |                       | 373009934**           |\n",
    "|                       |                       |                       |\n",
    "|                       |                       | **Flags: ACK**        |\n",
    "|-----------------------|-----------------------|-----------------------|\n",
    "| **6**                 | 00 18 f8 4e 70 2f 00  | **IP Version: 4**     |\n",
    "|                       | 50 2c a4 34 ec 08 00  |                       |\n",
    "|                       | **45 00 01 c0 7f 63   | **Protocol: 06        |\n",
    "|                       | 40 00 80 06 cc 52 c0  | (TCP)**               |\n",
    "|                       | a8 01 64 57 e9 93 8c  |                       |\n",
    "|                       | 0c 54 00 50 f0 e8 a3  | **IP Source:          |\n",
    "|                       | 98 16 3b ae 0e** 50   | 192.168.1.100**       |\n",
    "|                       | **18** ff ff ee 95 00 |                       |\n",
    "|                       | 00 47 45 54 20 2f 20  | **IP Dest:            |\n",
    "|                       | 48 54 54 50 2f 31 2e  | 87.233.147.140**      |\n",
    "|                       | 31 0d 0a 48 6f 73 74  |                       |\n",
    "|                       | 3a 20 77 77 77 2e 6d  | **Port Source: 3156** |\n",
    "|                       | 69 6e 69 6e 6f 76 61  |                       |\n",
    "|                       | 2e 6f 72 67 0d 0a 55  | **Port Dest: 80**     |\n",
    "|                       | 73 65 72 2d 41 67 65  |                       |\n",
    "|                       | 6e 74 3a 20 4d 6f 7a  | **Sec. Number:        |\n",
    "|                       | 69 6c 6c 61 2f 35 2e  | 4041778072**          |\n",
    "|                       | 30 20 28 57 69 6e 64  |                       |\n",
    "|                       | 6f 77 73 3b 20 55 3b  | **ACK Number:         |\n",
    "|                       | 20 57 69 6e 64 6f 77  | 373009934**           |\n",
    "|                       | 73 20 4e 54 20 35 2e  |                       |\n",
    "|                       |                       | **Flags: ACK, PUSH**  |\n",
    "|                       | ..................... |                       |\n",
    "|                       | .....                 |                       |\n",
    "|-----------------------|-----------------------|-----------------------|\n",
    "\n"
   ]
  },
  {
   "cell_type": "code",
   "execution_count": null,
   "metadata": {
    "collapsed": true
   },
   "outputs": [],
   "source": []
  },
  {
   "cell_type": "code",
   "execution_count": null,
   "metadata": {
    "collapsed": true
   },
   "outputs": [],
   "source": []
  },
  {
   "cell_type": "code",
   "execution_count": null,
   "metadata": {
    "collapsed": true
   },
   "outputs": [],
   "source": []
  }
 ],
 "metadata": {
  "kernelspec": {
   "display_name": "Python 3",
   "language": "python",
   "name": "python3"
  },
  "language_info": {
   "codemirror_mode": {
    "name": "ipython",
    "version": 3
   },
   "file_extension": ".py",
   "mimetype": "text/x-python",
   "name": "python",
   "nbconvert_exporter": "python",
   "pygments_lexer": "ipython3",
   "version": "3.6.2"
  }
 },
 "nbformat": 4,
 "nbformat_minor": 2
}
