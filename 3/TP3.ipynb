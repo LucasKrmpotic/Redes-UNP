{
 "cells": [
  {
   "cell_type": "markdown",
   "metadata": {},
   "source": [
    "<div style=\"text-align:center;\">\n",
    "    <h1>Trabajo de Laboratorio 3</h1>\n",
    "    <h2 >Capa de Red</h2>\n",
    "\n",
    "<h2 style=\"background-color:#CCCCCC; padding:0.5em, 0.5em, 0.5em, 0.5em;\">Parte 1: IP Fundamentos - Subnetting</h2>\n",
    "</div>"
   ]
  },
  {
   "cell_type": "markdown",
   "metadata": {},
   "source": [
    "### 1) En el gráfico se indica la red del rectorado de la UNP. Elija entre las opciones dadas las que correspondan a direcciones broadcast.\n",
    "\n",
    "![](images/pto1.png)\n",
    "\n",
    "- 172.16.32.255\n",
    "- 172.16.47.255\n",
    "- 172.16.64.255\n",
    "- 172.16.82.255\n",
    "- 172.16.79.255\n",
    "- 172.16.95.255\n"
   ]
  },
  {
   "cell_type": "markdown",
   "metadata": {},
   "source": [
    "### 2) Ud. está configurando una subred de la oficina central de los supermercados “La Ocasión”. Necesita asignar direcciones IP de hosts de la subred. Definió la máscara 255.255.255.224.\n",
    "\n",
    "**a. Cuáles de las siguientes direcciones son válidas para asignar a host?.**\n",
    "\n",
    "1) 15.234.118.63\n",
    "\n",
    "2) 92.11.178.93\n",
    "\n",
    "3) 134.178.18.56\n",
    "\n",
    "4) 192.168.16.87\n",
    "\n",
    "5) 201.45.116.159\n",
    "\n",
    "6) 217.63.12.192"
   ]
  },
  {
   "cell_type": "markdown",
   "metadata": {},
   "source": [
    "**b. Ud. debe particionar la red 172.12.0.0 en subredes tales que puedan alojar 458 hosts IP. Además se debe lograr el máximo número de subredes. Determine la máscara a utilizar.**"
   ]
  },
  {
   "cell_type": "markdown",
   "metadata": {},
   "source": [
    "### 3. Para el esquema de la figura complete la siguiente tabla. Considere que se ha utilizado la máscara 255.255.255.192\n",
    "\n",
    "| Interfaz router | Dirección IP | Dirección de subred | Rango de direcciones válidas | \n",
    "| :-------------: | :----------: | :-----------------: | :--------------------------: |\n",
    "| R1E0            | 168.11.11.101| | |\n",
    "| R2E0            | 168.11.12.102| | | \n",
    "| R3E0            | 168.11.13.103| | |\n",
    "| R1S0            |168.11.123.201| | |\n",
    "| R2S0            |168.11.123.202| | |\n",
    "| R3S0            |168.11.123.203| | |\n",
    "\n",
    "![](images/pto3.png)\n"
   ]
  },
  {
   "cell_type": "markdown",
   "metadata": {},
   "source": [
    "### 4. El siguiente es un sistema con subredes A,B,D y E y 2 routers R1 y R2. Se desea hacer subnetting utilizando la dirección que nos otorga el ISP 200.37.6.128/28. Indicar la dirección de cada subred que es necesario asignar teniendo en cuenta que:\n",
    "\n",
    "1) A debe contener 7 hosts.\n",
    "\n",
    "2) B debe contener 15 hosts.\n",
    "\n",
    "3) D debe contener 30 hosts.\n",
    "\n",
    "4) E debe contener 13 hosts.\n",
    "\n",
    "En caso que la dirección otorgada por el ISP no alcance para efectuar el subnetting deseado, cual sería la máscara óptima que se requiere.\n",
    "\n",
    "\n",
    "# ACA VA EL DIBUJITO COMPLETADO\n"
   ]
  },
  {
   "cell_type": "markdown",
   "metadata": {},
   "source": [
    "<h2 style=\"text-align:center; background-color:#CCCCCC; padding:0.5em, 0.5em, 0.5em, 0.5em;\">Parte 2: IP Fragmentación – ICMP - Encaminamiento</h2>"
   ]
  },
  {
   "cell_type": "markdown",
   "metadata": {},
   "source": [
    "### 5. Un router recibe un datagrama con header básico y longitud total 832 bytes. Debe ser enviado a un segmento en el que el MTU es de 520 bytes. Determine en forma completa, acorde con los datos suministrados, los campos principales de los encabezados de los segmentos que se generarán."
   ]
  },
  {
   "cell_type": "code",
   "execution_count": null,
   "metadata": {
    "collapsed": true
   },
   "outputs": [],
   "source": []
  },
  {
   "cell_type": "markdown",
   "metadata": {},
   "source": [
    "### 6. Dada la situación representada en la figura:\n",
    "\n",
    "1. Asignar razonablemente direcciones IP válidas a las interfaces de red a las que les falte.\n",
    "2. Establecer tablas de encaminamiento para que (simultáneamente):\n",
    "    + A hable con D y viceversa\n",
    "    + E hable con C pero no con D\n",
    "    + A no pueda hablar con F\n",
    "\n",
    "**NOTA: La máscara de subred es 255.255.255.0 en todos los casos.**"
   ]
  },
  {
   "cell_type": "code",
   "execution_count": null,
   "metadata": {
    "collapsed": true
   },
   "outputs": [],
   "source": []
  },
  {
   "cell_type": "markdown",
   "metadata": {},
   "source": [
    "### 7. En la figura se muestra una red basada en protocolos TCP/IP. La máscara de cada subred es 255.255.255.0. No se permiten rutas por defecto. La tabla de encaminamiento de A se muestra en la figura. El resto de tablas se supone que no impiden ningún camino de comunicación.\n",
    "\n",
    "![](images/pto7.png)\n",
    "\n",
    "**Se pide:**\n",
    "\n",
    "1) Qué dirección IP podría tener H? ¿Y F? Justifíque.\n",
    "\n",
    "2) Puede hablar A con C? Justifíque.\n",
    "\n",
    "3) Puede hablar A con E? Justifíque.\n",
    "\n",
    "4) Cómo habría que actualizar alguna tabla de encaminamiento para que A hable con C pero no con D? Justifíque."
   ]
  },
  {
   "cell_type": "markdown",
   "metadata": {},
   "source": []
  },
  {
   "cell_type": "markdown",
   "metadata": {},
   "source": [
    "###     8. En la figura siguiente se muestra una red basada en protocolos TCP/IP. En cada host se indica su dirección de capa de enlace (MAC) y en algunos casos, su dirección IP de la red a la que pertenece. La máscara de todas las subredes es /24. La tabla de encaminamiento de A se muestra en la figura. Se supone que el resto de las tablas de encaminamiento no impiden ningún camino de comunicación.\n",
    "\n",
    "![](images/pto8.png)\n",
    "\n",
    "**Se pide:**\n",
    "    \n",
    "   1) Asignar razonablemente todas las direcciones IP que faltan en la figura.\n",
    "   \n",
    "   2) Puede hablar A con C?. Justifíque.\n",
    "   \n",
    "   3) Puede hablar A con E?. Justifíque.\n",
    "   \n",
    "   4) Cómo habría que modificar la tabla de A para que pueda hablar con E pero no con F?. Justifique.\n"
   ]
  },
  {
   "cell_type": "code",
   "execution_count": null,
   "metadata": {
    "collapsed": true
   },
   "outputs": [],
   "source": []
  },
  {
   "cell_type": "markdown",
   "metadata": {},
   "source": [
    "###     9. En el esquema de la figura las rutas de Piglet se sustituyen de : \n",
    "\n",
    "```bash\n",
    "Piglet(config)# ip route 192.168.1.0    255.255.255.0    192.168.1.193\n",
    "Piglet(config)# ip route 10.4.0.0     255.255.0.0     192.168.1.193\n",
    "```\n",
    "por estas otras:\n",
    "\n",
    "```bash\n",
    "Piglet(config)# ip route 192.168.1.0    255.255.255.224   192.168.1.193 \n",
    "Piglet(config)# ip route 10.0.0.0   255.255.0.0    192.168.1.193 \n",
    "```\n",
    "\n",
    "Cuál es el resultado?  \n",
    "\n",
    "**Nota:** Tenga en cuenta que las reglas para sus redes adyacentes no se eliminan.\n",
    "\n",
    "![](images/pto9.png)"
   ]
  },
  {
   "cell_type": "code",
   "execution_count": null,
   "metadata": {
    "collapsed": true
   },
   "outputs": [],
   "source": []
  },
  {
   "cell_type": "markdown",
   "metadata": {},
   "source": [
    "### 10) Desarrollar con la heramienta CORE la red de la figura. Se podrán manejar las direcciones IP que automáticamente asigne el programa. En estas condiciónes efectuar los siguientes pasos:\n",
    "\n",
    "   1. Utilizar el comando ifconfig para averiguar las direcciones IP otorgadas a los routers.\n",
    "   \n",
    "   2. Efectuar un Ping desde la máquina n6 a n10. Consignar RTT.\n",
    "   \n",
    "   3. Observar las tablas de encaminamiento del router n1 a efectos de ver por cuál camino se enruta el mensaje anterior. Utilice el comando traceroute desde el icono 1—2 del aplicativo para dibujar la ruta en el diagrama.\n",
    "   \n",
    "   4. Con el comando iptables neutralice el forwarding que se efectúa en el router n2 o n3 que encamina hacia n10. Observe el resultado.\n",
    "   \n",
    "   5. Agregue en el router n1 y en el opuesto (n2 o n3) en diagonal al anterior las rutas necesarias para lograr nuevamente el encaminamiento realizado en 1.\n",
    "   \n",
    "   \n",
    "![](images/pto10.png)"
   ]
  },
  {
   "cell_type": "code",
   "execution_count": null,
   "metadata": {
    "collapsed": true
   },
   "outputs": [],
   "source": []
  }
 ],
 "metadata": {
  "kernelspec": {
   "display_name": "Python 3",
   "language": "python",
   "name": "python3"
  },
  "language_info": {
   "codemirror_mode": {
    "name": "ipython",
    "version": 3
   },
   "file_extension": ".py",
   "mimetype": "text/x-python",
   "name": "python",
   "nbconvert_exporter": "python",
   "pygments_lexer": "ipython3",
   "version": "3.6.2"
  }
 },
 "nbformat": 4,
 "nbformat_minor": 2
}
