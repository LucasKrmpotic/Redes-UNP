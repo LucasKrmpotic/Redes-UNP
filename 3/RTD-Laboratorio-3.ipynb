{
 "cells": [
  {
   "cell_type": "markdown",
   "metadata": {},
   "source": [
    "# Trabajo de Laboratorio 3\n",
    "## Capa de Red"
   ]
  },
  {
   "cell_type": "code",
   "execution_count": 50,
   "metadata": {},
   "outputs": [
    {
     "data": {
      "text/html": [
       "\n",
       "<style>\n",
       ".notas {\n",
       "    background-color: #eeeeee;\n",
       "    padding: 1em;\n",
       "    border: 1px solid #aaa;\n",
       "    margin-top: 1em;\n",
       "}\n",
       "</style>\n"
      ],
      "text/plain": [
       "<IPython.core.display.HTML object>"
      ]
     },
     "execution_count": 50,
     "metadata": {},
     "output_type": "execute_result"
    }
   ],
   "source": [
    "from IPython.display import HTML\n",
    "HTML('''\n",
    "<style>\n",
    ".notas {\n",
    "    background-color: #eeeeee;\n",
    "    padding: 1em;\n",
    "    border: 1px solid #aaa;\n",
    "    margin-top: 1em;\n",
    "}\n",
    "</style>\n",
    "''')\n"
   ]
  },
  {
   "cell_type": "markdown",
   "metadata": {},
   "source": [
    "<div class=\"notas\">\n",
    "Este trabajo práctico puede ser realizado en grupo de hasta **2 integrantes**. Debe entregarse en formato cuadreno (**ipynb**) acompañado de archivos necesarios para su evaluación (imágenes, capturas de paquetes, etc).\n",
    "\n",
    "Debe contestar en una o más celdas posteriores a las celdas de la consigna. Si modifica algún archivo del práctico, debe hacer primero una copia. Las imágenes en formato SVG pueden ser editadas con el software Inkscape.\n",
    "\n",
    "Puede ayudarse con este sitio para formatear las tablas https://www.tablesgenerator.com/markdown_tables\n",
    "</div>\n"
   ]
  },
  {
   "cell_type": "markdown",
   "metadata": {},
   "source": [
    "#### Sobre CORE\n",
    "<div class=\"notas\">\n",
    " Para lanzar CORE:\n",
    " \n",
    " <pre>\n",
    " docker run -d \\ \n",
    "    --hostname coreemu_vnc \\\n",
    "    --name coreemu_vnc \\\n",
    "    --cap-add=NET_ADMIN --cap-add=SYS_ADMIN \\\n",
    "    -p 5901:5900 -p 8080:8080 -p 9999:9999 \\\n",
    "    -v $(pwd):/root/shared \n",
    "    unpdit/coreemu_vnc:unp-core-4.8\n",
    "\n",
    " </pre>\n",
    " \n",
    " Luego acceder a http://localhost:8080 para CORE y http://localhost:9999 para Jupyter.\n",
    " La carpeta en la que se lanza el contenedor, se comparte como /root/shared, en \n",
    " caso de no funcionar, se puede desde el administrador de archivos de Lab arrastar y soltar\n",
    " para subir archivos; y utilizar el botón derecho para descargarlos.\n",
    " </br>\n",
    " \n",
    " En caso de que el contenedor no responda, se puede crear neuvamente:\n",
    "\n",
    " `docker start coreemuv_vnc`, `docker stop coreemu_vnc` y `docker restart coreemu_vnc`.\n",
    "</div>\n",
    "\n",
    "<div class=\"notas\">\n",
    " Alternativamente se puede ejecutar en internet: https://www.youtube.com/watch?v=gkk_KdxShjA\n",
    "</div>"
   ]
  },
  {
   "cell_type": "markdown",
   "metadata": {},
   "source": [
    "## Parte 1 - Subnetting"
   ]
  },
  {
   "cell_type": "markdown",
   "metadata": {},
   "source": [
    "### Punto 1\n",
    "En el gráfico se indica la red del rectorado de la UNP. Elija entre las opciones dadas las que correspondan a direcciones broadcast. \n",
    "\n",
    "<center>\n",
    "![Red](./ej1.svg)\n",
    "</center>\n",
    "\n",
    "    172.16.32.255\n",
    "    172.16.47.255\n",
    "    172.16.64.255\n",
    "    172.16.82.255\n",
    "    172.16.79.255\n",
    "    172.16.95.255\n",
    "    \n",
    "- **172.16.32.255** --- <span style=\"color:red\">10101100 . 00010000 . 0010</span> 0000 . 11111111 \n",
    "- **172.16.47.255** --- <span style=\"color:red\">**10101100 . 00010000 . 0010**</span> **1111 . 11111111**\n",
    "- **172.16.64.255** --- <span style=\"color:red\">10101100 . 00010000 . 0100</span> 0000 . 11111111\n",
    "- **172.16.82.255** --- <span style=\"color:red\">10101100 . 00010000 . 0101</span> 0010 . 11111111\n",
    "- **172.16.79.255** --- <span style=\"color:red\">**10101100 . 00010000 . 0100**</span> **1111 . 11111111**\n",
    "- **172.16.95.255** --- <span style=\"color:red\">**10101100 . 00010000 . 0101**</span> **1111 . 11111111**\n",
    "\n",
    "    **Mascara /20 = 11111111.11111111.11110000.00000000**\n",
    "\n",
    "    **Direcciones Broadcast**\n",
    "\n",
    "    <span style=\"color:red\">**Direccion de Red**</span>\n"
   ]
  },
  {
   "cell_type": "markdown",
   "metadata": {},
   "source": [
    "### Punto 2\n",
    "Ud. está configurando una subred de la oficina central de los supermercados “La Ocasión”. Necesita asignar direcciones IP de hosts de la subred. Definió la máscara **255.255.255.224**.\n",
    "\n",
    "a. Cuáles de las siguientes direcciones son válidas para asignar a host?\n",
    "\n",
    "    1)  15.234.118.63\n",
    "    2)  92.11.178.93\n",
    "    3)  134.178.18.56\n",
    "    4)  192.168.16.87\n",
    "    5)  201.45.116.159\n",
    "    6)  217.63.12.192\n",
    "    \n",
    "\n",
    "1) **15.234.118.63** --- <span style=\"color:red\">00001111 . 11101010 . 01110110 . 001</span>11111\n",
    "\n",
    "2) **92.11.178.93** --- <span style=\"color:red\">**01011100 . 00001011 . 10110010 . 010** </span> **11101**\n",
    "\n",
    "3) **134.178.18.56** --- <span style=\"color:red\">**10000110 . 10110010 . 00010010 . 001**</span>**11000** \n",
    "\n",
    "4) **192.168.16.87** --- <span style=\"color:red\">**11000000 . 10101000 . 00010000 . 010**</span>**10111**  \n",
    "\n",
    "5) **201.45.116.159** --- <span style=\"color:red\">11001001 . 00101101 . 01110100 . 100</span>11111\n",
    "\n",
    "6) **217.63.12.192** --- <span style=\"color:red\">11011001 . 00111111 . 00001100 . 110</span>00000\n",
    "\n",
    "**Mascara : 11111111.11111111.11111111.11100000 → /27**\n",
    "\n",
    "**Direcciones Host**\n",
    "\n",
    "<span style=\"color:red\">**Direccion de Red**</span>\n",
    "\n",
    "**Las direcciones 2, 3 y 4 son válidas para hosts**"
   ]
  },
  {
   "cell_type": "markdown",
   "metadata": {},
   "source": [
    " b. Ud. debe particionar la red 172.12.0.0 en subredes tales que puedan \n",
    "    alojar 458 hosts IP. Además se debe lograr el máximo número de subredes. \n",
    "    Determine la máscara a utilizar."
   ]
  },
  {
   "cell_type": "markdown",
   "metadata": {},
   "source": [
    "**172.12.00.0 → **<span style=\"color:red\">**10101100 . 00001100 **</span>**.** <span style=\"color:blue\">**0000000**</span> <span style=\"color:green\">**0 . 00000000**</span>\n",
    "\n",
    "\n",
    "   **458 Host → 1.11001010**\n",
    "\n",
    "   <span style=\"color:red\">**Direccion Red → Clase B  → 172.12.0.0**</span>** /23 (máscara a utilizar 255.255.127.0)**\n",
    "\n",
    "   <span style=\"color:blue\">**Subredes → Maximo de Subredes = 1111111 → 127**</span>\n",
    "\n",
    "   <span style=\"color:green\">**Host por Subnet → 1.11111111 → 511 host por subnet **</span>"
   ]
  },
  {
   "cell_type": "markdown",
   "metadata": {},
   "source": [
    "c. Ud. debe particionar la red 172.12.0.0 en subredes tales que puedan alojar 458 hosts IP. Además se debe lograr el máximo número de subredes. Determine la máscara a utilizar.\n",
    "\n",
    "\n",
    "| Interfaz router | Dirección IP | Dirección de subred | Rango de direcciones válidas | \n",
    "| :-------------: | :----------: | :-----------------: | :--------------------------: |\n",
    "| R1E0            | 168.11.11.101|<span style=\"color:red\">**168.11.11.64**</span>|<span style=\"color:blue\">**168.11.11.65 - 168.11.11.254**</span> |\n",
    "| R2E0            | 168.11.12.102|<span style=\"color:red\">**168.11.11.64**</span>|<span style=\"color:blue\">**168.11.11.65 - 168.11.11.254**</span> |\n",
    "| R3E0            | 168.11.13.103|<span style=\"color:red\">**168.11.11.64**</span>|<span style=\"color:blue\">**168.11.11.65 - 168.11.11.254**</span> |\n",
    "| R1S0            |168.11.123.201|<span style=\"color:red\">**168.11.123.192**</span>|<span style=\"color:blue\">**168.11.11.193 - 168.11.11.254**</span> |\n",
    "| R2S0            |168.11.123.202|<span style=\"color:red\">**168.11.123.192**</span>|<span style=\"color:blue\">**168.11.11.193 - 168.11.11.254**</span> |\n",
    "| R3S0            |168.11.123.203|<span style=\"color:red\">**168.11.123.192**</span>|<span style=\"color:blue\">**168.11.11.193 - 168.11.11.254**</span> |\n",
    "\n",
    "\n",
    "**Mascara: 255.255.255.192 → 11111111.11111111.11111111.11000000**\n",
    "\n",
    "**Direccion IP** <span style=\"color:red\">**AND**</span> **Mascara = Direccion Subnet**\n",
    "\n",
    "![](./ej2_c.svg)"
   ]
  },
  {
   "cell_type": "markdown",
   "metadata": {},
   "source": [
    "### Punto 3\n",
    "El siguiente es un sistema con subredes A,B,D y E y 2 routers R1 y R2. Se desea hacer subnetting utilizando la dirección que nos otorga el ISP 200.37.6.128/28. Indicar la dirección de cada subred que es necesario asignar teniendo en cuenta que:\n",
    "\n",
    "    a. A debe contener 7 hosts.\n",
    "    b. B debe contener 15 hosts.\n",
    "    c. D debe contener 30 hosts.\n",
    "    d. E debe contener 13 hosts.\n",
    "\n",
    "![](./ej3.svg)\n",
    "\n",
    "\n",
    "**Direccion IP: 200.37.6.128/28 →** <span style=\"color:red\">**11001000.00100101.00000110.1000**</span>0000\n",
    "\n",
    "**Mascara: 11111111.11111111.11111111.11110000**\n",
    "\n",
    "**A→7 hosts (111) →**<span style=\"color:red\">**11001000.00100101.00000110.1000**</span>**0**<span style=\"color:blue\">**111**</span>\n",
    "\n",
    "**B→15 hosts (1111) →**<span style=\"color:red\">**11001000.00100101.00000110.1000**</span><span style=\"color:blue\">**1111**</span> **→ La mascara no es optima para contener 15 host. Se necesita una mascara mas pequeña para poder alojar el numero de subnet ademas de los hosts.  Una mascara menor a /28**\n",
    "\n",
    "**D→30 hosts (11110) → En este caso la direccion otorgada por el ISP no alcanza para efectuar el subnetting deseado. Se necesita una mascara mas pequeña para poder alojar el numero de subnet ademas de los hosts.  Una mascara menor o igual a /26.**\n",
    "\n",
    "**Mascara /26 → 11111111.11111111.11111111.11000000**\n",
    "\n",
    "**E→13 hosts (1101) →**<span style=\"color:red\">**11001000.00100101.00000110.1000**</span><span style=\"color:blue\">**1101**</span> **→ La mascara no es optima para contener 15 host. Se necesita una mascara mas pequeña para poder alojar el numero de subnet ademas de los hosts.  Una mascara menor a /28.** \n"
   ]
  },
  {
   "cell_type": "code",
   "execution_count": null,
   "metadata": {},
   "outputs": [],
   "source": []
  },
  {
   "cell_type": "markdown",
   "metadata": {},
   "source": [
    "## Parte 2: IP Fragmentación – ICMP - Encaminamiento"
   ]
  },
  {
   "cell_type": "markdown",
   "metadata": {},
   "source": [
    "### Punto 4\n",
    "Un router recibe un datagrama con header básico y longitud total **832 bytes**.  Debe  ser  enviado  a  un  segmento  en  el  que  el  MTU  es  de  **520 bytes**. Determine en forma completa, acorde con los datos suministrados, los campos principales de los encabezados de los segmentos que se generarán."
   ]
  },
  {
   "cell_type": "markdown",
   "metadata": {},
   "source": [
    "**MTU = 520 bytes**\n",
    "\n",
    "**Datagrama length = 832 bytes**\n",
    "\n",
    "<span style=\"color:blue\">**Se enviaran dos segmentos: con mismo identificador (cabecera IP) para distinguir que pertenecen al mismo datagrama**</span>\n",
    "\n",
    "**Se restan 20 bytes de la cabecera IP y 8 bytes de cabecera UDP luego elegimos un múltiplo de 8 para la longitud del\n",
    "mensaje (para compatibilizarlo con el campo de desplazamiento de la cabecera IP o fragment offset) y nos\n",
    "queda 488(Que dividido por 8 nos da 61). Entonces:**\n",
    "\n",
    "\n",
    "<span style=\"color:red\">**Primer paquete: 516 bytes (20 bytes de cabecera IP, 8 bytes de cabecera UDP y 460 bytes de datos)**</span>\n",
    "\n",
    "\n",
    "<span style=\"color:red\">**Segundo paquete: 336 bytes (20 bytes de cabecera IP, 8 bytes de cabecera UDP y 372 bytes de datos)**</span>\n",
    "\n",
    "![](pto4.png)"
   ]
  },
  {
   "cell_type": "markdown",
   "metadata": {},
   "source": [
    "### Punto 5\n",
    "Dada la situación representada en la figura:\n",
    "\n",
    "a. Asignar razonablemente direcciones IP válidas a las interfaces de red a las que les falte.\n",
    "\n",
    "**En la figura se muestran las IPs en color** <span style=\"color:red\">**Rojo**</span>\n",
    "\n",
    "b. Establecer tablas de encaminamiento para que (simultáneamente):\n",
    "  1. A hable con D y viceversa\n",
    "  2. E hable con C pero no con D\n",
    "  3. A no pueda hablar con F\n",
    "  \n",
    "NOTA: La máscara de subred es 255.255.255.0 en todos los casos.\n",
    "\n",
    "![](pto5.svg)\n"
   ]
  },
  {
   "cell_type": "markdown",
   "metadata": {},
   "source": [
    "**Tabla Host A**\n",
    "\n",
    "| Red Destino | Proximo Router | Saltos | \n",
    "| :-------------: | :----------: | :-----------------: |\n",
    "|            128.4.5.0/24 | - | 1 |\n",
    "|            128.4.7.0/24 |128.4.5.1 | 3 |\n",
    "\n",
    "**Tabla Host E**\n",
    "\n",
    "| Red Destino | Proximo Router | Saltos | \n",
    "| :-------------: | :----------: | :-----------------: |\n",
    "|            128.4.9.2/32 | 128.4.5.5 | 2 |\n",
    "|            128.4.5.0/24 | - | 1 |\n",
    "\n",
    "**Tabla Host D**\n",
    "\n",
    "| Red Destino | Proximo Router | Saltos | \n",
    "| :-------------: | :----------: | :-----------------: |\n",
    "|            128.4.5.6/32 | 128.4.7.2 | 2 |\n",
    "|            128.4.7.0/24 | - | 1 |\n",
    "\n",
    "**Tabla Router B**\n",
    "\n",
    "| Red Destino | Proximo Router | Saltos | Interfaz | \n",
    "| :-------------: | :----------: | :--------------: | :--------------: |\n",
    "|            128.4.7.0/24 | 128.4.9.2 | 2 | 128.4.9.1 |\n",
    "|            128.4.5.0/24 | - | 1 | 128.4.5.1 |\n",
    "|            128.4.5.0/24 | - | 1 | 128.4.9.1 |\n",
    "\n",
    "**Tabla Router C**\n",
    "\n",
    "| Red Destino | Proximo Router | Saltos | Interfaz | \n",
    "| :-------------: | :----------: | :--------------: | :--------------: |\n",
    "|            128.4.7.0/24 | - | 1 | 128.4.7.2 |\n",
    "|            128.4.5.0/24 | 128.4.9.1 | 2 | 128.4.9.2 |\n",
    "|            128.4.9.0/24 | - | 1 | 128.4.9.2 |"
   ]
  },
  {
   "cell_type": "markdown",
   "metadata": {},
   "source": [
    "### Punto 6\n",
    "\n",
    "En la figura se muestra una red basada en protocolos TCP/IP. La máscara de cada subred es 255.255.255.0. No se permiten rutas por defecto.\n",
    "\n",
    "La tabla de encaminamiento de A se muestra en la figura. El resto de tablas se supone que no impiden ningún camino de comunicación.\n",
    "\n",
    "Se pide:\n",
    "\n",
    "a. Qué dirección IP podría tener H? ¿Y F? Justifíque. \n",
    "\n",
    "**En la figura se representan las IPs en color** <span style=color:red>**rojo**</span>\n",
    "\n",
    "b. Puede hablar A con C? Justifíque.\n",
    "\n",
    "**A no puede hablar con C, porque en la tabla de direccionamiento de A no esta la direccion de C, por lo cual \"no lo conoce\". Para que A pueda comunicarse con C, en su tabla de direccionamiento deberia tener una tupla como la siguiente:**\n",
    "\n",
    "| Red Destino | Proximo Router |\n",
    "| :-------------: | :----------: |\n",
    "|            128.4.7.0/24 | 192.1.2.2 |\n",
    "\n",
    "c. Puede hablar A con E? Justifíque.\n",
    "\n",
    "**A si puede comunicarse con E. En su tabla de encamina tiene la direccion 128.8.65.0/24, con lo cual puede comunicarse con cualquier host/router con IP 128.8.65.0/24**\n",
    "\n",
    "d. Cómo habría que actualizar alguna tabla de encaminamiento para que A hable con C pero no con D? Justifíque.\n",
    "\n",
    "**Habria que actualizar la tabla de encaminamiento de A con la siguiente tupla:**\n",
    "    \n",
    "| Red Destino | Proximo Router |\n",
    "| :-------------: | :----------: |\n",
    "|            128.8.254.0/24 | 128.4.9.2 |\n",
    "    \n",
    "    \n",
    "    \n",
    "![](ej6.svg)\n"
   ]
  },
  {
   "cell_type": "code",
   "execution_count": null,
   "metadata": {},
   "outputs": [],
   "source": []
  },
  {
   "cell_type": "markdown",
   "metadata": {},
   "source": [
    "### Punto 7\n",
    "En la figura siguiente se muestra una red basada en protocolos TCP/IP. En cada host se indica su dirección de capa de enlace (MAC) y en algunos casos, su dirección IP de la red a la que pertenece. La máscara de todas las subredes es /24. La tabla de encaminamiento de A se muestra en la figura. Se supone que el resto de las tablas de encaminamiento no impiden ningún camino de comunicación.\n",
    "Se pide:\n",
    "    \n",
    "a. Asignar razonablemente todas las direcciones IP que faltan en la figura.\n",
    "\n",
    "**Las direcciones IPs faltantes se asignaron en la figura en color** <span style=\"color:red\">**Rojo**</span>\n",
    "\n",
    "b. Puede hablar A con C?. Justifíque.\n",
    "\n",
    "**A no puede comunicarse con C. Esto es porque en su tabla de encaminamiento no \"conoce\" como IP destino la direccion de A (163.117.5.10/32 o 163.117.5.0/24). Para poder comunicarse deberia tener una tupla en su tabla de encaminamiento como la siguiente:**\n",
    "\n",
    "| Red Destino | Proximo Router | Saltos | \n",
    "| :-------------: | :----------: | :-----------------: |\n",
    "|            163.117.5.0/24 | 163.117.2.2 | 2 |\n",
    "\n",
    "c. Puede hablar A con E?. Justifíque.\n",
    "\n",
    "**A si puede comunicarse con E. Ya que conoce en su tabla de encaminamiento las direcciones** <span style=\"color:blue\">**163.117.131.0/24**</span> **por lo cual conoce toda esa subred y ademas se asume que los demas nodos no impiden comunicacion alguna.**\n",
    "\n",
    "d. Cómo habría que modificar la tabla de A para que pueda hablar con E pero no con F?. Justifique.\n",
    "\n",
    "**La tabla de encaminamiento de A quedaria de la siguiente manera:**\n",
    "\n",
    "| Red Destino | Proximo Router | \n",
    "| :-------------: | :----------: |\n",
    "|            163.117.2.0/24 | 0.0.0.o |\n",
    "|            163.117.131.10/32 |163.117.2.2| \n",
    "|            163.117.137.0/24 |163.117.2.2|\n",
    "    \n",
    "![](./ej7.png)\n"
   ]
  },
  {
   "cell_type": "code",
   "execution_count": null,
   "metadata": {},
   "outputs": [],
   "source": []
  },
  {
   "cell_type": "markdown",
   "metadata": {},
   "source": [
    "### Punto 8\n",
    "En el esquema de la figura las rutas de Piglet se sustituyen de\n",
    "```\n",
    "piglet(config)# ip route 192.168.1.0    255.255.255.0    192.168.1.193\n",
    "piglet(config)# ip route 10.4.0.0     255.255.0.0     192.168.1.193\n",
    "```\n",
    "por estas otras:\n",
    "```\n",
    "piglet(config)# ip route 192.168.1.0    255.255.255.224   192.168.1.193 \n",
    "piglet(config)# ip route 10.0.0.0   255.255.0.0    192.168.1.193 \n",
    "```\n",
    "Cuál es el resultado?  \n",
    "**Nota: Tenga en cuenta que las reglas para sus redes adyacentes no se eliminan.**\n",
    "\n",
    "<span style=\"color:red\">**Como situacion inicial, Piglet puede hablar con todos los demas nodos (Pooh, Tigger y Eeyore). Luego de que las rutas de Piglet se sustituyen, Solo puede hablar con Pooh y con Eeyore (Se muestra en la figura las rutas que Piglet conoce luego de la actualizacion de rutas, en color** <span style=\"color:green\">**verde**</span>)**.**</span>\n",
    "\n",
    "![](./ej8.svg)\n"
   ]
  },
  {
   "cell_type": "code",
   "execution_count": null,
   "metadata": {},
   "outputs": [],
   "source": []
  },
  {
   "cell_type": "markdown",
   "metadata": {},
   "source": [
    "### Punto 9"
   ]
  },
  {
   "cell_type": "markdown",
   "metadata": {},
   "source": [
    "Desarrollar con la heramienta [CORE 4.8](https://hub.docker.com/r/unpdit/coreemu_vnc),  facilitada por la cátedra,  la red de la figura. Se podrán manejar las direcciones IP que automáticamente asigne el programa. En estas condiciónes efectuar los siguientes pasos:\n",
    "\n",
    "1. Utilizar el comando `ip addr` para averiguar las direcciones IP otorgadas a los routers.\n",
    "2. Efectuar un Ping desde la máquina n6 a n10. Consignar RTT.\n",
    "3. Observar las tablas de encaminamiento del router n1 a efectos de ver por cuál camino se enruta el mensaje anterior. Utilice el comando traceroute desde el icono 1—2 del aplicativo para dibujar la ruta en el diagrama.\n",
    "4. Con el comando `iptables` neutralice el forwarding que se efectúa en el router n2 o n3 que encamina hacia n10. Observe el resultado.\n",
    "5. Agregue en el router n1 y en el opuesto (n2 o n3) en diagonal al anterior las rutas necesarias para lograr nuevamente el encaminamiento realizado en **1**.\n",
    "\n",
    "<div class=notas>\n",
    "Cree el archivo en el órden que aparecen los nodos\n",
    "</div>\n",
    "<div class=notas>\n",
    "Notas de instalación en Ubuntu: \n",
    "https://docs.docker.com/install/linux/docker-ce/ubuntu/\n",
    "</div>\n",
    "<div class=notas>\n",
    "Docker debe instalarse previamente. En caso de carecer de internet, el comando `docker run` fallará, puede utilizar `docker load unpdit_coreemu_vnc_unp_core_48`\n",
    "</div>\n",
    "![](./ej9.png)\n"
   ]
  },
  {
   "cell_type": "markdown",
   "metadata": {},
   "source": [
    "### 1. Direcciones ip de los routers"
   ]
  },
  {
   "cell_type": "code",
   "execution_count": null,
   "metadata": {},
   "outputs": [],
   "source": [
    "!vcmd -c /tmp/pycore.43869/n1 -- ip -4 a"
   ]
  },
  {
   "cell_type": "code",
   "execution_count": null,
   "metadata": {},
   "outputs": [],
   "source": [
    "!vcmd -c /tmp/pycore.43869/n2 -- ip -4 a"
   ]
  },
  {
   "cell_type": "code",
   "execution_count": null,
   "metadata": {},
   "outputs": [],
   "source": [
    "!vcmd -c /tmp/pycore.43869/n3 -- ip -4 a"
   ]
  },
  {
   "cell_type": "code",
   "execution_count": null,
   "metadata": {},
   "outputs": [],
   "source": [
    "!vcmd -c /tmp/pycore.43869/n4 -- ip -4 a"
   ]
  },
  {
   "cell_type": "markdown",
   "metadata": {},
   "source": [
    "### 2. Ping n6 a n10"
   ]
  },
  {
   "cell_type": "code",
   "execution_count": 33,
   "metadata": {},
   "outputs": [
    {
     "name": "stdout",
     "output_type": "stream",
     "text": [
      "1: lo: <LOOPBACK,UP,LOWER_UP> mtu 65536 qdisc noqueue state UNKNOWN group default qlen 1000\n",
      "    inet 127.0.0.1/8 scope host lo\n",
      "       valid_lft forever preferred_lft forever\n",
      "28: eth0@if29: <BROADCAST,MULTICAST,UP,LOWER_UP> mtu 1500 qdisc noqueue state UP group default qlen 1000 link-netnsid 0\n",
      "    inet 10.0.4.10/24 brd 10.0.4.255 scope global eth0\n",
      "       valid_lft forever preferred_lft forever\n"
     ]
    }
   ],
   "source": [
    "!vcmd -c /tmp/pycore.43869/n10 -- ip -4 a"
   ]
  },
  {
   "cell_type": "code",
   "execution_count": 12,
   "metadata": {},
   "outputs": [
    {
     "name": "stdout",
     "output_type": "stream",
     "text": [
      "64 bytes from 10.0.4.10: icmp_seq=53 ttl=61 time=0.094 ms\n",
      "64 bytes from 10.0.4.10: icmp_seq=54 ttl=61 time=0.129 ms\n",
      "64 bytes from 10.0.4.10: icmp_seq=55 ttl=61 time=0.122 ms\n",
      "64 bytes from 10.0.4.10: icmp_seq=56 ttl=61 time=0.123 ms\n",
      "^C\n",
      "\n",
      "--- 10.0.4.10 ping statistics ---\n",
      "56 packets transmitted, 56 received, 0% packet loss, time 57210ms\n",
      "rtt min/avg/max/mdev = 0.050/0.121/0.290/0.035 ms\n"
     ]
    }
   ],
   "source": [
    "!vcmd -c /tmp/pycore.43869/n6 ping 10.0.4.10"
   ]
  },
  {
   "cell_type": "markdown",
   "metadata": {},
   "source": [
    "**RTT 0.094ms - 0.129ms** "
   ]
  },
  {
   "cell_type": "markdown",
   "metadata": {},
   "source": [
    "### 3. Tabla de encaminamiento de n1"
   ]
  },
  {
   "cell_type": "code",
   "execution_count": 15,
   "metadata": {},
   "outputs": [
    {
     "name": "stdout",
     "output_type": "stream",
     "text": [
      "10.0.0.0/24 dev eth0 proto kernel scope link src 10.0.0.2 \n",
      "10.0.1.0/24 dev eth1 proto kernel scope link src 10.0.1.1 \n",
      "10.0.2.0/24 via 10.0.1.2 dev eth1 proto zebra metric 20 \n",
      "10.0.3.0/24 via 10.0.0.1 dev eth0 proto zebra metric 20 \n",
      "10.0.4.0/24 proto zebra metric 30 \n",
      "\tnexthop via 10.0.0.1  dev eth0 weight 1\n",
      "\tnexthop via 10.0.1.2  dev eth1 weight 1\n",
      "10.0.5.0/24 dev eth2 proto kernel scope link src 10.0.5.1 \n",
      "10.0.6.0/24 via 10.0.1.2 dev eth1 proto zebra metric 20 \n",
      "10.0.7.0/24 via 10.0.0.1 dev eth0 proto zebra metric 20 \n"
     ]
    }
   ],
   "source": [
    "!vcmd -c /tmp/pycore.43869/n1 ip route"
   ]
  },
  {
   "cell_type": "markdown",
   "metadata": {},
   "source": [
    "### traceroute n1 a n10\n",
    "\n",
    "![](./traceroute-n1-n10.png)"
   ]
  },
  {
   "cell_type": "markdown",
   "metadata": {},
   "source": [
    "### 4. Añadiendo regla iptables"
   ]
  },
  {
   "cell_type": "code",
   "execution_count": 32,
   "metadata": {},
   "outputs": [
    {
     "name": "stdout",
     "output_type": "stream",
     "text": [
      "Chain INPUT (policy ACCEPT 2 packets, 136 bytes)\n",
      " pkts bytes target     prot opt in     out     source               destination         \n",
      "\n",
      "Chain FORWARD (policy ACCEPT 0 packets, 0 bytes)\n",
      " pkts bytes target     prot opt in     out     source               destination         \n",
      "\n",
      "Chain OUTPUT (policy ACCEPT 0 packets, 0 bytes)\n",
      " pkts bytes target     prot opt in     out     source               destination         \n"
     ]
    }
   ],
   "source": [
    "!vcmd -c /tmp/pycore.43869/n3 -- iptables -nL -v"
   ]
  },
  {
   "cell_type": "markdown",
   "metadata": {},
   "source": [
    "**Añadimos una regla a la cadena FORWARD para dropear trafico de n6 a n10**"
   ]
  },
  {
   "cell_type": "code",
   "execution_count": 35,
   "metadata": {},
   "outputs": [],
   "source": [
    "!vcmd -c /tmp/pycore.43869/n3 -- iptables -A FORWARD -s 10.0.5.10 -d 10.0.4.10 -j DROP"
   ]
  },
  {
   "cell_type": "markdown",
   "metadata": {},
   "source": [
    "**Vemos que la regla fue añadida**"
   ]
  },
  {
   "cell_type": "code",
   "execution_count": 38,
   "metadata": {},
   "outputs": [
    {
     "name": "stdout",
     "output_type": "stream",
     "text": [
      "Chain INPUT (policy ACCEPT)\n",
      "target     prot opt source               destination         \n",
      "\n",
      "Chain FORWARD (policy ACCEPT)\n",
      "target     prot opt source               destination         \n",
      "DROP       all  --  10.0.5.10            10.0.4.10           \n",
      "\n",
      "Chain OUTPUT (policy ACCEPT)\n",
      "target     prot opt source               destination         \n"
     ]
    }
   ],
   "source": [
    "!vcmd -c /tmp/pycore.43869/n3 -- iptables -nL"
   ]
  },
  {
   "cell_type": "markdown",
   "metadata": {},
   "source": [
    "**Intentamos hacer ping**"
   ]
  },
  {
   "cell_type": "code",
   "execution_count": 39,
   "metadata": {},
   "outputs": [
    {
     "name": "stdout",
     "output_type": "stream",
     "text": [
      "PING 10.0.4.10 (10.0.4.10) 56(84) bytes of data.\n",
      "^C\n",
      "\n",
      "--- 10.0.4.10 ping statistics ---\n",
      "10 packets transmitted, 0 received, 100% packet loss, time 9375ms\n",
      "\n"
     ]
    }
   ],
   "source": [
    "!vcmd -c /tmp/pycore.43869/n6 ping 10.0.4.10"
   ]
  },
  {
   "cell_type": "markdown",
   "metadata": {},
   "source": [
    "### 5. Añadiendo rutas para reestablecer el ping de n6 a n10"
   ]
  },
  {
   "cell_type": "markdown",
   "metadata": {},
   "source": [
    "**5.1 vemos las rutas de n1**"
   ]
  },
  {
   "cell_type": "code",
   "execution_count": 40,
   "metadata": {},
   "outputs": [
    {
     "name": "stdout",
     "output_type": "stream",
     "text": [
      "10.0.0.0/24 dev eth0 proto kernel scope link src 10.0.0.2 \n",
      "10.0.1.0/24 dev eth1 proto kernel scope link src 10.0.1.1 \n",
      "10.0.2.0/24 via 10.0.1.2 dev eth1 proto zebra metric 20 \n",
      "10.0.3.0/24 via 10.0.0.1 dev eth0 proto zebra metric 20 \n",
      "10.0.4.0/24 proto zebra metric 30 \n",
      "\tnexthop via 10.0.0.1  dev eth0 weight 1\n",
      "\tnexthop via 10.0.1.2  dev eth1 weight 1\n",
      "10.0.5.0/24 dev eth2 proto kernel scope link src 10.0.5.1 \n",
      "10.0.6.0/24 via 10.0.1.2 dev eth1 proto zebra metric 20 \n",
      "10.0.7.0/24 via 10.0.0.1 dev eth0 proto zebra metric 20 \n"
     ]
    }
   ],
   "source": [
    "!vcmd -c /tmp/pycore.43869/n1 ip route"
   ]
  },
  {
   "cell_type": "markdown",
   "metadata": {},
   "source": [
    "**5.2 Añadimos ruta para alcanzar la red 10.0.4.0/24 via 10.0.1.2 dev eth1**"
   ]
  },
  {
   "cell_type": "code",
   "execution_count": 44,
   "metadata": {},
   "outputs": [],
   "source": [
    "!vcmd -c /tmp/pycore.43869/n1 -- ip route add 10.0.4.0/24 via 10.0.1.2 dev eth1"
   ]
  },
  {
   "cell_type": "markdown",
   "metadata": {},
   "source": [
    "**5.3 vemos las rutas de n2**"
   ]
  },
  {
   "cell_type": "code",
   "execution_count": 42,
   "metadata": {},
   "outputs": [
    {
     "name": "stdout",
     "output_type": "stream",
     "text": [
      "10.0.0.0/24 via 10.0.1.1 dev eth0 proto zebra metric 20 \n",
      "10.0.1.0/24 dev eth0 proto kernel scope link src 10.0.1.2 \n",
      "10.0.2.0/24 dev eth1 proto kernel scope link src 10.0.2.2 \n",
      "10.0.3.0/24 via 10.0.2.1 dev eth1 proto zebra metric 20 \n",
      "10.0.4.0/24 via 10.0.2.1 dev eth1 proto zebra metric 20 \n",
      "10.0.5.0/24 via 10.0.1.1 dev eth0 proto zebra metric 20 \n",
      "10.0.6.0/24 dev eth2 proto kernel scope link src 10.0.6.1 \n",
      "10.0.7.0/24 proto zebra metric 30 \n",
      "\tnexthop via 10.0.1.1  dev eth0 weight 1\n",
      "\tnexthop via 10.0.2.1  dev eth1 weight 1\n"
     ]
    }
   ],
   "source": [
    "!vcmd -c /tmp/pycore.43869/n2 ip route"
   ]
  },
  {
   "cell_type": "markdown",
   "metadata": {},
   "source": [
    "**Como ya hay ruta en n2 para alcanzar 10.0.4.0/24 no necesitamos hacer nada mas**\n",
    "![](./traceroute-nuevo.png)"
   ]
  },
  {
   "cell_type": "markdown",
   "metadata": {},
   "source": [
    "## Parte 3\n",
    "### IP routing - Network Address Translation"
   ]
  },
  {
   "cell_type": "markdown",
   "metadata": {},
   "source": [
    "### Punto 10\n",
    "Dada la red de la figura siguiente, donde la máscara de subred es /24 y considerando la tabla de encaminamiento que aparece más abajo, se solicita:\n",
    "\n",
    "a) Completar la tabla indicando en la casillas en blanco:\n",
    "  1. **NO** cuando no hay camino desde M hasta N.\n",
    "  2. La secuencia de encaminadores intermedios cuando sí hay camino desde M hasta N\n",
    "\n",
    "|   | A        | B  | C  | X  | Y        | Z  |    \n",
    "|---|----------|----|----|----|----------|----|\n",
    "| A | --       | R1 |R1,R2| NO | R1,R3,R6 |NO|\n",
    "| B | R1       | -- | R2 |R4,R5| NO      |R4,R7|\n",
    "| C | R2,R3,R1 | R2 | -- | NO | R2,R3,R6 | NO |\n",
    "| X | NO       |R5,R4|NO | -- | NO       | R5,R4,R7|\n",
    "| Y | R6,R3,R1 | NO |R6,R3,R2| NO | --   | NO |\n",
    "| Z |    NO    |R7,R4| NO |R7,R4,R5| NO  | -- |\n",
    "\n",
    "![](./ej10.png)\n",
    "\n",
    "b) Supongamos que se cae el encaminador R3, quedando fuera de servicio. Reconstruir las tablas de R1, R2, R4, R5, R6 y R7 para que sigan pudiendo comunicarse entre sí las mismas máquinas que lo hacían antes.\n",
    "\n",
    "![](./ej10b.png)\n",
    "\n",
    "c) Adaptar las tablas de los encaminadores (routers) para que pueda circular todo el tráfico con origen en X y destino en Z, pero sólo de forma que pase por la subred de B. Indicar sólo las rutas que habría que quitar, añadir o modificar. Se valorará realizar el menor numero de cambios en las tablas\n",
    "\n",
    "![](./ej10c.png)\n",
    "\n"
   ]
  },
  {
   "cell_type": "code",
   "execution_count": null,
   "metadata": {},
   "outputs": [],
   "source": []
  },
  {
   "cell_type": "markdown",
   "metadata": {},
   "source": [
    "### Punto 11\n",
    "En una red cuya topología se indica en la figura, la máquina 10.0.2.10 envía un paquete IP a la máquina 10.0.0.10.\n",
    " \n",
    " ![](./ej11.png)\n",
    " \n",
    "1. Indique el camino seguido por el paquete, detallando cada enrutador que atraviesa y la decisión que se toma en el mismo.\n",
    "\n",
    "**El  paquete enviado de la maquina 10.0.2.10 a la maquina 10.0.0.10 nunca llegaria a destino. El paquete moriria por TTL**\n",
    "\n",
    "**Ruta: **<span style=\"color:red\">**Router E -> Router B -> Router C -> Router D -> Router B -> Router C -> Router D ...**</span>\n",
    "\n",
    "![](./ej11a.png)\n",
    "\n",
    "2. Indique si observa alguna anomalía y de existir cuál sería su solución.\n",
    "\n",
    "**La anmoalia es que el paquete nunca llega a destino. El paquete queda \"loopeando\" en un mismo camino, y luego el camino muere por TTL**\n",
    "\n",
    "3. Haga el mismo análisis que en a. y b. Pero cambiando la máscara de la red a 10.0.0.0/24. \n",
    "\n",
    "**Ruta: ** <span style=\"color:red\">**Router E -> Router D -> Router C -> Router A**</span>\n",
    "\n",
    "![](./ej11c.png)"
   ]
  },
  {
   "cell_type": "markdown",
   "metadata": {},
   "source": [
    "### Punto 12\n",
    "\n",
    "En la red de la figura anterior, al router B se le agrega una placa Ethernet y se conecta a Internet con un esquema de NAT.\n",
    "\n",
    "1. Indique una dirección válida que pueda otorgarle el ISP.\n",
    "2. Si los dos HOST que se indican en la figura establecen una conexión cada uno, simultáneas con el servidor WEB de la Universidad de la patagonia cuya dirección IP es 200.37.12.88 y a su vez otra conexión cada uno de los HOST con el Servidor de Correo SMTP de Google (IP= 12.18.32.25), indique cuáles serán las direccciones y puertos que se utilizarán a un lado y otro del Router B, en uno y otro sentido, para permitir las cuatro conexiones apuntadas\n",
    "3. Agregue las rutas necesarias a los routers asociados a los hosts en cuestión a efectos que el enrutamiento a internet sea posible sin restricciones."
   ]
  },
  {
   "cell_type": "markdown",
   "metadata": {},
   "source": [
    "### 1. Dirección ip válida \n",
    "Suponiendo que la red de la figura se encuentra en Argentina (ya que los hosts interactúan con la UNPSJB), una dirección ip válida podría ser la **201.250.76.150/17** por ser una dirección \"libre\" y administrada por un ISP de Argentina (lo importante es que la dirección asignada por el ISP no tiene nada que ver con las direcciones ip privadas. El router B tendrá que hacer NAT)\n",
    "\n",
    "<div class=\"notas\">\n",
    "    Para encontrar la dirección ip propuesta usamos <a href=\"http://www.ipdeny.com/ipblocks/\">este</a> sitio donde se pueden encontrar listas de direcciones ip asignadas por país. Como muy probablemente no estén todas validamos la dirección con una consulta al whois de LACNIC que nos informa que el estado de esa dirección es \"allocated\", es decir que fue asignada a un ISP (Telefónica de Argentina en este caso) pero ese ISP aún no la asignó a un usuario final con lo cual asl ser una dirección \"libre\" puede ser asignada. \n",
    "    <p>Las direcciones ip públicas son gestionadas por el <a href=\"https://www.iana.org/\">IANA</a> que depende del <a href=\"https://www.icann.org/\">ICAAN</a>. A su vez el IANA delega la gestión de direcciones ipv4, ipv6 y números de sistema autónomo a 5 diferentes organizaciones (<a href=\"https://www.arin.net/\">ARIN</a> para Norteamérica y parte del Caribe, <a href=\"https://www.ripe.net/\">RIPE</a> para Europa y parte de Asia, <a href=\"https://www.afrinic.net/\">AFRINIC</a> para África, <a href=\"https://www.apnic.net/\">APNIC</a> para parte de Asia y Oceanía y <a href=\"http://www.lacnic.net/\">LACNIC</a> para América Latina y parte del Caribe).</p> \n",
    "</div>\n",
    "    \n"
   ]
  },
  {
   "cell_type": "markdown",
   "metadata": {},
   "source": [
    "### 2. NAT"
   ]
  },
  {
   "cell_type": "markdown",
   "metadata": {},
   "source": [
    "**2.1 Esquema de las peticioenes**\n",
    "Se quitan los routers del medio para mayor claridad en el dibujo\n",
    "![](./12-2.png)\n",
    " "
   ]
  },
  {
   "cell_type": "markdown",
   "metadata": {},
   "source": [
    "**2.2 Tabla NAT del router B**\n",
    "\n",
    "|      Inside    |    Outside    | \n",
    "|----------------|---------------|\n",
    "|10.0.0.10, 3345 |201.250.76.150 5001 |\n",
    "|10.0.0.10, 3346 |201.250.76.150 5002 |\n",
    "|10.0.2.10, 3345 |201.250.76.150 5003 |\n",
    "|10.0.2.10, 3346 |201.250.76.150 5004 |"
   ]
  },
  {
   "cell_type": "code",
   "execution_count": null,
   "metadata": {},
   "outputs": [],
   "source": []
  },
  {
   "cell_type": "code",
   "execution_count": null,
   "metadata": {},
   "outputs": [],
   "source": []
  },
  {
   "cell_type": "markdown",
   "metadata": {},
   "source": [
    "### Punto 13\n",
    "Cuál de las siguientes afirmaciones son correctas:\n",
    "Al encapsularse los mensajes de RIP en datagramas UDP: \n",
    "\n",
    "1. RIP no sufre de problemas de la fragmentación de datagramas IP\n",
    "2. RIP no sufre los problemas de descartado de paquetes por congestión en encaminadores routers.\n",
    "3. Los mensajes de RIP se desencapsulan por número de puerto del datagrama UDP. <span style=\"color:green\">**Verdadero, los datos de un mensaje RIP se encapsulan en un segmento UDP con el numero de source port y destination port en 520. El encabezado IP y los encabezados de enlace de datos agregan direcciones de destino broadcast a**</span>\n",
    "4. Los mensajes de RIP se desencapsulan por número de protocolo en el datagrama IP  "
   ]
  },
  {
   "cell_type": "code",
   "execution_count": null,
   "metadata": {},
   "outputs": [],
   "source": []
  },
  {
   "cell_type": "markdown",
   "metadata": {},
   "source": [
    "### Punto 14\n",
    "La figura muestra una red en la que se utiliza un protocolo de encaminamiento del tipo de estado de enlace. Las cifras sobre los enlaces indican el valor de distancia entre nodos en un instante dado.\n",
    "\n",
    "![](./ej14.png)\n",
    "\n",
    "1. Indica la información que contendra el próximo paquete de estado de enlace que enviará al nodo B. ¿A qué nodos llegará ésta información?\n",
    "\n",
    "<span style=\"color:red\">**En Link State, todos los nodos tienen una copia de la red y calculan el camino optimo a todos los destinos.**</span>\n",
    "\n",
    "<span style=\"color:red\">**Los paquetes de estado de los enlaces se transmiten por Flooding, es decir, a sus nodos adyacentes y luego esos nodos a sus vecinos. Cuando un nodo recibe un mensaje de estado, Busca el registro en su base. Si no esta, lo agrega y comunica por Broadcast con las siguientes reglas:**</span>\n",
    "\n",
    "**_Si el número identificador en la base es menor que el recibido, reemplazarlo y enviar el mensaje sobre todos los enlaces, excepto sobre el que se recibió el mensaje.**\n",
    "\n",
    "**_Si el número identificador en la base es mayor que el recibido, transmitir el registro de la base a través del enlace por donde se recibió el mensaje.**\n",
    "\n",
    "**_Si los números identificadores son iguales no hacer nada.**\n",
    "\n",
    "**En este caso:**<span style=\"color:blue\">**B le envia el estado de enlace a A, D ,E **</span>\n",
    "\n",
    "**Estado de la red:**\n",
    "\n",
    "| Desde|Hasta|Link|Distancia|    \n",
    "|---|---|---|---|\n",
    "| A | B | 1 | 1 |\n",
    "| A | C | 1 | 1 |\n",
    "| B | A | 1 | 1 |\n",
    "| B | D | 1 | 1 |\n",
    "| B | E | 4 | 1 |\n",
    "| C | A | 1 | 1 |\n",
    "| C | D | 2 | 1 |\n",
    "| D | B | 1 | 1 |\n",
    "| D | C | 2 | 1 |\n",
    "| D | E | 1 | 1 |\n",
    "| E | B | 4 | 1 |\n",
    "| E | D | 1 | 1 |\n",
    "\n",
    "2. Supongamos que ahora se cambia el protocolo de encaminamiento por uno de vector de distancias. Indica la información que enviará el nodo B. ¿A qué nodos llegará esta información?\n",
    "\n",
    "**Con un protocolo Vector Distancia, cada nodo tiene asociadoun vector (lista) de distancias (número de saltos u otras métricas), requiriendo que cada nodo calcule por separado la mejor ruta para cada destino.**\n",
    "\n",
    "**Los vectores se comunican por mensajes que se actualizan por un periodo determinado de tiempo, pasando su tabla de encaminamiento al router mas proximo (Routers a los q esta directamente comunicado), los cuales repiten este mismo proceso hasta que todos los routers esten actualizados (Routing por rumor).**\n",
    "\n",
    "**En el primer intervalo de tiempo en el que B envia el primer mensaje:**\n",
    "\n",
    "<span style=\"color:blue\">**B le envia esta tabla a A,D y E**</span>\n",
    "\n",
    "| Desde |Hasta|Saltos|    \n",
    "|---|---|---|\n",
    "| B | A | 0 |\n",
    "| B | D | 0 |\n",
    "| B | E | 0 |\n",
    "\n",
    "**luego de algunos intervalos de tiempo en los cuales ya todos los nodos estan enterados de las tablas de encaminamiento, B comunicaria la siguiente tablas: **\n",
    "\n",
    "<span style=\"color:blue\">**B le envia esta tabla a A,D y E**</span>\n",
    "\n",
    "| Desde |Hasta|Saltos|    \n",
    "|---|---|---|\n",
    "| B | A | 0 |\n",
    "| B | D | 0 |\n",
    "| B | E | 0 |\n",
    "| B | C | 1 |\n",
    "\n",
    "3. Atendiendo únicamente al número total de mensajes de información de encaminamiento que se generan en una ronda, explica razonadamente si para la red de la figura es mejor usar un algoritmo de encaminamiento de estado de enlace o de vector de distancias.\n",
    "\n",
    "**En el caso de la figura y atendiendo el numero total de mensajes de informacion de encaminamiento, es mas eficiente utilizar**<span style=\"color:blue\">** Protoloco de Link State **</span>\n",
    "**, ya que cada nodo calcula la tabla de enrrutamiento y la envia por Flooding a los demas nodos.**\n",
    "\n",
    "4. Atendiendo únicamente al tamaño de los mensajes de información de encaminamiento que se generan en una ronda, explica razonadamente si para la red de la figura es mejor usar un algoritmo de encaminamiento de estado de enlace o de vector de distancias.\n",
    "\n",
    "\n",
    "**En el caso de la figura y atendiendo el tamaño de los mensajes con informacion de encaminamiento, es mas eficiente utilizar**<span style=\"color:blue\">** Protoloco de Vector Distancia **</span>\n",
    "**, ya que cada nodo calcula por separado la mejor ruta para cada destino, y los mensajes se envian por intervalos determinados de tiempo (\"Rumor\"), comunicando asi a sus nodos vecinos la mejor ruta.**\n",
    " "
   ]
  },
  {
   "cell_type": "code",
   "execution_count": null,
   "metadata": {},
   "outputs": [],
   "source": []
  },
  {
   "cell_type": "markdown",
   "metadata": {},
   "source": [
    "### Punto 15\n",
    "\n",
    "Juan está utilizando la computadora de su hogar y no puede comunicarse con la máquina de su universidad (gsyc.escet.urjc.es).\n",
    "\n",
    "Al hacer un `ping` obtiene el siguiente mensaje: \n",
    "\n",
    "```\n",
    "vmo$ ping gsyc.escet.urjc.es\n",
    "\n",
    "PING gsyc.escet.urjc.es (193.147.71.64): 56 data bytes\n",
    "36 bytes from v100.mpd01.mad05.atlas.cogentco.com (130.117.1.38): Time to live exceded\n",
    "Vr HL TOS Len ID Flg off TTL Pro cks Src Dst ",
    "4 5 00 0054 2b7b 0 0000 01 01 c3b0 192.168.1.2 193.147.71.64\n",
    "```\n",
    " \n",
    "Al hacer un traceroute obtiene el siguiente mensaje: \n",
    "\n",
    "```\n",
    "vmo$ traceroute gsyc.escet.urjc.es\n",
    "traceroute to gsyc.escet.urjc.es (193.147.71.64), 64 hops max, 40 byte packets \n",
    "1 mygateway.ar7 (192.168.1.1) 48.066 ms 3.932 ms 3.173 ms\n",
    "2 madhou.jazztel.es (212.106.217.74) 45.129 ms 68.204 ms 43.838 ms\n",
    "3 madhou.jazztel.es (212.106.217.4) 44.337 ms 44.953 ms 44.815 ms\n",
    "4 t3-4.mpd01.mad05.atlas.cogentco.com (130.117.241.221) 45.579 ms 70.780 ms 44.525 ms\n",
    "5 *** ",
    "\n",
    "6 v100.mpd01.mad05.atlas.cogentco.com (130.117.1.38) 63.228 ms 44.523 ms 44.619 ms ",
    "\n",
    "7 *** ",
    "\n",
    "8 v100.mpd01.mad05.atlas.cogentco.com (130.117.1.38) 59.143 ms 48.010 ms 45.734 ms ",
    "\n",
    "9 *** \n",
    "... ... \n",
    "```"
   ]
  },
  {
   "cell_type": "markdown",
   "metadata": {},
   "source": [
    "1.\tCuál cree que es el problema? En qué nivel de las capas OSI?  ",
    "\n",
    "2.\tCuál es la dirección IP de la máquina de Juan y porqué? Dibuje un esquema de las máquinas que aparecen en las trazas.  ",
    "\n",
    "3.\tRazoné acerca de qué tipo de acceso a Internet cree que tiene Juan.  ",
    "\n",
    "4.\tUna máquina con la dirección IP= 192.168.1.3, en que ́ red o redes del esquema anterior podría estar? y una con la IP= 193.147.71.110?  ",
    "\n",
    "5.\tEscriba la entrada de la tabla de encaminamiento de la máquina mygateway.ar7 que se usa cuando se ejecutan el ping y traceroute anteriores. \n",
    "6.\tA la vista de estas trazas, cree que Juan se podría conectar a pantuflo.dat.escet.urjc.es? Si es que sí en que supuestos y si es que no justifíquelo. Lo mismo para mimaquina.alojamientos.com. \n",
    "7.\tSuponiendo que las cachés de ARP están vacías antes del primer ping y con el esquema dibujado en el punto b, indicar los campos más relevantes de los paquetes ARP que se habrán generado como consecuencia del ping en las subredes de origen y destino.  "
   ]
  },
  {
   "cell_type": "code",
   "execution_count": null,
   "metadata": {},
   "outputs": [],
   "source": []
  }
 ],
 "metadata": {
  "kernelspec": {
   "display_name": "Python 2",
   "language": "python",
   "name": "python2"
  },
  "language_info": {
   "codemirror_mode": {
    "name": "ipython",
    "version": 2
   },
   "file_extension": ".py",
   "mimetype": "text/x-python",
   "name": "python",
   "nbconvert_exporter": "python",
   "pygments_lexer": "ipython2",
   "version": "2.7.14"
  }
 },
 "nbformat": 4,
 "nbformat_minor": 2
}
