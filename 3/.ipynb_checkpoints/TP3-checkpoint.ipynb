{
 "cells": [
  {
   "cell_type": "markdown",
   "metadata": {},
   "source": [
    "<div style=\"text-align:center;\">\n",
    "    <h1>Trabajo de Laboratorio 3</h1>\n",
    "    <h2 >Capa de Red</h2>\n",
    "\n",
    "<h2 style=\"background-color:#CCCCCC; padding:0.5em, 0.5em, 0.5em, 0.5em;\">Parte 1: IP Fundamentos - Subnetting</h2>\n",
    "</div>"
   ]
  },
  {
   "cell_type": "markdown",
   "metadata": {},
   "source": [
    "### 1) En el gráfico se indica la red del rectorado de la UNP. Elija entre las opciones dadas las que correspondan a direcciones broadcast.\n",
    "\n",
    "![](images/pto1.png)\n",
    "\n",
    "- **172.16.32.255** --- <span style=\"color:red\">10101100 . 00010000 . 0010</span> 0000 . 11111111 \n",
    "- **172.16.47.255** --- <span style=\"color:red\">**10101100 . 00010000 . 0010**</span> **1111 . 11111111**\n",
    "- **172.16.64.255** --- <span style=\"color:red\">10101100 . 00010000 . 0100</span> 0000 . 11111111\n",
    "- **172.16.82.255** --- <span style=\"color:red\">10101100 . 00010000 . 0101</span> 0010 . 11111111\n",
    "- **172.16.79.255** --- <span style=\"color:red\">**10101100 . 00010000 . 0100**</span> **1111 . 11111111**\n",
    "- **172.16.95.255** --- <span style=\"color:red\">**10101100 . 00010000 . 0101**</span> **1111 . 11111111**\n",
    "\n",
    "    **Mascara /20 = 11111111.11111111.11110000.00000000**\n",
    "\n",
    "    **Direcciones Broadcast**\n",
    "\n",
    "    <span style=\"color:red\">**Direccion de Red**</span>"
   ]
  },
  {
   "cell_type": "markdown",
   "metadata": {},
   "source": [
    "### 2) Ud. está configurando una subred de la oficina central de los supermercados “La Ocasión”. Necesita asignar direcciones IP de hosts de la subred. Definió la máscara 255.255.255.224.\n",
    "\n",
    "**a. Cuáles de las siguientes direcciones son válidas para asignar a host?.**\n",
    "\n",
    "1) **15.234.118.63** --- <span style=\"color:red\">00001111 . 11101010 . 01110110 . 001</span>11111\n",
    "\n",
    "2) **92.11.178.93** --- <span style=\"color:red\">**01011100 . 00001011 . 10110010 . 010**</span> **11101**\n",
    "\n",
    "3) **134.178.18.56** --- <span style=\"color:red\">**10000110 . 10110010 . 00010010 . 001**</span>**11000**\n",
    "\n",
    "4) **192.168.16.87** --- <span style=\"color:red\">**11000000 . 10101000 . 00010000 . 010**</span>**10111**\n",
    "\n",
    "5) **201.45.116.159** --- <span style=\"color:red\">11001001 . 00101101 . 01110100 . 100</span>11111\n",
    "\n",
    "6) **217.63.12.192** --- <span style=\"color:red\">11011001 . 00111111 . 00001100 . 110</span>00000\n",
    "\n",
    "**Mascara : 11111111.11111111.11111111.11100000 → /27**\n",
    "\n",
    "**Direcciones Host**\n",
    "\n",
    "<span style=\"color:red\">**Direccion de Red**</span>"
   ]
  },
  {
   "cell_type": "markdown",
   "metadata": {},
   "source": [
    "**b. Ud. debe particionar la red 172.12.0.0 en subredes tales que puedan alojar 458 hosts IP. Además se debe lograr el máximo número de subredes. Determine la máscara a utilizar.**\n",
    "\n",
    "**172.12.00.0 → **<span style=\"color:red\">**10101100 . 00001100 **</span>**.** <span style=\"color:blue\">**0000000**</span> <span style=\"color:green\">**0 . 00000000**</span>\n",
    "\n",
    "\n",
    "\n",
    "   **458 Host → 1.11001010**\n",
    "\n",
    "   <span style=\"color:red\">**Direccion Red → Clase B  → 172.12.0.0**</span>\n",
    "\n",
    "   <span style=\"color:blue\">**Host por Subnet → 1.11111111 → 511 host por subnet **</span>\n",
    "\n",
    "   <span style=\"color:green\">**Subredes → Maximo de Subredes = 1111111 → 127**</span>\n",
    "\n"
   ]
  },
  {
   "cell_type": "markdown",
   "metadata": {},
   "source": [
    "### 3. Para el esquema de la figura complete la siguiente tabla. Considere que se ha utilizado la máscara 255.255.255.192\n",
    "\n",
    "| Interfaz router | Dirección IP | Dirección de subred | Rango de direcciones válidas | \n",
    "| :-------------: | :----------: | :-----------------: | :--------------------------: |\n",
    "| R1E0            | 168.11.11.101|<span style=\"color:red\">**168.11.11.64**</span>|<span style=\"color:blue\">**168.11.11.65 - 168.11.11.254**</span> |\n",
    "| R2E0            | 168.11.12.102|<span style=\"color:red\">**168.11.11.64**</span>|<span style=\"color:blue\">**168.11.11.65 - 168.11.11.254**</span> |\n",
    "| R3E0            | 168.11.13.103|<span style=\"color:red\">**168.11.11.64**</span>|<span style=\"color:blue\">**168.11.11.65 - 168.11.11.254**</span> |\n",
    "| R1S0            |168.11.123.201|<span style=\"color:red\">**168.11.123.192**</span>|<span style=\"color:blue\">**168.11.11.193 - 168.11.11.254**</span> |\n",
    "| R2S0            |168.11.123.202|<span style=\"color:red\">**168.11.123.192**</span>|<span style=\"color:blue\">**168.11.11.193 - 168.11.11.254**</span> |\n",
    "| R3S0            |168.11.123.203|<span style=\"color:red\">**168.11.123.192**</span>|<span style=\"color:blue\">**168.11.11.193 - 168.11.11.254**</span> |\n",
    "\n",
    "\n",
    "**Mascara: 255.255.255.192 → 11111111.11111111.11111111.11000000**\n",
    "\n",
    "**Direccion IP** <span style=\"color:red\">**AND**</span> **Mascara = Direccion Subnet**\n",
    "\n",
    "![](images/pto3.png)\n"
   ]
  },
  {
   "cell_type": "markdown",
   "metadata": {},
   "source": [
    "### 4. El siguiente es un sistema con subredes A,B,D y E y 2 routers R1 y R2. Se desea hacer subnetting utilizando la dirección que nos otorga el ISP 200.37.6.128/28. Indicar la dirección de cada subred que es necesario asignar teniendo en cuenta que:\n",
    "\n",
    "En caso que la dirección otorgada por el ISP no alcance para efectuar el subnetting deseado, cual sería la máscara óptima que se requiere.\n",
    "\n",
    "\n",
    "**Direccion IP: 200.37.6.128/28 →** <span style=\"color:red\">**11001000.00100101.00000110.1000**</span>0000\n",
    "**Mascara: 11111111.11111111.11111111.11110000**\n",
    "\n",
    "**A→7 hosts (111) →**<span style=\"color:red\">**11001000.00100101.00000110.1000**</span>**0**<span style=\"color:blue\">**111**</span>\n",
    "\n",
    "**B→15 hosts (1111) →**<span style=\"color:red\">**11001000.00100101.00000110.1000**</span><span style=\"color:blue\">**1111**</span> **→ La mascara no es optima para contener 15 host. Se necesita una mascara mas pequeña para poder alojar el numero de subnet ademas de los hosts.  Una mascara menor a /28**\n",
    "\n",
    "**D→30 hosts (11110) → En este caso la direccion otorgada por el ISP no alcanza para efectuar el subnetting deseado. Se necesita una mascara mas pequeña para poder alojar el numero de subnet ademas de los hosts.  Una mascara menor o igual a /26.**\n",
    "\n",
    "**Mascara /26 → 11111111.11111111.11111111.11000000**\n",
    "\n",
    "**E→15 hosts (1101) →**<span style=\"color:red\">**11001000.00100101.00000110.1000**</span><span style=\"color:blue\">**1101**</span> **→ La mascara no es optima para contener 15 host. Se necesita una mascara mas pequeña para poder alojar el numero de subnet ademas de los hosts.  Una mascara menor a /28.** \n",
    "\n",
    "\n",
    "# ACA VA EL DIBUJITO COMPLETADO\n"
   ]
  },
  {
   "cell_type": "markdown",
   "metadata": {},
   "source": [
    "<h2 style=\"text-align:center; background-color:#CCCCCC; padding:0.5em, 0.5em, 0.5em, 0.5em;\">Parte 2: IP Fragmentación – ICMP - Encaminamiento</h2>"
   ]
  },
  {
   "cell_type": "markdown",
   "metadata": {},
   "source": [
    "### 5. Un router recibe un datagrama con header básico y longitud total 832 bytes. Debe ser enviado a un segmento en el que el MTU es de 520 bytes. Determine en forma completa, acorde con los datos suministrados, los campos principales de los encabezados de los segmentos que se generarán."
   ]
  },
  {
   "cell_type": "markdown",
   "metadata": {
    "collapsed": true
   },
   "source": [
    "**MTU = 520 bytes**\n",
    "\n",
    "**Datagrama length = 832 bytes**\n",
    "\n",
    "<span style=\"color:blue\">**Se enviaran dos segmentos: con mismo identificador (cabecera IP) para distinguir que pertenecen al mismo datagrama**</span>\n",
    "\n",
    "**Se restan 20 bytes de la cabecera IP, luego elegimos un múltiplo de 8 para la longitud del\n",
    "mensaje (para compatibilizarlo con el campo de desplazamiento de la cabecera IP o fragment offset) y nos\n",
    "queda 496(Que dividido por 8 nos da 62). Entonces:**\n",
    "\n",
    "\n",
    "<span style=\"color:red\">**Primer paquete: 516 bytes (20 bytes de cabecera y 496 bytes de datos)**</span>\n",
    "\n",
    "\n",
    "<span style=\"color:red\">**Segundo paquete: 336 bytes (20 bytes de cabecera y 316 bytes de datos)**</span>\n",
    "\n",
    "![](images/pto5.png)\n",
    "\n"
   ]
  },
  {
   "cell_type": "markdown",
   "metadata": {},
   "source": [
    "### 6. Dada la situación representada en la figura:\n",
    "\n",
    "1. Asignar razonablemente direcciones IP válidas a las interfaces de red a las que les falte.\n",
    "2. Establecer tablas de encaminamiento para que (simultáneamente):\n",
    "    + A hable con D y viceversa\n",
    "    + E hable con C pero no con D\n",
    "    + A no pueda hablar con F\n",
    "\n",
    "**NOTA: La máscara de subred es 255.255.255.0 en todos los casos.**"
   ]
  },
  {
   "cell_type": "code",
   "execution_count": null,
   "metadata": {},
   "outputs": [],
   "source": []
  },
  {
   "cell_type": "markdown",
   "metadata": {},
   "source": [
    "### 7. En la figura se muestra una red basada en protocolos TCP/IP. La máscara de cada subred es 255.255.255.0. No se permiten rutas por defecto. La tabla de encaminamiento de A se muestra en la figura. El resto de tablas se supone que no impiden ningún camino de comunicación.\n",
    "\n",
    "![](images/pto7.png)\n",
    "\n",
    "**Se pide:**\n",
    "\n",
    "1) Qué dirección IP podría tener H? ¿Y F? Justifíque.\n",
    "\n",
    "2) Puede hablar A con C? Justifíque.\n",
    "\n",
    "3) Puede hablar A con E? Justifíque.\n",
    "\n",
    "4) Cómo habría que actualizar alguna tabla de encaminamiento para que A hable con C pero no con D? Justifíque."
   ]
  },
  {
   "cell_type": "markdown",
   "metadata": {},
   "source": []
  },
  {
   "cell_type": "markdown",
   "metadata": {},
   "source": [
    "###     8. En la figura siguiente se muestra una red basada en protocolos TCP/IP. En cada host se indica su dirección de capa de enlace (MAC) y en algunos casos, su dirección IP de la red a la que pertenece. La máscara de todas las subredes es /24. La tabla de encaminamiento de A se muestra en la figura. Se supone que el resto de las tablas de encaminamiento no impiden ningún camino de comunicación.\n",
    "\n",
    "![](images/pto8.png)\n",
    "\n",
    "**Se pide:**\n",
    "    \n",
    "   1) Asignar razonablemente todas las direcciones IP que faltan en la figura.\n",
    "   \n",
    "   2) Puede hablar A con C?. Justifíque.\n",
    "   \n",
    "   3) Puede hablar A con E?. Justifíque.\n",
    "   \n",
    "   4) Cómo habría que modificar la tabla de A para que pueda hablar con E pero no con F?. Justifique.\n"
   ]
  },
  {
   "cell_type": "code",
   "execution_count": null,
   "metadata": {
    "collapsed": true
   },
   "outputs": [],
   "source": []
  },
  {
   "cell_type": "markdown",
   "metadata": {},
   "source": [
    "###     9. En el esquema de la figura las rutas de Piglet se sustituyen de : \n",
    "\n",
    "```bash\n",
    "Piglet(config)# ip route 192.168.1.0    255.255.255.0    192.168.1.193\n",
    "Piglet(config)# ip route 10.4.0.0     255.255.0.0     192.168.1.193\n",
    "```\n",
    "por estas otras:\n",
    "\n",
    "```bash\n",
    "Piglet(config)# ip route 192.168.1.0    255.255.255.224   192.168.1.193 \n",
    "Piglet(config)# ip route 10.0.0.0   255.255.0.0    192.168.1.193 \n",
    "```\n",
    "\n",
    "Cuál es el resultado?  \n",
    "\n",
    "**Nota:** Tenga en cuenta que las reglas para sus redes adyacentes no se eliminan.\n",
    "\n",
    "![](images/pto9.png)"
   ]
  },
  {
   "cell_type": "code",
   "execution_count": null,
   "metadata": {
    "collapsed": true
   },
   "outputs": [],
   "source": []
  },
  {
   "cell_type": "markdown",
   "metadata": {},
   "source": [
    "### 10) Desarrollar con la heramienta CORE la red de la figura. Se podrán manejar las direcciones IP que automáticamente asigne el programa. En estas condiciónes efectuar los siguientes pasos:\n",
    "\n",
    "   1. Utilizar el comando ifconfig para averiguar las direcciones IP otorgadas a los routers.\n",
    "   \n",
    "   2. Efectuar un Ping desde la máquina n6 a n10. Consignar RTT.\n",
    "   \n",
    "   3. Observar las tablas de encaminamiento del router n1 a efectos de ver por cuál camino se enruta el mensaje anterior. Utilice el comando traceroute desde el icono 1—2 del aplicativo para dibujar la ruta en el diagrama.\n",
    "   \n",
    "   4. Con el comando iptables neutralice el forwarding que se efectúa en el router n2 o n3 que encamina hacia n10. Observe el resultado.\n",
    "   \n",
    "   5. Agregue en el router n1 y en el opuesto (n2 o n3) en diagonal al anterior las rutas necesarias para lograr nuevamente el encaminamiento realizado en 1.\n",
    "   \n",
    "   \n",
    "![](images/pto10.png)"
   ]
  },
  {
   "cell_type": "code",
   "execution_count": null,
   "metadata": {
    "collapsed": true
   },
   "outputs": [],
   "source": []
  }
 ],
 "metadata": {
  "kernelspec": {
   "display_name": "Python 2",
   "language": "python",
   "name": "python2"
  },
  "language_info": {
   "codemirror_mode": {
    "name": "ipython",
    "version": 2
   },
   "file_extension": ".py",
   "mimetype": "text/x-python",
   "name": "python",
   "nbconvert_exporter": "python",
   "pygments_lexer": "ipython2",
   "version": "2.7.12"
  }
 },
 "nbformat": 4,
 "nbformat_minor": 2
}
